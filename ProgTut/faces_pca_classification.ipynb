{
 "cells": [
  {
   "cell_type": "code",
   "execution_count": null,
   "id": "c2da6eab",
   "metadata": {},
   "outputs": [],
   "source": []
  }
 ],
 "metadata": {
  "kernelspec": {
   "display_name": "Python 3.9.0 64-bit ('progtut-FStze830': pipenv)",
   "language": "python",
   "name": "python390jvsc74a57bd0fcb6ea7ac7e3cdf50f848afb216115a387a89e3f660b47e4072897eafb83adfb"
  },
  "language_info": {
   "codemirror_mode": {
    "name": "ipython",
    "version": 3
   },
   "file_extension": ".py",
   "mimetype": "text/x-python",
   "name": "python",
   "nbconvert_exporter": "python",
   "pygments_lexer": "ipython3",
   "version": "3.9.0"
  }
 },
 "nbformat": 4,
 "nbformat_minor": 5
}

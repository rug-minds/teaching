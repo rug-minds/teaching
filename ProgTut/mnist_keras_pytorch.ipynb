{
 "cells": [
  {
   "cell_type": "code",
   "execution_count": 1,
   "metadata": {},
   "outputs": [],
   "source": [
    "import numpy as np\n",
    "import tensorflow as tf\n",
    "import sklearn\n",
    "import sklearn.linear_model\n",
    "import sklearn.neural_network\n",
    "import matplotlib.pyplot as plt\n",
    "import time \n",
    "import torch"
   ]
  },
  {
   "cell_type": "code",
   "execution_count": 2,
   "metadata": {},
   "outputs": [],
   "source": [
    "(x_train, y_train), (x_test, y_test) = tf.keras.datasets.mnist.load_data()"
   ]
  },
  {
   "cell_type": "code",
   "execution_count": 3,
   "metadata": {},
   "outputs": [
    {
     "data": {
      "text/plain": [
       "(60000, 28, 28)"
      ]
     },
     "execution_count": 3,
     "metadata": {},
     "output_type": "execute_result"
    }
   ],
   "source": [
    "x_train.shape"
   ]
  },
  {
   "cell_type": "code",
   "execution_count": 4,
   "metadata": {},
   "outputs": [
    {
     "data": {
      "text/plain": [
       "(60000,)"
      ]
     },
     "execution_count": 4,
     "metadata": {},
     "output_type": "execute_result"
    }
   ],
   "source": [
    "y_train.shape"
   ]
  },
  {
   "cell_type": "code",
   "execution_count": 40,
   "metadata": {},
   "outputs": [
    {
     "data": {
      "image/png": "[encoded data removed]",
      "text/plain": [
       "<Figure size 640x480 with 1 Axes>"
      ]
     },
     "metadata": {},
     "output_type": "display_data"
    }
   ],
   "source": [
    "plt.imshow(x_train[40000], cmap='gray');"
   ]
  },
  {
   "cell_type": "code",
   "execution_count": 6,
   "metadata": {},
   "outputs": [
    {
     "data": {
      "text/plain": [
       "(255, 0)"
      ]
     },
     "execution_count": 6,
     "metadata": {},
     "output_type": "execute_result"
    }
   ],
   "source": [
    "x_train.max(), x_train.min()"
   ]
  },
  {
   "cell_type": "code",
   "execution_count": 7,
   "metadata": {},
   "outputs": [],
   "source": [
    "x_train = x_train / 255.\n",
    "x_test = x_test / 255."
   ]
  },
  {
   "cell_type": "markdown",
   "metadata": {},
   "source": [
    "Flatten images into vectors"
   ]
  },
  {
   "cell_type": "code",
   "execution_count": 8,
   "metadata": {},
   "outputs": [],
   "source": [
    "x_trainf = x_train.reshape(-1, 28*28)\n",
    "x_testf = x_test.reshape(-1, 28*28)"
   ]
  },
  {
   "attachments": {},
   "cell_type": "markdown",
   "metadata": {},
   "source": [
    "## Baseline: linear classifier"
   ]
  },
  {
   "cell_type": "code",
   "execution_count": 9,
   "metadata": {},
   "outputs": [],
   "source": [
    "lr = sklearn.linear_model.LogisticRegression(solver='saga', tol=0.1)\n",
    "lr = lr.fit(x_trainf, y_train)"
   ]
  },
  {
   "cell_type": "code",
   "execution_count": 10,
   "metadata": {},
   "outputs": [
    {
     "name": "stdout",
     "output_type": "stream",
     "text": [
      "train: 0.92975\n",
      "test: 0.9246\n"
     ]
    }
   ],
   "source": [
    "print(f'train: {lr.score(x_trainf, y_train)}')\n",
    "print(f'test: {lr.score(x_testf, y_test)}')"
   ]
  },
  {
   "cell_type": "code",
   "execution_count": 11,
   "metadata": {},
   "outputs": [],
   "source": [
    "y_pred_train = lr.predict(x_trainf)\n",
    "y_pred_test = lr.predict(x_testf)"
   ]
  },
  {
   "cell_type": "code",
   "execution_count": 12,
   "metadata": {},
   "outputs": [
    {
     "data": {
      "text/plain": [
       "0.9246"
      ]
     },
     "execution_count": 12,
     "metadata": {},
     "output_type": "execute_result"
    }
   ],
   "source": [
    "np.sum(y_pred_test == y_test) / y_test.shape[0]"
   ]
  },
  {
   "cell_type": "code",
   "execution_count": 13,
   "metadata": {},
   "outputs": [
    {
     "data": {
      "text/plain": [
       "0.92975"
      ]
     },
     "execution_count": 13,
     "metadata": {},
     "output_type": "execute_result"
    }
   ],
   "source": [
    "np.sum(y_pred_train == y_train) / y_train.shape[0]"
   ]
  },
  {
   "attachments": {},
   "cell_type": "markdown",
   "metadata": {},
   "source": [
    "## MLP in sklearn"
   ]
  },
  {
   "cell_type": "code",
   "execution_count": 14,
   "metadata": {},
   "outputs": [],
   "source": [
    "net_skl = sklearn.neural_network.MLPClassifier(\n",
    "    hidden_layer_sizes=(128, ), activation='relu', solver='sgd',\n",
    "    tol=1e-2, max_iter=100,\n",
    "    early_stopping=True\n",
    ")\n",
    "net_skl = net_skl.fit(x_trainf, y_train)"
   ]
  },
  {
   "cell_type": "code",
   "execution_count": 15,
   "metadata": {},
   "outputs": [
    {
     "name": "stdout",
     "output_type": "stream",
     "text": [
      "train: 0.9169833333333334\n",
      "test: 0.9218\n"
     ]
    }
   ],
   "source": [
    "print(f'train: {net_skl.score(x_trainf, y_train)}')\n",
    "print(f'test: {net_skl.score(x_testf, y_test)}')"
   ]
  },
  {
   "cell_type": "code",
   "execution_count": 16,
   "metadata": {},
   "outputs": [],
   "source": [
    "net_skl = sklearn.neural_network.MLPClassifier(\n",
    "    hidden_layer_sizes=(128, 128, ), activation='relu', solver='sgd',\n",
    "    tol=1e-2, max_iter=100,\n",
    "    early_stopping=True\n",
    ")\n",
    "net_skl = net_skl.fit(x_trainf, y_train)"
   ]
  },
  {
   "cell_type": "code",
   "execution_count": 17,
   "metadata": {},
   "outputs": [
    {
     "name": "stdout",
     "output_type": "stream",
     "text": [
      "train: 0.9294\n",
      "test: 0.9313\n"
     ]
    }
   ],
   "source": [
    "print(f'train: {net_skl.score(x_trainf, y_train)}')\n",
    "print(f'test: {net_skl.score(x_testf, y_test)}')"
   ]
  },
  {
   "attachments": {},
   "cell_type": "markdown",
   "metadata": {},
   "source": [
    "## MLP in keras"
   ]
  },
  {
   "cell_type": "code",
   "execution_count": 18,
   "metadata": {},
   "outputs": [],
   "source": [
    "y_trainv = tf.keras.utils.to_categorical(y_train)\n",
    "y_testv = tf.keras.utils.to_categorical(y_test)"
   ]
  },
  {
   "cell_type": "code",
   "execution_count": null,
   "metadata": {},
   "outputs": [],
   "source": [
    "net_ker = tf.keras.Sequential([\n",
    "    tf.keras.layers.Dense(256, activation='relu', input_shape=(28 * 28,)),\n",
    "    tf.keras.layers.Dense(256, activation='relu'),\n",
    "    tf.keras.layers.Dense(10, activation='softmax'),\n",
    "])\n",
    "net_ker.compile(\n",
    "    optimizer=tf.keras.optimizers.RMSprop(),\n",
    "    loss='categorical_crossentropy',\n",
    "    metrics=['mse', 'accuracy']\n",
    ")\n",
    "early_stopping_callback = tf.keras.callbacks.EarlyStopping(monitor='mse', patience=20)\n",
    "tensorboard_callback = tf.keras.callbacks.TensorBoard(log_dir=\"./logs\")"
   ]
  },
  {
   "cell_type": "code",
   "execution_count": 20,
   "metadata": {},
   "outputs": [
    {
     "name": "stdout",
     "output_type": "stream",
     "text": [
      "Epoch 1/20\n"
     ]
    },
    {
     "name": "stderr",
     "output_type": "stream",
     "text": [
      "2024-05-13 12:13:51.263791: W tensorflow/tsl/platform/profile_utils/cpu_utils.cc:128] Failed to get CPU frequency: 0 Hz\n"
     ]
    },
    {
     "name": "stdout",
     "output_type": "stream",
     "text": [
      "469/469 [==============================] - 8s 17ms/step - loss: 0.2482 - mse: 0.0113 - accuracy: 0.9254 - val_loss: 0.1610 - val_mse: 0.0078 - val_accuracy: 0.9489\n",
      "Epoch 2/20\n",
      "469/469 [==============================] - 8s 16ms/step - loss: 0.0935 - mse: 0.0044 - accuracy: 0.9711 - val_loss: 0.0833 - val_mse: 0.0039 - val_accuracy: 0.9747\n",
      "Epoch 3/20\n",
      "469/469 [==============================] - 8s 16ms/step - loss: 0.0635 - mse: 0.0030 - accuracy: 0.9812 - val_loss: 0.0755 - val_mse: 0.0036 - val_accuracy: 0.9768\n",
      "Epoch 4/20\n",
      "469/469 [==============================] - 8s 16ms/step - loss: 0.0463 - mse: 0.0022 - accuracy: 0.9856 - val_loss: 0.0737 - val_mse: 0.0032 - val_accuracy: 0.9794\n",
      "Epoch 5/20\n",
      "469/469 [==============================] - 8s 16ms/step - loss: 0.0355 - mse: 0.0017 - accuracy: 0.9887 - val_loss: 0.0758 - val_mse: 0.0035 - val_accuracy: 0.9775\n",
      "Epoch 6/20\n",
      "469/469 [==============================] - 8s 16ms/step - loss: 0.0280 - mse: 0.0014 - accuracy: 0.9909 - val_loss: 0.0855 - val_mse: 0.0038 - val_accuracy: 0.9750\n",
      "Epoch 7/20\n",
      "469/469 [==============================] - 8s 16ms/step - loss: 0.0223 - mse: 0.0011 - accuracy: 0.9926 - val_loss: 0.0788 - val_mse: 0.0031 - val_accuracy: 0.9806\n",
      "Epoch 8/20\n",
      "469/469 [==============================] - 8s 16ms/step - loss: 0.0174 - mse: 8.7737e-04 - accuracy: 0.9945 - val_loss: 0.0783 - val_mse: 0.0032 - val_accuracy: 0.9798\n",
      "Epoch 9/20\n",
      "469/469 [==============================] - 8s 16ms/step - loss: 0.0139 - mse: 6.9070e-04 - accuracy: 0.9956 - val_loss: 0.0890 - val_mse: 0.0033 - val_accuracy: 0.9806\n",
      "Epoch 10/20\n",
      "469/469 [==============================] - 8s 16ms/step - loss: 0.0124 - mse: 5.8148e-04 - accuracy: 0.9963 - val_loss: 0.0952 - val_mse: 0.0032 - val_accuracy: 0.9807\n",
      "Epoch 11/20\n",
      "469/469 [==============================] - 8s 16ms/step - loss: 0.0103 - mse: 5.4302e-04 - accuracy: 0.9966 - val_loss: 0.1044 - val_mse: 0.0032 - val_accuracy: 0.9808\n",
      "Epoch 12/20\n",
      "469/469 [==============================] - 8s 16ms/step - loss: 0.0082 - mse: 4.2295e-04 - accuracy: 0.9973 - val_loss: 0.1160 - val_mse: 0.0034 - val_accuracy: 0.9789\n",
      "Epoch 13/20\n",
      "469/469 [==============================] - 8s 16ms/step - loss: 0.0090 - mse: 4.4852e-04 - accuracy: 0.9970 - val_loss: 0.1075 - val_mse: 0.0032 - val_accuracy: 0.9814\n",
      "Epoch 14/20\n",
      "469/469 [==============================] - 8s 16ms/step - loss: 0.0063 - mse: 3.2237e-04 - accuracy: 0.9979 - val_loss: 0.1123 - val_mse: 0.0032 - val_accuracy: 0.9821\n",
      "Epoch 15/20\n",
      "469/469 [==============================] - 8s 16ms/step - loss: 0.0054 - mse: 2.7875e-04 - accuracy: 0.9982 - val_loss: 0.1166 - val_mse: 0.0033 - val_accuracy: 0.9810\n",
      "Epoch 16/20\n",
      "469/469 [==============================] - 8s 16ms/step - loss: 0.0057 - mse: 2.8200e-04 - accuracy: 0.9981 - val_loss: 0.1175 - val_mse: 0.0031 - val_accuracy: 0.9821\n",
      "Epoch 17/20\n",
      "469/469 [==============================] - 8s 16ms/step - loss: 0.0050 - mse: 2.6187e-04 - accuracy: 0.9982 - val_loss: 0.1370 - val_mse: 0.0030 - val_accuracy: 0.9833\n",
      "Epoch 18/20\n",
      "469/469 [==============================] - 8s 17ms/step - loss: 0.0053 - mse: 2.3678e-04 - accuracy: 0.9986 - val_loss: 0.1403 - val_mse: 0.0030 - val_accuracy: 0.9830\n",
      "Epoch 19/20\n",
      "469/469 [==============================] - 8s 16ms/step - loss: 0.0043 - mse: 2.0726e-04 - accuracy: 0.9987 - val_loss: 0.1359 - val_mse: 0.0032 - val_accuracy: 0.9823\n",
      "Epoch 20/20\n",
      "469/469 [==============================] - 8s 16ms/step - loss: 0.0041 - mse: 1.9132e-04 - accuracy: 0.9987 - val_loss: 0.1401 - val_mse: 0.0032 - val_accuracy: 0.9817\n"
     ]
    }
   ],
   "source": [
    "history = net_ker.fit(\n",
    "    x_trainf, y_trainv,\n",
    "    batch_size=128,\n",
    "    epochs=20,\n",
    "    validation_data=(x_testf, y_testv),\n",
    "    callbacks=[early_stopping_callback, tensorboard_callback],\n",
    ")"
   ]
  },
  {
   "attachments": {},
   "cell_type": "markdown",
   "metadata": {},
   "source": [
    "## CNN in Keras"
   ]
  },
  {
   "cell_type": "code",
   "execution_count": 21,
   "metadata": {},
   "outputs": [
    {
     "data": {
      "text/plain": [
       "(60000, 28, 28)"
      ]
     },
     "execution_count": 21,
     "metadata": {},
     "output_type": "execute_result"
    }
   ],
   "source": [
    "x_train.shape"
   ]
  },
  {
   "cell_type": "code",
   "execution_count": 22,
   "metadata": {},
   "outputs": [
    {
     "data": {
      "text/plain": [
       "((60000, 28, 28, 1), (10000, 28, 28, 1))"
      ]
     },
     "execution_count": 22,
     "metadata": {},
     "output_type": "execute_result"
    }
   ],
   "source": [
    "x_trainc = x_train.reshape((*x_train.shape, 1))\n",
    "x_testc = x_test.reshape((*x_test.shape, 1))\n",
    "x_trainc.shape, x_testc.shape"
   ]
  },
  {
   "cell_type": "code",
   "execution_count": 23,
   "metadata": {},
   "outputs": [
    {
     "name": "stderr",
     "output_type": "stream",
     "text": [
      "WARNING:absl:At this time, the v2.11+ optimizer `tf.keras.optimizers.RMSprop` runs slowly on M1/M2 Macs, please use the legacy Keras optimizer instead, located at `tf.keras.optimizers.legacy.RMSprop`.\n",
      "WARNING:absl:There is a known slowdown when using v2.11+ Keras optimizers on M1/M2 Macs. Falling back to the legacy Keras optimizer, i.e., `tf.keras.optimizers.legacy.RMSprop`.\n"
     ]
    }
   ],
   "source": [
    "cnn_ker = tf.keras.Sequential([\n",
    "    tf.keras.layers.Conv2D(32, kernel_size=(3, 3), activation='relu', input_shape=(28,28,1)),\n",
    "    tf.keras.layers.Conv2D(64, (3, 3), activation='relu'),\n",
    "    tf.keras.layers.MaxPooling2D(pool_size=(2, 2)),\n",
    "    tf.keras.layers.Dropout(0.25),\n",
    "    tf.keras.layers.Flatten(),\n",
    "    tf.keras.layers.Dense(128, activation='relu'),\n",
    "    tf.keras.layers.Dropout(0.5),\n",
    "    tf.keras.layers.Dense(10, activation='softmax')\n",
    "])\n",
    "cnn_ker.compile(\n",
    "    optimizer=tf.keras.optimizers.RMSprop(),\n",
    "    loss=tf.keras.losses.categorical_crossentropy,\n",
    "    metrics=['mse', 'accuracy']\n",
    ")\n",
    "early_stopping_callback = tf.keras.callbacks.EarlyStopping(monitor='mse', patience=20)\n",
    "tensorboard_callback = tf.keras.callbacks.TensorBoard(log_dir=\"./logs\")"
   ]
  },
  {
   "cell_type": "code",
   "execution_count": 24,
   "metadata": {},
   "outputs": [
    {
     "name": "stdout",
     "output_type": "stream",
     "text": [
      "Model: \"sequential_1\"\n",
      "_________________________________________________________________\n",
      " Layer (type)                Output Shape              Param #   \n",
      "=================================================================\n",
      " conv2d (Conv2D)             (None, 26, 26, 32)        320       \n",
      "                                                                 \n",
      " conv2d_1 (Conv2D)           (None, 24, 24, 64)        18496     \n",
      "                                                                 \n",
      " max_pooling2d (MaxPooling2D  (None, 12, 12, 64)       0         \n",
      " )                                                               \n",
      "                                                                 \n",
      " dropout (Dropout)           (None, 12, 12, 64)        0         \n",
      "                                                                 \n",
      " flatten (Flatten)           (None, 9216)              0         \n",
      "                                                                 \n",
      " dense_3 (Dense)             (None, 128)               1179776   \n",
      "                                                                 \n",
      " dropout_1 (Dropout)         (None, 128)               0         \n",
      "                                                                 \n",
      " dense_4 (Dense)             (None, 10)                1290      \n",
      "                                                                 \n",
      "=================================================================\n",
      "Total params: 1,199,882\n",
      "Trainable params: 1,199,882\n",
      "Non-trainable params: 0\n",
      "_________________________________________________________________\n",
      "None\n"
     ]
    }
   ],
   "source": [
    "print(cnn_ker.summary())"
   ]
  },
  {
   "cell_type": "code",
   "execution_count": 25,
   "metadata": {},
   "outputs": [
    {
     "name": "stdout",
     "output_type": "stream",
     "text": [
      "Epoch 1/10\n"
     ]
    },
    {
     "name": "stderr",
     "output_type": "stream",
     "text": [
      "loc(\"mps_select\"(\"(mpsFileLoc): /AppleInternal/Library/BuildRoots/0032d1ee-80fd-11ee-8227-6aecfccc70fe/Library/Caches/com.apple.xbs/Sources/MetalPerformanceShadersGraph/mpsgraph/MetalPerformanceShadersGraph/Core/Files/MPSGraphUtilities.mm\":294:0)): error: 'anec.gain_offset_control' op result #0 must be 4D/5D memref of 16-bit float or 8-bit signed integer or 8-bit unsigned integer values, but got 'memref<128x12x12x64xi1>'\n",
      "loc(\"mps_select\"(\"(mpsFileLoc): /AppleInternal/Library/BuildRoots/0032d1ee-80fd-11ee-8227-6aecfccc70fe/Library/Caches/com.apple.xbs/Sources/MetalPerformanceShadersGraph/mpsgraph/MetalPerformanceShadersGraph/Core/Files/MPSGraphUtilities.mm\":294:0)): error: 'anec.gain_offset_control' op result #0 must be 4D/5D memref of 16-bit float or 8-bit signed integer or 8-bit unsigned integer values, but got 'memref<1x128x1x128xi1>'\n",
      "loc(\"mps_select\"(\"(mpsFileLoc): /AppleInternal/Library/BuildRoots/0032d1ee-80fd-11ee-8227-6aecfccc70fe/Library/Caches/com.apple.xbs/Sources/MetalPerformanceShadersGraph/mpsgraph/MetalPerformanceShadersGraph/Core/Files/MPSGraphUtilities.mm\":294:0)): error: 'anec.gain_offset_control' op result #0 must be 4D/5D memref of 16-bit float or 8-bit signed integer or 8-bit unsigned integer values, but got 'memref<1x128x1x128xi1>'\n",
      "loc(\"mps_select\"(\"(mpsFileLoc): /AppleInternal/Library/BuildRoots/0032d1ee-80fd-11ee-8227-6aecfccc70fe/Library/Caches/com.apple.xbs/Sources/MetalPerformanceShadersGraph/mpsgraph/MetalPerformanceShadersGraph/Core/Files/MPSGraphUtilities.mm\":294:0)): error: 'anec.gain_offset_control' op result #0 must be 4D/5D memref of 16-bit float or 8-bit signed integer or 8-bit unsigned integer values, but got 'memref<128x12x12x64xi1>'\n"
     ]
    },
    {
     "name": "stdout",
     "output_type": "stream",
     "text": [
      "469/469 [==============================] - 10s 21ms/step - loss: 0.2034 - mse: 0.0090 - accuracy: 0.9391\n",
      "Epoch 2/10\n",
      "  1/469 [..............................] - ETA: 10s - loss: 0.0681 - mse: 0.0034 - accuracy: 0.9766"
     ]
    },
    {
     "name": "stderr",
     "output_type": "stream",
     "text": [
      "loc(\"mps_select\"(\"(mpsFileLoc): /AppleInternal/Library/BuildRoots/0032d1ee-80fd-11ee-8227-6aecfccc70fe/Library/Caches/com.apple.xbs/Sources/MetalPerformanceShadersGraph/mpsgraph/MetalPerformanceShadersGraph/Core/Files/MPSGraphUtilities.mm\":294:0)): error: 'anec.gain_offset_control' op result #0 must be 4D/5D memref of 16-bit float or 8-bit signed integer or 8-bit unsigned integer values, but got 'memref<96x12x12x64xi1>'\n",
      "loc(\"mps_select\"(\"(mpsFileLoc): /AppleInternal/Library/BuildRoots/0032d1ee-80fd-11ee-8227-6aecfccc70fe/Library/Caches/com.apple.xbs/Sources/MetalPerformanceShadersGraph/mpsgraph/MetalPerformanceShadersGraph/Core/Files/MPSGraphUtilities.mm\":294:0)): error: 'anec.gain_offset_control' op result #0 must be 4D/5D memref of 16-bit float or 8-bit signed integer or 8-bit unsigned integer values, but got 'memref<1x96x1x128xi1>'\n",
      "loc(\"mps_select\"(\"(mpsFileLoc): /AppleInternal/Library/BuildRoots/0032d1ee-80fd-11ee-8227-6aecfccc70fe/Library/Caches/com.apple.xbs/Sources/MetalPerformanceShadersGraph/mpsgraph/MetalPerformanceShadersGraph/Core/Files/MPSGraphUtilities.mm\":294:0)): error: 'anec.gain_offset_control' op result #0 must be 4D/5D memref of 16-bit float or 8-bit signed integer or 8-bit unsigned integer values, but got 'memref<1x96x1x128xi1>'\n",
      "loc(\"mps_select\"(\"(mpsFileLoc): /AppleInternal/Library/BuildRoots/0032d1ee-80fd-11ee-8227-6aecfccc70fe/Library/Caches/com.apple.xbs/Sources/MetalPerformanceShadersGraph/mpsgraph/MetalPerformanceShadersGraph/Core/Files/MPSGraphUtilities.mm\":294:0)): error: 'anec.gain_offset_control' op result #0 must be 4D/5D memref of 16-bit float or 8-bit signed integer or 8-bit unsigned integer values, but got 'memref<96x12x12x64xi1>'\n"
     ]
    },
    {
     "name": "stdout",
     "output_type": "stream",
     "text": [
      "469/469 [==============================] - 10s 20ms/step - loss: 0.0684 - mse: 0.0031 - accuracy: 0.9799\n",
      "Epoch 3/10\n",
      "469/469 [==============================] - 10s 20ms/step - loss: 0.0520 - mse: 0.0024 - accuracy: 0.9845\n",
      "Epoch 4/10\n",
      "469/469 [==============================] - 10s 20ms/step - loss: 0.0415 - mse: 0.0019 - accuracy: 0.9872\n",
      "Epoch 5/10\n",
      "469/469 [==============================] - 10s 20ms/step - loss: 0.0368 - mse: 0.0017 - accuracy: 0.9887\n",
      "Epoch 6/10\n",
      "469/469 [==============================] - 10s 20ms/step - loss: 0.0333 - mse: 0.0015 - accuracy: 0.9900\n",
      "Epoch 7/10\n",
      "469/469 [==============================] - 9s 20ms/step - loss: 0.0296 - mse: 0.0014 - accuracy: 0.9910\n",
      "Epoch 8/10\n",
      "469/469 [==============================] - 9s 20ms/step - loss: 0.0276 - mse: 0.0013 - accuracy: 0.9919\n",
      "Epoch 9/10\n",
      "469/469 [==============================] - 9s 20ms/step - loss: 0.0257 - mse: 0.0012 - accuracy: 0.9924\n",
      "Epoch 10/10\n",
      "469/469 [==============================] - 9s 20ms/step - loss: 0.0257 - mse: 0.0012 - accuracy: 0.9921\n"
     ]
    }
   ],
   "source": [
    "history = cnn_ker.fit(\n",
    "    x_trainc, y_trainv,\n",
    "    batch_size=128,\n",
    "    epochs=10,\n",
    "    callbacks=[early_stopping_callback, tensorboard_callback],\n",
    ")"
   ]
  },
  {
   "attachments": {},
   "cell_type": "markdown",
   "metadata": {},
   "source": [
    "## MLP in PyTorch"
   ]
  },
  {
   "cell_type": "code",
   "execution_count": 26,
   "metadata": {},
   "outputs": [],
   "source": [
    "x_train = torch.from_numpy(x_train)\n",
    "x_test = torch.from_numpy(x_test)\n",
    "y_train = torch.from_numpy(y_train)\n",
    "y_test = torch.from_numpy(y_test)"
   ]
  },
  {
   "cell_type": "code",
   "execution_count": 27,
   "metadata": {},
   "outputs": [],
   "source": [
    "class MyDataset(torch.utils.data.Dataset):\n",
    "    def __init__(self, X, Y):\n",
    "        self.X = X\n",
    "        self.Y = Y\n",
    "\n",
    "    def __len__(self):\n",
    "        return len(self.Y)\n",
    "\n",
    "    def __getitem__(self,index):\n",
    "        X = self.X[index].float().reshape(-1)  # flatten input to 1D\n",
    "        Y = self.Y[index].long()\n",
    "        return X,Y"
   ]
  },
  {
   "cell_type": "code",
   "execution_count": 28,
   "metadata": {},
   "outputs": [],
   "source": [
    "num_workers = 8 if torch.cuda.is_available() else 0 \n",
    "\n",
    "if torch.cuda.is_available():\n",
    "    loader_args = dict(shuffle=True, batch_size=256, num_workers=num_workers, pin_memory=True)\n",
    "else:\n",
    "    loader_args = dict(shuffle=True, batch_size=64)\n",
    "\n",
    "train_dataset = MyDataset(x_train, y_train)\n",
    "train_loader = torch.utils.data.DataLoader(train_dataset, **loader_args)\n",
    "\n",
    "test_dataset = MyDataset(x_test, y_test)\n",
    "test_loader = torch.utils.data.DataLoader(test_dataset, **loader_args)"
   ]
  },
  {
   "cell_type": "code",
   "execution_count": 29,
   "metadata": {},
   "outputs": [],
   "source": [
    "class SimpleMLP(torch.nn.Module):\n",
    "    def __init__(self, size_list):\n",
    "        super(SimpleMLP, self).__init__()\n",
    "        self.size_list = size_list\n",
    "        layers = []\n",
    "        for i in range(len(size_list) - 2):\n",
    "            layers.append(torch.nn.Linear(size_list[i], size_list[i+1]))\n",
    "            layers.append(torch.nn.ReLU())\n",
    "        layers.append(torch.nn.Linear(size_list[-2], size_list[-1]))\n",
    "        self.net = torch.nn.Sequential(*layers)\n",
    "\n",
    "    def forward(self, x):\n",
    "        return self.net(x)"
   ]
  },
  {
   "attachments": {},
   "cell_type": "markdown",
   "metadata": {},
   "source": [
    "Alternatively, you can use a similar syntax to Keras, using the `torch.nn.Sequential` class directly (less flexible, but more concise code):"
   ]
  },
  {
   "cell_type": "code",
   "execution_count": 30,
   "metadata": {},
   "outputs": [],
   "source": [
    "# net = torch.nn.Sequential(\n",
    "#     torch.nn.Linear(32,128),\n",
    "#     torch.nn.Sigmoid(),\n",
    "#     torch.nn.Linear(128,10)\n",
    "# )"
   ]
  },
  {
   "cell_type": "code",
   "execution_count": 31,
   "metadata": {},
   "outputs": [
    {
     "name": "stdout",
     "output_type": "stream",
     "text": [
      "SimpleMLP(\n",
      "  (net): Sequential(\n",
      "    (0): Linear(in_features=784, out_features=256, bias=True)\n",
      "    (1): ReLU()\n",
      "    (2): Linear(in_features=256, out_features=10, bias=True)\n",
      "  )\n",
      ")\n"
     ]
    }
   ],
   "source": [
    "model = SimpleMLP([784, 256, 10])\n",
    "device = torch.device(\"cuda\" if torch.cuda.is_available() else \"cpu\")  # mps\n",
    "model.to(device)\n",
    "print(model)"
   ]
  },
  {
   "cell_type": "code",
   "execution_count": 32,
   "metadata": {},
   "outputs": [],
   "source": [
    "criterion = torch.nn.CrossEntropyLoss()\n",
    "optimizer = torch.optim.Adam(model.parameters())"
   ]
  },
  {
   "cell_type": "code",
   "execution_count": 33,
   "metadata": {},
   "outputs": [],
   "source": [
    "def train_epoch(model, train_loader, criterion, optimizer):\n",
    "    model.train()\n",
    "\n",
    "    running_loss = 0.0\n",
    "    \n",
    "    start_time = time.time()\n",
    "    for batch_idx, (data, target) in enumerate(train_loader):   \n",
    "        optimizer.zero_grad()   # .backward() accumulates gradients\n",
    "        data = data.to(device)\n",
    "        target = target.to(device) # all data & model on same device\n",
    "\n",
    "        outputs = model(data)\n",
    "        loss = criterion(outputs, target)\n",
    "        running_loss += loss.item()\n",
    "\n",
    "        loss.backward()\n",
    "        optimizer.step()\n",
    "    \n",
    "    end_time = time.time()\n",
    "    \n",
    "    running_loss /= len(train_loader)\n",
    "    print('Training Loss: ', running_loss, 'Time: ',end_time - start_time, 's')\n",
    "    return running_loss"
   ]
  },
  {
   "cell_type": "code",
   "execution_count": 34,
   "metadata": {},
   "outputs": [],
   "source": [
    "def test_model(model, test_loader, criterion):\n",
    "    with torch.no_grad():\n",
    "        model.eval()\n",
    "\n",
    "        running_loss = 0.0\n",
    "        total_predictions = 0.0\n",
    "        correct_predictions = 0.0\n",
    "\n",
    "        for batch_idx, (data, target) in enumerate(test_loader):   \n",
    "            data = data.to(device)\n",
    "            target = target.to(device)\n",
    "\n",
    "            outputs = model(data)\n",
    "\n",
    "            _, predicted = torch.max(outputs.data, 1)\n",
    "            total_predictions += target.size(0)\n",
    "            correct_predictions += (predicted == target).sum().item()\n",
    "\n",
    "            loss = criterion(outputs, target).detach()\n",
    "            running_loss += loss.item()\n",
    "\n",
    "        running_loss /= len(test_loader)\n",
    "        acc = (correct_predictions/total_predictions)*100.0\n",
    "        print('Testing Loss: ', running_loss)\n",
    "        print('Testing Accuracy: ', acc, '%')\n",
    "        return running_loss, acc"
   ]
  },
  {
   "cell_type": "code",
   "execution_count": 35,
   "metadata": {},
   "outputs": [
    {
     "name": "stdout",
     "output_type": "stream",
     "text": [
      "Training Loss:  0.30055577286493296 Time:  1.5794861316680908 s\n",
      "Testing Loss:  0.1558351881066515\n",
      "Testing Accuracy:  95.25 %\n",
      "====================\n",
      "Training Loss:  0.12722818173968525 Time:  1.5442121028900146 s\n",
      "Testing Loss:  0.09947338892491\n",
      "Testing Accuracy:  96.89 %\n",
      "====================\n",
      "Training Loss:  0.08383600274299476 Time:  1.5244948863983154 s\n",
      "Testing Loss:  0.08484882850105026\n",
      "Testing Accuracy:  97.3 %\n",
      "====================\n",
      "Training Loss:  0.06067873206215976 Time:  1.5405359268188477 s\n",
      "Testing Loss:  0.0748838320238053\n",
      "Testing Accuracy:  97.64 %\n",
      "====================\n",
      "Training Loss:  0.04563170118999085 Time:  1.551332712173462 s\n",
      "Testing Loss:  0.07311532071607697\n",
      "Testing Accuracy:  97.69 %\n",
      "====================\n",
      "Training Loss:  0.03482410960509551 Time:  1.5795707702636719 s\n",
      "Testing Loss:  0.06859174194808006\n",
      "Testing Accuracy:  97.87 %\n",
      "====================\n",
      "Training Loss:  0.027874083903522345 Time:  1.5456409454345703 s\n",
      "Testing Loss:  0.0738099695637134\n",
      "Testing Accuracy:  97.72999999999999 %\n",
      "====================\n",
      "Training Loss:  0.021041945922799083 Time:  1.5657978057861328 s\n",
      "Testing Loss:  0.06561093809673338\n",
      "Testing Accuracy:  97.86 %\n",
      "====================\n",
      "Training Loss:  0.01625033768798301 Time:  1.598541021347046 s\n",
      "Testing Loss:  0.06665370536925105\n",
      "Testing Accuracy:  97.92 %\n",
      "====================\n",
      "Training Loss:  0.01340721211988039 Time:  1.55476975440979 s\n",
      "Testing Loss:  0.06910130814100456\n",
      "Testing Accuracy:  97.96000000000001 %\n",
      "====================\n"
     ]
    }
   ],
   "source": [
    "n_epochs = 10\n",
    "Train_loss = []\n",
    "Test_loss = []\n",
    "Test_acc = []\n",
    "\n",
    "for i in range(n_epochs):\n",
    "    train_loss = train_epoch(model, train_loader, criterion, optimizer)\n",
    "    test_loss, test_acc = test_model(model, test_loader, criterion)\n",
    "    Train_loss.append(train_loss)\n",
    "    Test_loss.append(test_loss)\n",
    "    Test_acc.append(test_acc)\n",
    "    print('='*20)"
   ]
  },
  {
   "cell_type": "code",
   "execution_count": 36,
   "metadata": {},
   "outputs": [
    {
     "data": {
      "image/png": "[encoded data removed]",
      "text/plain": [
       "<Figure size 640x480 with 1 Axes>"
      ]
     },
     "metadata": {},
     "output_type": "display_data"
    }
   ],
   "source": [
    "# plt.title('Training Loss')\n",
    "plt.xlabel('Epoch Number')\n",
    "plt.ylabel('Loss')\n",
    "plt.plot(Train_loss, label='train')\n",
    "plt.plot(Test_loss, label='test')\n",
    "plt.legend();"
   ]
  },
  {
   "cell_type": "code",
   "execution_count": 37,
   "metadata": {},
   "outputs": [
    {
     "data": {
      "image/png": "[encoded data removed]",
      "text/plain": [
       "<Figure size 640x480 with 1 Axes>"
      ]
     },
     "metadata": {},
     "output_type": "display_data"
    }
   ],
   "source": [
    "plt.title('Test Accuracy')\n",
    "plt.xlabel('Epoch Number')\n",
    "plt.ylabel('Accuracy (%)')\n",
    "plt.plot(Test_acc);"
   ]
  }
 ],
 "metadata": {
  "interpreter": {
   "hash": "d9d41da3d759eab0d4ebf46483aa2525ee9e8e52c6441d9f13cc168fd5745a39"
  },
  "kernelspec": {
   "display_name": "Python 3.8.10 ('teaching-kL1iKbCK')",
   "language": "python",
   "name": "python3"
  },
  "language_info": {
   "codemirror_mode": {
    "name": "ipython",
    "version": 3
   },
   "file_extension": ".py",
   "mimetype": "text/x-python",
   "name": "python",
   "nbconvert_exporter": "python",
   "pygments_lexer": "ipython3",
   "version": "3.10.10"
  },
  "orig_nbformat": 4
 },
 "nbformat": 4,
 "nbformat_minor": 2
}

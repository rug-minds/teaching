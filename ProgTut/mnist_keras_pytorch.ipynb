{
 "cells": [
  {
   "cell_type": "code",
   "execution_count": 2,
   "metadata": {},
   "outputs": [
    {
     "name": "stderr",
     "output_type": "stream",
     "text": [
      "/Users/steve/.local/share/virtualenvs/teaching-kL1iKbCK/lib/python3.8/site-packages/jax/_src/lib/__init__.py:33: UserWarning: JAX on Mac ARM machines is experimental and minimally tested. Please see https://github.com/google/jax/issues/5501 in the event of problems.\n",
      "  warnings.warn(\"JAX on Mac ARM machines is experimental and minimally tested. \"\n"
     ]
    }
   ],
   "source": [
    "import numpy as np\n",
    "import tensorflow as tf\n",
    "import sklearn\n",
    "import sklearn.linear_model\n",
    "import sklearn.neural_network\n",
    "import matplotlib.pyplot as plt"
   ]
  },
  {
   "cell_type": "code",
   "execution_count": 3,
   "metadata": {},
   "outputs": [],
   "source": [
    "(x_train, y_train), (x_test, y_test) = tf.keras.datasets.mnist.load_data()"
   ]
  },
  {
   "cell_type": "code",
   "execution_count": 4,
   "metadata": {},
   "outputs": [
    {
     "data": {
      "text/plain": [
       "(60000, 28, 28)"
      ]
     },
     "execution_count": 4,
     "metadata": {},
     "output_type": "execute_result"
    }
   ],
   "source": [
    "x_train.shape"
   ]
  },
  {
   "cell_type": "code",
   "execution_count": 5,
   "metadata": {},
   "outputs": [
    {
     "data": {
      "text/plain": [
       "(60000,)"
      ]
     },
     "execution_count": 5,
     "metadata": {},
     "output_type": "execute_result"
    }
   ],
   "source": [
    "y_train.shape"
   ]
  },
  {
   "cell_type": "code",
   "execution_count": 6,
   "metadata": {},
   "outputs": [
    {
     "data": {
      "text/plain": [
       "<matplotlib.image.AxesImage at 0x2d6d92d90>"
      ]
     },
     "execution_count": 6,
     "metadata": {},
     "output_type": "execute_result"
    },
    {
     "data": {
      "image/png": "[encoded data removed]",
      "text/plain": [
       "<Figure size 432x288 with 1 Axes>"
      ]
     },
     "metadata": {
      "needs_background": "light"
     },
     "output_type": "display_data"
    }
   ],
   "source": [
    "plt.imshow(x_train[1], cmap='gray')"
   ]
  },
  {
   "cell_type": "code",
   "execution_count": 7,
   "metadata": {},
   "outputs": [
    {
     "data": {
      "text/plain": [
       "(255, 0)"
      ]
     },
     "execution_count": 7,
     "metadata": {},
     "output_type": "execute_result"
    }
   ],
   "source": [
    "x_train.max(), x_train.min()"
   ]
  },
  {
   "cell_type": "code",
   "execution_count": 8,
   "metadata": {},
   "outputs": [],
   "source": [
    "x_train = x_train / 255.\n",
    "x_test = x_test / 255."
   ]
  },
  {
   "cell_type": "code",
   "execution_count": 9,
   "metadata": {},
   "outputs": [],
   "source": [
    "x_trainf = x_train.reshape(-1, 28*28)\n",
    "x_testf = x_test.reshape(-1, 28*28)"
   ]
  },
  {
   "cell_type": "markdown",
   "metadata": {},
   "source": [
    "## Baseline: linear classifier"
   ]
  },
  {
   "cell_type": "code",
   "execution_count": 10,
   "metadata": {},
   "outputs": [],
   "source": [
    "lr = sklearn.linear_model.LogisticRegression(solver='saga', tol=0.1)\n",
    "lr = lr.fit(x_trainf, y_train)"
   ]
  },
  {
   "cell_type": "code",
   "execution_count": 11,
   "metadata": {},
   "outputs": [
    {
     "name": "stdout",
     "output_type": "stream",
     "text": [
      "train: 0.9307\n",
      "test: 0.9244\n"
     ]
    }
   ],
   "source": [
    "print(f'train: {lr.score(x_trainf, y_train)}')\n",
    "print(f'test: {lr.score(x_testf, y_test)}')"
   ]
  },
  {
   "cell_type": "code",
   "execution_count": 12,
   "metadata": {},
   "outputs": [],
   "source": [
    "y_pred_train = lr.predict(x_trainf)\n",
    "y_pred_test = lr.predict(x_testf)"
   ]
  },
  {
   "cell_type": "code",
   "execution_count": 13,
   "metadata": {},
   "outputs": [
    {
     "data": {
      "text/plain": [
       "0.9244"
      ]
     },
     "execution_count": 13,
     "metadata": {},
     "output_type": "execute_result"
    }
   ],
   "source": [
    "np.sum(y_pred_test == y_test) / y_test.shape[0]"
   ]
  },
  {
   "cell_type": "code",
   "execution_count": 14,
   "metadata": {},
   "outputs": [
    {
     "data": {
      "text/plain": [
       "0.9307"
      ]
     },
     "execution_count": 14,
     "metadata": {},
     "output_type": "execute_result"
    }
   ],
   "source": [
    "np.sum(y_pred_train == y_train) / y_train.shape[0]"
   ]
  },
  {
   "cell_type": "markdown",
   "metadata": {},
   "source": [
    "## MLP in sklearn"
   ]
  },
  {
   "cell_type": "code",
   "execution_count": 15,
   "metadata": {},
   "outputs": [],
   "source": [
    "net_skl = sklearn.neural_network.MLPClassifier(\n",
    "    hidden_layer_sizes=(128, ), activation='relu', solver='sgd',\n",
    "    tol=1e-2, max_iter=100,\n",
    "    early_stopping=True\n",
    ")\n",
    "net_skl = net_skl.fit(x_trainf, y_train)"
   ]
  },
  {
   "cell_type": "code",
   "execution_count": 16,
   "metadata": {},
   "outputs": [
    {
     "name": "stdout",
     "output_type": "stream",
     "text": [
      "train: 0.9131833333333333\n",
      "test: 0.9167\n"
     ]
    }
   ],
   "source": [
    "print(f'train: {net_skl.score(x_trainf, y_train)}')\n",
    "print(f'test: {net_skl.score(x_testf, y_test)}')"
   ]
  },
  {
   "cell_type": "code",
   "execution_count": 17,
   "metadata": {},
   "outputs": [],
   "source": [
    "net_skl = sklearn.neural_network.MLPClassifier(\n",
    "    hidden_layer_sizes=(128, 128, ), activation='relu', solver='sgd',\n",
    "    tol=1e-2, max_iter=100,\n",
    "    early_stopping=True\n",
    ")\n",
    "net_skl = net_skl.fit(x_trainf, y_train)"
   ]
  },
  {
   "cell_type": "code",
   "execution_count": 18,
   "metadata": {},
   "outputs": [
    {
     "name": "stdout",
     "output_type": "stream",
     "text": [
      "train: 0.9289333333333334\n",
      "test: 0.931\n"
     ]
    }
   ],
   "source": [
    "print(f'train: {net_skl.score(x_trainf, y_train)}')\n",
    "print(f'test: {net_skl.score(x_testf, y_test)}')"
   ]
  },
  {
   "cell_type": "markdown",
   "metadata": {},
   "source": [
    "## MLP in keras"
   ]
  },
  {
   "cell_type": "code",
   "execution_count": 19,
   "metadata": {},
   "outputs": [],
   "source": [
    "y_trainv = tf.keras.utils.to_categorical(y_train)\n",
    "y_testv = tf.keras.utils.to_categorical(y_test)"
   ]
  },
  {
   "cell_type": "code",
   "execution_count": 20,
   "metadata": {},
   "outputs": [
    {
     "name": "stdout",
     "output_type": "stream",
     "text": [
      "Metal device set to: Apple M1 Max\n",
      "\n",
      "systemMemory: 32.00 GB\n",
      "maxCacheSize: 10.67 GB\n",
      "\n"
     ]
    }
   ],
   "source": [
    "net_ker = tf.keras.Sequential([\n",
    "    tf.keras.layers.Dense(256, activation='relu', input_shape=(28 * 28,)),\n",
    "    tf.keras.layers.Dense(256, activation='relu'),\n",
    "    tf.keras.layers.Dense(10, activation='softmax'),\n",
    "])\n",
    "net_ker.compile(\n",
    "    optimizer=tf.keras.optimizers.RMSprop(),\n",
    "    loss='categorical_crossentropy',\n",
    "    metrics=['mse', 'accuracy']\n",
    ")\n",
    "early_stopping_callback = tf.keras.callbacks.EarlyStopping(monitor='mse', patience=20)\n",
    "tensorboard_callback = tf.keras.callbacks.TensorBoard(log_dir=\"./logs\")"
   ]
  },
  {
   "cell_type": "code",
   "execution_count": 21,
   "metadata": {},
   "outputs": [
    {
     "name": "stdout",
     "output_type": "stream",
     "text": [
      "Epoch 1/20\n"
     ]
    },
    {
     "name": "stderr",
     "output_type": "stream",
     "text": [
      "2022-05-19 15:36:06.555239: W tensorflow/core/platform/profile_utils/cpu_utils.cc:128] Failed to get CPU frequency: 0 Hz\n"
     ]
    },
    {
     "name": "stdout",
     "output_type": "stream",
     "text": [
      "469/469 [==============================] - 6s 12ms/step - loss: 0.2511 - mse: 0.0114 - accuracy: 0.9241 - val_loss: 0.1137 - val_mse: 0.0053 - val_accuracy: 0.9643\n",
      "Epoch 2/20\n",
      "469/469 [==============================] - 5s 11ms/step - loss: 0.0958 - mse: 0.0045 - accuracy: 0.9706 - val_loss: 0.0793 - val_mse: 0.0037 - val_accuracy: 0.9763\n",
      "Epoch 3/20\n",
      "469/469 [==============================] - 5s 10ms/step - loss: 0.0648 - mse: 0.0031 - accuracy: 0.9803 - val_loss: 0.0789 - val_mse: 0.0037 - val_accuracy: 0.9755\n",
      "Epoch 4/20\n",
      "469/469 [==============================] - 5s 10ms/step - loss: 0.0475 - mse: 0.0023 - accuracy: 0.9858 - val_loss: 0.0686 - val_mse: 0.0032 - val_accuracy: 0.9795\n",
      "Epoch 5/20\n",
      "469/469 [==============================] - 5s 10ms/step - loss: 0.0358 - mse: 0.0017 - accuracy: 0.9889 - val_loss: 0.0856 - val_mse: 0.0037 - val_accuracy: 0.9770\n",
      "Epoch 6/20\n",
      "469/469 [==============================] - 4s 9ms/step - loss: 0.0274 - mse: 0.0013 - accuracy: 0.9913 - val_loss: 0.0672 - val_mse: 0.0028 - val_accuracy: 0.9826\n",
      "Epoch 7/20\n",
      "469/469 [==============================] - 5s 10ms/step - loss: 0.0208 - mse: 0.0010 - accuracy: 0.9933 - val_loss: 0.0943 - val_mse: 0.0037 - val_accuracy: 0.9774\n",
      "Epoch 8/20\n",
      "469/469 [==============================] - 5s 10ms/step - loss: 0.0175 - mse: 8.7802e-04 - accuracy: 0.9941 - val_loss: 0.0922 - val_mse: 0.0033 - val_accuracy: 0.9800\n",
      "Epoch 9/20\n",
      "469/469 [==============================] - 5s 10ms/step - loss: 0.0135 - mse: 6.8121e-04 - accuracy: 0.9956 - val_loss: 0.0947 - val_mse: 0.0035 - val_accuracy: 0.9788\n",
      "Epoch 10/20\n",
      "469/469 [==============================] - 5s 10ms/step - loss: 0.0122 - mse: 6.1644e-04 - accuracy: 0.9960 - val_loss: 0.0973 - val_mse: 0.0033 - val_accuracy: 0.9807\n",
      "Epoch 11/20\n",
      "469/469 [==============================] - 5s 10ms/step - loss: 0.0101 - mse: 4.7600e-04 - accuracy: 0.9970 - val_loss: 0.1018 - val_mse: 0.0035 - val_accuracy: 0.9785\n",
      "Epoch 12/20\n",
      "469/469 [==============================] - 5s 10ms/step - loss: 0.0081 - mse: 3.9231e-04 - accuracy: 0.9976 - val_loss: 0.1054 - val_mse: 0.0033 - val_accuracy: 0.9805\n",
      "Epoch 13/20\n",
      "469/469 [==============================] - 5s 10ms/step - loss: 0.0071 - mse: 3.4449e-04 - accuracy: 0.9978 - val_loss: 0.1057 - val_mse: 0.0031 - val_accuracy: 0.9824\n",
      "Epoch 14/20\n",
      "469/469 [==============================] - 5s 10ms/step - loss: 0.0060 - mse: 3.0196e-04 - accuracy: 0.9981 - val_loss: 0.1176 - val_mse: 0.0033 - val_accuracy: 0.9805\n",
      "Epoch 15/20\n",
      "469/469 [==============================] - 5s 10ms/step - loss: 0.0053 - mse: 2.6621e-04 - accuracy: 0.9984 - val_loss: 0.1133 - val_mse: 0.0030 - val_accuracy: 0.9830\n",
      "Epoch 16/20\n",
      "469/469 [==============================] - 4s 10ms/step - loss: 0.0053 - mse: 2.5878e-04 - accuracy: 0.9983 - val_loss: 0.1346 - val_mse: 0.0035 - val_accuracy: 0.9797\n",
      "Epoch 17/20\n",
      "469/469 [==============================] - 4s 10ms/step - loss: 0.0052 - mse: 2.5107e-04 - accuracy: 0.9985 - val_loss: 0.1309 - val_mse: 0.0032 - val_accuracy: 0.9816\n",
      "Epoch 18/20\n",
      "469/469 [==============================] - 5s 10ms/step - loss: 0.0045 - mse: 2.1641e-04 - accuracy: 0.9986 - val_loss: 0.1577 - val_mse: 0.0035 - val_accuracy: 0.9800\n",
      "Epoch 19/20\n",
      "469/469 [==============================] - 4s 9ms/step - loss: 0.0044 - mse: 1.9413e-04 - accuracy: 0.9988 - val_loss: 0.1449 - val_mse: 0.0035 - val_accuracy: 0.9796\n",
      "Epoch 20/20\n",
      "469/469 [==============================] - 4s 10ms/step - loss: 0.0029 - mse: 1.3385e-04 - accuracy: 0.9992 - val_loss: 0.1522 - val_mse: 0.0033 - val_accuracy: 0.9816\n"
     ]
    }
   ],
   "source": [
    "history = net_ker.fit(\n",
    "    x_trainf, y_trainv,\n",
    "    batch_size=128,\n",
    "    epochs=20,\n",
    "    validation_data=(x_testf, y_testv),\n",
    "    callbacks=[early_stopping_callback, tensorboard_callback],\n",
    ")"
   ]
  },
  {
   "cell_type": "markdown",
   "metadata": {},
   "source": [
    "## CNN in Keras"
   ]
  },
  {
   "cell_type": "code",
   "execution_count": 75,
   "metadata": {},
   "outputs": [
    {
     "data": {
      "text/plain": [
       "((60000, 28, 28, 1), (10000, 28, 28, 1))"
      ]
     },
     "execution_count": 75,
     "metadata": {},
     "output_type": "execute_result"
    }
   ],
   "source": [
    "x_trainc = x_train.unsqueeze(3).numpy()\n",
    "x_testc = x_test.unsqueeze(3).numpy()\n",
    "x_trainc.shape, x_testc.shape"
   ]
  },
  {
   "cell_type": "code",
   "execution_count": 78,
   "metadata": {},
   "outputs": [],
   "source": [
    "cnn_ker = tf.keras.Sequential([\n",
    "    tf.keras.layers.Conv2D(32, kernel_size=(3, 3), activation='relu', input_shape=(28,28,1)),\n",
    "    tf.keras.layers.Conv2D(64, (3, 3), activation='relu'),\n",
    "    tf.keras.layers.MaxPooling2D(pool_size=(2, 2)),\n",
    "    tf.keras.layers.Dropout(0.25),\n",
    "    tf.keras.layers.Flatten(),\n",
    "    tf.keras.layers.Dense(128, activation='relu'),\n",
    "    tf.keras.layers.Dropout(0.5),\n",
    "    tf.keras.layers.Dense(10, activation='softmax')\n",
    "])\n",
    "cnn_ker.compile(\n",
    "    optimizer=tf.keras.optimizers.RMSprop(),\n",
    "    loss=tf.keras.losses.categorical_crossentropy,\n",
    "    metrics=['mse', 'accuracy']\n",
    ")\n",
    "early_stopping_callback = tf.keras.callbacks.EarlyStopping(monitor='mse', patience=20)\n",
    "tensorboard_callback = tf.keras.callbacks.TensorBoard(log_dir=\"./logs\")"
   ]
  },
  {
   "cell_type": "code",
   "execution_count": 79,
   "metadata": {},
   "outputs": [
    {
     "name": "stdout",
     "output_type": "stream",
     "text": [
      "Model: \"sequential_11\"\n",
      "_________________________________________________________________\n",
      " Layer (type)                Output Shape              Param #   \n",
      "=================================================================\n",
      " conv2d_19 (Conv2D)          (None, 26, 26, 32)        320       \n",
      "                                                                 \n",
      " conv2d_20 (Conv2D)          (None, 24, 24, 64)        18496     \n",
      "                                                                 \n",
      " max_pooling2d_10 (MaxPoolin  (None, 12, 12, 64)       0         \n",
      " g2D)                                                            \n",
      "                                                                 \n",
      " dropout_20 (Dropout)        (None, 12, 12, 64)        0         \n",
      "                                                                 \n",
      " flatten_10 (Flatten)        (None, 9216)              0         \n",
      "                                                                 \n",
      " dense_23 (Dense)            (None, 128)               1179776   \n",
      "                                                                 \n",
      " dropout_21 (Dropout)        (None, 128)               0         \n",
      "                                                                 \n",
      " dense_24 (Dense)            (None, 10)                1290      \n",
      "                                                                 \n",
      "=================================================================\n",
      "Total params: 1,199,882\n",
      "Trainable params: 1,199,882\n",
      "Non-trainable params: 0\n",
      "_________________________________________________________________\n",
      "None\n"
     ]
    }
   ],
   "source": [
    "print(cnn_ker.summary())"
   ]
  },
  {
   "cell_type": "code",
   "execution_count": 80,
   "metadata": {},
   "outputs": [
    {
     "name": "stdout",
     "output_type": "stream",
     "text": [
      "Epoch 1/20\n",
      "469/469 [==============================] - 6s 13ms/step - loss: 0.1995 - mse: 0.0089 - accuracy: 0.9398\n",
      "Epoch 2/20\n",
      "469/469 [==============================] - 6s 13ms/step - loss: 0.0686 - mse: 0.0031 - accuracy: 0.9796\n",
      "Epoch 3/20\n",
      "469/469 [==============================] - 6s 13ms/step - loss: 0.0502 - mse: 0.0023 - accuracy: 0.9851\n",
      "Epoch 4/20\n",
      "469/469 [==============================] - 6s 13ms/step - loss: 0.0429 - mse: 0.0020 - accuracy: 0.9867\n",
      "Epoch 5/20\n",
      "469/469 [==============================] - 6s 12ms/step - loss: 0.0370 - mse: 0.0017 - accuracy: 0.9890\n",
      "Epoch 6/20\n",
      "469/469 [==============================] - 6s 12ms/step - loss: 0.0323 - mse: 0.0015 - accuracy: 0.9904\n",
      "Epoch 7/20\n",
      "469/469 [==============================] - 6s 13ms/step - loss: 0.0285 - mse: 0.0014 - accuracy: 0.9913\n",
      "Epoch 8/20\n",
      "469/469 [==============================] - 6s 12ms/step - loss: 0.0271 - mse: 0.0013 - accuracy: 0.9915\n",
      "Epoch 9/20\n",
      "469/469 [==============================] - 6s 12ms/step - loss: 0.0259 - mse: 0.0012 - accuracy: 0.9921\n",
      "Epoch 10/20\n",
      "469/469 [==============================] - 6s 12ms/step - loss: 0.0260 - mse: 0.0012 - accuracy: 0.9922\n",
      "Epoch 11/20\n",
      "469/469 [==============================] - 6s 12ms/step - loss: 0.0245 - mse: 0.0012 - accuracy: 0.9925\n",
      "Epoch 12/20\n",
      "469/469 [==============================] - 6s 12ms/step - loss: 0.0237 - mse: 0.0011 - accuracy: 0.9930\n",
      "Epoch 13/20\n",
      "469/469 [==============================] - 6s 12ms/step - loss: 0.0234 - mse: 0.0011 - accuracy: 0.9931\n",
      "Epoch 14/20\n",
      "469/469 [==============================] - 6s 12ms/step - loss: 0.0247 - mse: 0.0012 - accuracy: 0.9925\n",
      "Epoch 15/20\n",
      "469/469 [==============================] - 6s 12ms/step - loss: 0.0233 - mse: 0.0011 - accuracy: 0.9931\n",
      "Epoch 16/20\n",
      "469/469 [==============================] - 6s 13ms/step - loss: 0.0233 - mse: 0.0011 - accuracy: 0.9930\n",
      "Epoch 17/20\n",
      "469/469 [==============================] - 6s 13ms/step - loss: 0.0215 - mse: 0.0010 - accuracy: 0.9932\n",
      "Epoch 18/20\n",
      "469/469 [==============================] - 6s 12ms/step - loss: 0.0212 - mse: 0.0010 - accuracy: 0.9936\n",
      "Epoch 19/20\n",
      "469/469 [==============================] - 6s 13ms/step - loss: 0.0232 - mse: 0.0010 - accuracy: 0.9934\n",
      "Epoch 20/20\n",
      "469/469 [==============================] - 6s 13ms/step - loss: 0.0221 - mse: 0.0010 - accuracy: 0.9937\n"
     ]
    }
   ],
   "source": [
    "history = cnn_ker.fit(\n",
    "    x_trainc, y_trainv,\n",
    "    batch_size=128,\n",
    "    epochs=20,\n",
    "    callbacks=[early_stopping_callback, tensorboard_callback],\n",
    ")"
   ]
  },
  {
   "cell_type": "markdown",
   "metadata": {},
   "source": [
    "## MLP in PyTorch"
   ]
  },
  {
   "cell_type": "code",
   "execution_count": 22,
   "metadata": {},
   "outputs": [],
   "source": [
    "import torch"
   ]
  },
  {
   "cell_type": "code",
   "execution_count": 23,
   "metadata": {},
   "outputs": [],
   "source": [
    "x_train = torch.from_numpy(x_train)\n",
    "x_test = torch.from_numpy(x_test)\n",
    "y_train = torch.from_numpy(y_train)\n",
    "y_test = torch.from_numpy(y_test)"
   ]
  },
  {
   "cell_type": "code",
   "execution_count": 24,
   "metadata": {},
   "outputs": [],
   "source": [
    "class MyDataset(torch.utils.data.Dataset):\n",
    "    def __init__(self, X, Y):\n",
    "        self.X = X\n",
    "        self.Y = Y\n",
    "\n",
    "    def __len__(self):\n",
    "        return len(self.Y)\n",
    "\n",
    "    def __getitem__(self,index):\n",
    "        X = self.X[index].float().reshape(-1)  # flatten input to 1D\n",
    "        Y = self.Y[index].long()\n",
    "        return X,Y"
   ]
  },
  {
   "cell_type": "code",
   "execution_count": 25,
   "metadata": {},
   "outputs": [],
   "source": [
    "num_workers = 8 if torch.cuda.is_available() else 0 \n",
    "\n",
    "if torch.cuda.is_available():\n",
    "    loader_args = dict(shuffle=True, batch_size=256, num_workers=num_workers, pin_memory=True)\n",
    "else:\n",
    "    loader_args = dict(shuffle=True, batch_size=64)\n",
    "\n",
    "train_dataset = MyDataset(x_train, y_train)\n",
    "train_loader = torch.utils.data.DataLoader(train_dataset, **loader_args)\n",
    "\n",
    "test_dataset = MyDataset(x_test, y_test)\n",
    "test_loader = torch.utils.data.DataLoader(test_dataset, **loader_args)"
   ]
  },
  {
   "cell_type": "code",
   "execution_count": 26,
   "metadata": {},
   "outputs": [],
   "source": [
    "class SimpleMLP(torch.nn.Module):\n",
    "    def __init__(self, size_list):\n",
    "        super(SimpleMLP, self).__init__()\n",
    "        self.size_list = size_list\n",
    "        layers = []\n",
    "        for i in range(len(size_list) - 2):\n",
    "            layers.append(torch.nn.Linear(size_list[i], size_list[i+1]))\n",
    "            layers.append(torch.nn.ReLU())\n",
    "        layers.append(torch.nn.Linear(size_list[-2], size_list[-1]))\n",
    "        self.net = torch.nn.Sequential(*layers)\n",
    "\n",
    "    def forward(self, x):\n",
    "        return self.net(x)"
   ]
  },
  {
   "cell_type": "markdown",
   "metadata": {},
   "source": [
    "Alternatively, you can use a similar syntax to Keras, using the `torch.nn.Sequential` class directly (less flexible, but more concise code):"
   ]
  },
  {
   "cell_type": "code",
   "execution_count": 27,
   "metadata": {},
   "outputs": [],
   "source": [
    "# net = torch.nn.Sequential(\n",
    "#     torch.nn.Linear(32,128),\n",
    "#     torch.nn.Sigmoid(),\n",
    "#     torch.nn.Linear(128,10)\n",
    "# )"
   ]
  },
  {
   "cell_type": "code",
   "execution_count": 28,
   "metadata": {},
   "outputs": [
    {
     "name": "stdout",
     "output_type": "stream",
     "text": [
      "SimpleMLP(\n",
      "  (net): Sequential(\n",
      "    (0): Linear(in_features=784, out_features=256, bias=True)\n",
      "    (1): ReLU()\n",
      "    (2): Linear(in_features=256, out_features=10, bias=True)\n",
      "  )\n",
      ")\n"
     ]
    }
   ],
   "source": [
    "model = SimpleMLP([784, 256, 10])\n",
    "device = torch.device(\"cuda\" if torch.cuda.is_available() else \"cpu\")\n",
    "model.to(device)\n",
    "print(model)"
   ]
  },
  {
   "cell_type": "code",
   "execution_count": 29,
   "metadata": {},
   "outputs": [],
   "source": [
    "criterion = torch.nn.CrossEntropyLoss()\n",
    "optimizer = torch.optim.Adam(model.parameters())"
   ]
  },
  {
   "cell_type": "code",
   "execution_count": 30,
   "metadata": {},
   "outputs": [],
   "source": [
    "import time \n",
    "\n",
    "def train_epoch(model, train_loader, criterion, optimizer):\n",
    "    model.train()\n",
    "\n",
    "    running_loss = 0.0\n",
    "    \n",
    "    start_time = time.time()\n",
    "    for batch_idx, (data, target) in enumerate(train_loader):   \n",
    "        optimizer.zero_grad()   # .backward() accumulates gradients\n",
    "        data = data.to(device)\n",
    "        target = target.to(device) # all data & model on same device\n",
    "\n",
    "        outputs = model(data)\n",
    "        loss = criterion(outputs, target)\n",
    "        running_loss += loss.item()\n",
    "\n",
    "        loss.backward()\n",
    "        optimizer.step()\n",
    "    \n",
    "    end_time = time.time()\n",
    "    \n",
    "    running_loss /= len(train_loader)\n",
    "    print('Training Loss: ', running_loss, 'Time: ',end_time - start_time, 's')\n",
    "    return running_loss"
   ]
  },
  {
   "cell_type": "code",
   "execution_count": 31,
   "metadata": {},
   "outputs": [],
   "source": [
    "def test_model(model, test_loader, criterion):\n",
    "    with torch.no_grad():\n",
    "        model.eval()\n",
    "\n",
    "        running_loss = 0.0\n",
    "        total_predictions = 0.0\n",
    "        correct_predictions = 0.0\n",
    "\n",
    "        for batch_idx, (data, target) in enumerate(test_loader):   \n",
    "            data = data.to(device)\n",
    "            target = target.to(device)\n",
    "\n",
    "            outputs = model(data)\n",
    "\n",
    "            _, predicted = torch.max(outputs.data, 1)\n",
    "            total_predictions += target.size(0)\n",
    "            correct_predictions += (predicted == target).sum().item()\n",
    "\n",
    "            loss = criterion(outputs, target).detach()\n",
    "            running_loss += loss.item()\n",
    "\n",
    "        running_loss /= len(test_loader)\n",
    "        acc = (correct_predictions/total_predictions)*100.0\n",
    "        print('Testing Loss: ', running_loss)\n",
    "        print('Testing Accuracy: ', acc, '%')\n",
    "        return running_loss, acc"
   ]
  },
  {
   "cell_type": "code",
   "execution_count": 32,
   "metadata": {},
   "outputs": [
    {
     "name": "stdout",
     "output_type": "stream",
     "text": [
      "Training Loss:  0.3021611037022714 Time:  1.6115787029266357 s\n",
      "Testing Loss:  0.1535857659141729\n",
      "Testing Accuracy:  95.54 %\n",
      "====================\n",
      "Training Loss:  0.12569630306873367 Time:  1.5813071727752686 s\n",
      "Testing Loss:  0.1051646373976188\n",
      "Testing Accuracy:  96.73 %\n",
      "====================\n",
      "Training Loss:  0.08410140344583149 Time:  1.5775258541107178 s\n",
      "Testing Loss:  0.08762456234069957\n",
      "Testing Accuracy:  97.37 %\n",
      "====================\n",
      "Training Loss:  0.060297223563089586 Time:  1.5693929195404053 s\n",
      "Testing Loss:  0.07291408957154223\n",
      "Testing Accuracy:  97.71 %\n",
      "====================\n",
      "Training Loss:  0.04541670256453171 Time:  1.5989398956298828 s\n",
      "Testing Loss:  0.07077806619304428\n",
      "Testing Accuracy:  97.77 %\n",
      "====================\n",
      "Training Loss:  0.03444646570413534 Time:  1.570796012878418 s\n",
      "Testing Loss:  0.07768032452755957\n",
      "Testing Accuracy:  97.6 %\n",
      "====================\n",
      "Training Loss:  0.02663891622300214 Time:  1.5562067031860352 s\n",
      "Testing Loss:  0.07344077149803518\n",
      "Testing Accuracy:  97.75 %\n",
      "====================\n",
      "Training Loss:  0.021523408940682973 Time:  1.5929877758026123 s\n",
      "Testing Loss:  0.06749572532005299\n",
      "Testing Accuracy:  97.92999999999999 %\n",
      "====================\n",
      "Training Loss:  0.01693281473182112 Time:  1.593993902206421 s\n",
      "Testing Loss:  0.07317999475724568\n",
      "Testing Accuracy:  98.1 %\n",
      "====================\n",
      "Training Loss:  0.012677872351540534 Time:  1.5811619758605957 s\n",
      "Testing Loss:  0.07644595247715605\n",
      "Testing Accuracy:  97.78999999999999 %\n",
      "====================\n"
     ]
    }
   ],
   "source": [
    "n_epochs = 10\n",
    "Train_loss = []\n",
    "Test_loss = []\n",
    "Test_acc = []\n",
    "\n",
    "for i in range(n_epochs):\n",
    "    train_loss = train_epoch(model, train_loader, criterion, optimizer)\n",
    "    test_loss, test_acc = test_model(model, test_loader, criterion)\n",
    "    Train_loss.append(train_loss)\n",
    "    Test_loss.append(test_loss)\n",
    "    Test_acc.append(test_acc)\n",
    "    print('='*20)"
   ]
  },
  {
   "cell_type": "code",
   "execution_count": 33,
   "metadata": {},
   "outputs": [
    {
     "data": {
      "image/png": "[encoded data removed]",
      "text/plain": [
       "<Figure size 432x288 with 1 Axes>"
      ]
     },
     "metadata": {
      "needs_background": "light"
     },
     "output_type": "display_data"
    }
   ],
   "source": [
    "# plt.title('Training Loss')\n",
    "plt.xlabel('Epoch Number')\n",
    "plt.ylabel('Loss')\n",
    "plt.plot(Train_loss, label='train')\n",
    "plt.plot(Test_loss, label='test')\n",
    "plt.legend();"
   ]
  },
  {
   "cell_type": "code",
   "execution_count": 35,
   "metadata": {},
   "outputs": [
    {
     "data": {
      "image/png": "[encoded data removed]",
      "text/plain": [
       "<Figure size 432x288 with 1 Axes>"
      ]
     },
     "metadata": {
      "needs_background": "light"
     },
     "output_type": "display_data"
    }
   ],
   "source": [
    "plt.title('Test Accuracy')\n",
    "plt.xlabel('Epoch Number')\n",
    "plt.ylabel('Accuracy (%)')\n",
    "plt.plot(Test_acc);"
   ]
  }
 ],
 "metadata": {
  "interpreter": {
   "hash": "d9d41da3d759eab0d4ebf46483aa2525ee9e8e52c6441d9f13cc168fd5745a39"
  },
  "kernelspec": {
   "display_name": "Python 3.8.10 ('teaching-kL1iKbCK')",
   "language": "python",
   "name": "python3"
  },
  "language_info": {
   "codemirror_mode": {
    "name": "ipython",
    "version": 3
   },
   "file_extension": ".py",
   "mimetype": "text/x-python",
   "name": "python",
   "nbconvert_exporter": "python",
   "pygments_lexer": "ipython3",
   "version": "3.8.10"
  },
  "orig_nbformat": 4
 },
 "nbformat": 4,
 "nbformat_minor": 2
}

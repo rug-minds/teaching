{
 "cells": [
  {
   "cell_type": "markdown",
   "metadata": {},
   "source": [
    "# PyTorch tutorial"
   ]
  },
  {
   "cell_type": "code",
   "execution_count": 1,
   "metadata": {},
   "outputs": [],
   "source": [
    "import numpy as np\n",
    "import torch "
   ]
  },
  {
   "cell_type": "code",
   "execution_count": 2,
   "metadata": {},
   "outputs": [
    {
     "data": {
      "text/plain": [
       "'1.11.0'"
      ]
     },
     "execution_count": 2,
     "metadata": {},
     "output_type": "execute_result"
    }
   ],
   "source": [
    "torch.__version__"
   ]
  },
  {
   "cell_type": "markdown",
   "metadata": {},
   "source": [
    "## Tensors"
   ]
  },
  {
   "cell_type": "code",
   "execution_count": 3,
   "metadata": {},
   "outputs": [
    {
     "data": {
      "text/plain": [
       "tensor([[ 0.0000e+00, -0.0000e+00,  2.1793e-26],\n",
       "        [-8.5899e+09,  8.4078e-45,  0.0000e+00]])"
      ]
     },
     "execution_count": 3,
     "metadata": {},
     "output_type": "execute_result"
    }
   ],
   "source": [
    "torch.FloatTensor(2, 3)"
   ]
  },
  {
   "cell_type": "code",
   "execution_count": 5,
   "metadata": {},
   "outputs": [
    {
     "data": {
      "text/plain": [
       "tensor([[0., 0., 0.],\n",
       "        [0., 0., 0.]])"
      ]
     },
     "execution_count": 5,
     "metadata": {},
     "output_type": "execute_result"
    }
   ],
   "source": [
    "torch.FloatTensor(2, 3).zero_()"
   ]
  },
  {
   "cell_type": "code",
   "execution_count": 6,
   "metadata": {},
   "outputs": [
    {
     "data": {
      "text/plain": [
       "tensor([[0.3428, 0.8489, 0.9058],\n",
       "        [0.9203, 0.7877, 0.1695]])"
      ]
     },
     "execution_count": 6,
     "metadata": {},
     "output_type": "execute_result"
    }
   ],
   "source": [
    "torch.FloatTensor(np.random.random((2, 3)))"
   ]
  },
  {
   "cell_type": "code",
   "execution_count": 7,
   "metadata": {},
   "outputs": [
    {
     "data": {
      "text/plain": [
       "tensor([[0.9778, 0.5408, 0.5480],\n",
       "        [0.0875, 0.5451, 0.9959]], dtype=torch.float64)"
      ]
     },
     "execution_count": 7,
     "metadata": {},
     "output_type": "execute_result"
    }
   ],
   "source": [
    "torch.from_numpy(np.random.random((2, 3)))"
   ]
  },
  {
   "cell_type": "code",
   "execution_count": 8,
   "metadata": {},
   "outputs": [
    {
     "data": {
      "text/plain": [
       "tensor([[-0.5415,  0.2943,  1.0134],\n",
       "        [-0.9688,  0.6885, -1.7732]])"
      ]
     },
     "execution_count": 8,
     "metadata": {},
     "output_type": "execute_result"
    }
   ],
   "source": [
    "torch.randn(2, 3)"
   ]
  },
  {
   "cell_type": "code",
   "execution_count": 10,
   "metadata": {},
   "outputs": [
    {
     "data": {
      "text/plain": [
       "(torch.Size([2, 3]), torch.Size([2, 3]), 'torch.FloatTensor', torch.float32)"
      ]
     },
     "execution_count": 10,
     "metadata": {},
     "output_type": "execute_result"
    }
   ],
   "source": [
    "x = torch.randn(2, 3)\n",
    "x.size(), x.shape, x.type(), x.dtype"
   ]
  },
  {
   "cell_type": "code",
   "execution_count": 11,
   "metadata": {},
   "outputs": [
    {
     "data": {
      "text/plain": [
       "(tensor(-0.2022), tensor(-0.2022))"
      ]
     },
     "execution_count": 11,
     "metadata": {},
     "output_type": "execute_result"
    }
   ],
   "source": [
    "torch.sum(x), x.sum()"
   ]
  },
  {
   "cell_type": "code",
   "execution_count": 12,
   "metadata": {},
   "outputs": [
    {
     "data": {
      "text/plain": [
       "tensor(7.2523)"
      ]
     },
     "execution_count": 12,
     "metadata": {},
     "output_type": "execute_result"
    }
   ],
   "source": [
    "torch.sum(torch.exp(x))"
   ]
  },
  {
   "cell_type": "code",
   "execution_count": 14,
   "metadata": {},
   "outputs": [
    {
     "data": {
      "text/plain": [
       "(tensor(-0.0337), tensor(-0.0337))"
      ]
     },
     "execution_count": 14,
     "metadata": {},
     "output_type": "execute_result"
    }
   ],
   "source": [
    "torch.mean(x), x.mean()"
   ]
  },
  {
   "cell_type": "code",
   "execution_count": 16,
   "metadata": {},
   "outputs": [
    {
     "data": {
      "text/plain": [
       "tensor([-0.0730,  1.0763, -0.0052])"
      ]
     },
     "execution_count": 16,
     "metadata": {},
     "output_type": "execute_result"
    }
   ],
   "source": [
    "x[1,:]"
   ]
  },
  {
   "cell_type": "code",
   "execution_count": 18,
   "metadata": {},
   "outputs": [
    {
     "ename": "AssertionError",
     "evalue": "Torch not compiled with CUDA enabled",
     "output_type": "error",
     "traceback": [
      "\u001b[0;31m---------------------------------------------------------------------------\u001b[0m",
      "\u001b[0;31mAssertionError\u001b[0m                            Traceback (most recent call last)",
      "\u001b[1;32m/Users/steve/Code/teaching/ProgTut/mnist_pytorch.ipynb Cell 15'\u001b[0m in \u001b[0;36m<cell line: 1>\u001b[0;34m()\u001b[0m\n\u001b[0;32m----> <a href='vscode-notebook-cell:/Users/steve/Code/teaching/ProgTut/mnist_pytorch.ipynb#ch0000020?line=0'>1</a>\u001b[0m y \u001b[39m=\u001b[39m x\u001b[39m.\u001b[39;49mcuda()\n",
      "File \u001b[0;32m~/.local/share/virtualenvs/teaching-kL1iKbCK/lib/python3.8/site-packages/torch/cuda/__init__.py:210\u001b[0m, in \u001b[0;36m_lazy_init\u001b[0;34m()\u001b[0m\n\u001b[1;32m    <a href='file:///Users/steve/.local/share/virtualenvs/teaching-kL1iKbCK/lib/python3.8/site-packages/torch/cuda/__init__.py?line=205'>206</a>\u001b[0m     \u001b[39mraise\u001b[39;00m \u001b[39mRuntimeError\u001b[39;00m(\n\u001b[1;32m    <a href='file:///Users/steve/.local/share/virtualenvs/teaching-kL1iKbCK/lib/python3.8/site-packages/torch/cuda/__init__.py?line=206'>207</a>\u001b[0m         \u001b[39m\"\u001b[39m\u001b[39mCannot re-initialize CUDA in forked subprocess. To use CUDA with \u001b[39m\u001b[39m\"\u001b[39m\n\u001b[1;32m    <a href='file:///Users/steve/.local/share/virtualenvs/teaching-kL1iKbCK/lib/python3.8/site-packages/torch/cuda/__init__.py?line=207'>208</a>\u001b[0m         \u001b[39m\"\u001b[39m\u001b[39mmultiprocessing, you must use the \u001b[39m\u001b[39m'\u001b[39m\u001b[39mspawn\u001b[39m\u001b[39m'\u001b[39m\u001b[39m start method\u001b[39m\u001b[39m\"\u001b[39m)\n\u001b[1;32m    <a href='file:///Users/steve/.local/share/virtualenvs/teaching-kL1iKbCK/lib/python3.8/site-packages/torch/cuda/__init__.py?line=208'>209</a>\u001b[0m \u001b[39mif\u001b[39;00m \u001b[39mnot\u001b[39;00m \u001b[39mhasattr\u001b[39m(torch\u001b[39m.\u001b[39m_C, \u001b[39m'\u001b[39m\u001b[39m_cuda_getDeviceCount\u001b[39m\u001b[39m'\u001b[39m):\n\u001b[0;32m--> <a href='file:///Users/steve/.local/share/virtualenvs/teaching-kL1iKbCK/lib/python3.8/site-packages/torch/cuda/__init__.py?line=209'>210</a>\u001b[0m     \u001b[39mraise\u001b[39;00m \u001b[39mAssertionError\u001b[39;00m(\u001b[39m\"\u001b[39m\u001b[39mTorch not compiled with CUDA enabled\u001b[39m\u001b[39m\"\u001b[39m)\n\u001b[1;32m    <a href='file:///Users/steve/.local/share/virtualenvs/teaching-kL1iKbCK/lib/python3.8/site-packages/torch/cuda/__init__.py?line=210'>211</a>\u001b[0m \u001b[39mif\u001b[39;00m _cudart \u001b[39mis\u001b[39;00m \u001b[39mNone\u001b[39;00m:\n\u001b[1;32m    <a href='file:///Users/steve/.local/share/virtualenvs/teaching-kL1iKbCK/lib/python3.8/site-packages/torch/cuda/__init__.py?line=211'>212</a>\u001b[0m     \u001b[39mraise\u001b[39;00m \u001b[39mAssertionError\u001b[39;00m(\n\u001b[1;32m    <a href='file:///Users/steve/.local/share/virtualenvs/teaching-kL1iKbCK/lib/python3.8/site-packages/torch/cuda/__init__.py?line=212'>213</a>\u001b[0m         \u001b[39m\"\u001b[39m\u001b[39mlibcudart functions unavailable. It looks like you have a broken build?\u001b[39m\u001b[39m\"\u001b[39m)\n",
      "\u001b[0;31mAssertionError\u001b[0m: Torch not compiled with CUDA enabled"
     ]
    }
   ],
   "source": [
    "y = x.cuda()"
   ]
  },
  {
   "cell_type": "code",
   "execution_count": 21,
   "metadata": {},
   "outputs": [
    {
     "data": {
      "text/plain": [
       "False"
      ]
     },
     "execution_count": 21,
     "metadata": {},
     "output_type": "execute_result"
    }
   ],
   "source": [
    "x.is_cuda"
   ]
  },
  {
   "cell_type": "code",
   "execution_count": 22,
   "metadata": {},
   "outputs": [
    {
     "data": {
      "text/plain": [
       "tensor([[-0.3334, -1.1825,  0.3157],\n",
       "        [-0.0730,  1.0763, -0.0052]])"
      ]
     },
     "execution_count": 22,
     "metadata": {},
     "output_type": "execute_result"
    }
   ],
   "source": [
    "x.cpu()"
   ]
  },
  {
   "cell_type": "code",
   "execution_count": 23,
   "metadata": {},
   "outputs": [],
   "source": [
    "if torch.cuda.is_available():\n",
    "    x = x.cuda()"
   ]
  },
  {
   "cell_type": "markdown",
   "metadata": {},
   "source": [
    "## Automatic differentiation"
   ]
  },
  {
   "cell_type": "code",
   "execution_count": 46,
   "metadata": {},
   "outputs": [
    {
     "data": {
      "text/plain": [
       "torch.float32"
      ]
     },
     "execution_count": 46,
     "metadata": {},
     "output_type": "execute_result"
    }
   ],
   "source": [
    "x = torch.arange(0, 4).float().requires_grad_(True)\n",
    "x.dtype"
   ]
  },
  {
   "cell_type": "code",
   "execution_count": 47,
   "metadata": {},
   "outputs": [],
   "source": [
    "y = x ** 2"
   ]
  },
  {
   "cell_type": "code",
   "execution_count": 48,
   "metadata": {},
   "outputs": [
    {
     "data": {
      "text/plain": [
       "tensor(14., grad_fn=<SumBackward0>)"
      ]
     },
     "execution_count": 48,
     "metadata": {},
     "output_type": "execute_result"
    }
   ],
   "source": [
    "y.sum()"
   ]
  },
  {
   "cell_type": "code",
   "execution_count": 49,
   "metadata": {},
   "outputs": [],
   "source": [
    "y.sum().backward()"
   ]
  },
  {
   "cell_type": "code",
   "execution_count": 50,
   "metadata": {},
   "outputs": [
    {
     "data": {
      "text/plain": [
       "tensor([0., 2., 4., 6.])"
      ]
     },
     "execution_count": 50,
     "metadata": {},
     "output_type": "execute_result"
    }
   ],
   "source": [
    "x.grad"
   ]
  },
  {
   "cell_type": "code",
   "execution_count": 38,
   "metadata": {},
   "outputs": [
    {
     "name": "stderr",
     "output_type": "stream",
     "text": [
      "/Users/steve/.local/share/virtualenvs/teaching-kL1iKbCK/lib/python3.8/site-packages/torch/_tensor.py:1104: UserWarning: The .grad attribute of a Tensor that is not a leaf Tensor is being accessed. Its .grad attribute won't be populated during autograd.backward(). If you indeed want the .grad field to be populated for a non-leaf Tensor, use .retain_grad() on the non-leaf Tensor. If you access the non-leaf Tensor by mistake, make sure you access the leaf Tensor instead. See github.com/pytorch/pytorch/pull/30531 for more informations. (Triggered internally at  /Users/distiller/project/pytorch/build/aten/src/ATen/core/TensorBody.h:475.)\n",
      "  return self._grad\n"
     ]
    }
   ],
   "source": [
    "y.sum().grad"
   ]
  },
  {
   "cell_type": "markdown",
   "metadata": {},
   "source": [
    "## Neural network"
   ]
  },
  {
   "cell_type": "code",
   "execution_count": 53,
   "metadata": {},
   "outputs": [],
   "source": [
    "net = torch.nn.Sequential(\n",
    "    torch.nn.Linear(32,128),\n",
    "    torch.nn.Sigmoid(),\n",
    "    torch.nn.Linear(128,10)\n",
    ")"
   ]
  },
  {
   "cell_type": "code",
   "execution_count": 54,
   "metadata": {},
   "outputs": [],
   "source": [
    "class MyNetwork(torch.nn.Module):\n",
    "    def __init__(self,input_size, hidden_size, output_size):\n",
    "        super().__init__()\n",
    "        self.layer1 = torch.nn.Linear(input_size,hidden_size)\n",
    "        self.layer2 = torch.nn.Sigmoid()\n",
    "        self.layer3 = torch.nn.Linear(hidden_size,output_size)\n",
    "\n",
    "    def forward(self, x):\n",
    "        h = self.layer1(x)\n",
    "        h = self.layer2(h)\n",
    "        h = self.layer3(h)\n",
    "        return h\n",
    "\n",
    "net = MyNetwork(32,128,10)"
   ]
  },
  {
   "cell_type": "code",
   "execution_count": 58,
   "metadata": {},
   "outputs": [
    {
     "name": "stdout",
     "output_type": "stream",
     "text": [
      "torch.Size([128, 32]) <class 'torch.nn.parameter.Parameter'>\n",
      "torch.Size([128]) <class 'torch.nn.parameter.Parameter'>\n",
      "torch.Size([10, 128]) <class 'torch.nn.parameter.Parameter'>\n",
      "torch.Size([10]) <class 'torch.nn.parameter.Parameter'>\n"
     ]
    }
   ],
   "source": [
    "for param in net.parameters():\n",
    "    print(param.shape, type(param))"
   ]
  },
  {
   "cell_type": "code",
   "execution_count": 59,
   "metadata": {},
   "outputs": [
    {
     "name": "stdout",
     "output_type": "stream",
     "text": [
      "tensor(2.1070, grad_fn=<NllLossBackward0>)\n"
     ]
    },
    {
     "name": "stderr",
     "output_type": "stream",
     "text": [
      "/var/folders/kd/773vphv51bdclptjzptm_4km0000gn/T/ipykernel_22307/2553623551.py:1: UserWarning: Creating a tensor from a list of numpy.ndarrays is extremely slow. Please consider converting the list to a single numpy.ndarray with numpy.array() before converting to a tensor. (Triggered internally at  /Users/distiller/project/pytorch/torch/csrc/utils/tensor_new.cpp:210.)\n",
      "  x = torch.tensor([np.arange(32), np.zeros(32),np.ones(32)]).float()\n"
     ]
    }
   ],
   "source": [
    "x = torch.tensor([np.arange(32), np.zeros(32),np.ones(32)]).float()\n",
    "y = torch.tensor([0,3,9])\n",
    "criterion = torch.nn.CrossEntropyLoss()\n",
    "\n",
    "output = net(x)\n",
    "loss = criterion(output,y)\n",
    "print(loss)"
   ]
  },
  {
   "cell_type": "code",
   "execution_count": 60,
   "metadata": {},
   "outputs": [
    {
     "name": "stdout",
     "output_type": "stream",
     "text": [
      "tensor([[ 1.2336e-04,  1.1817e-04,  1.1297e-04,  ..., -2.7387e-05,\n",
      "         -3.2586e-05, -3.7784e-05],\n",
      "        [ 4.0683e-03,  4.0683e-03,  4.0683e-03,  ...,  4.0683e-03,\n",
      "          4.0683e-03,  4.0683e-03],\n",
      "        [ 4.6966e-03,  1.0115e-02,  1.5534e-02,  ...,  1.6184e-01,\n",
      "          1.6725e-01,  1.7267e-01],\n",
      "        ...,\n",
      "        [ 2.7773e-03,  2.7779e-03,  2.7786e-03,  ...,  2.7959e-03,\n",
      "          2.7966e-03,  2.7972e-03],\n",
      "        [-2.6626e-04, -1.4633e-04, -2.6400e-05,  ...,  3.2117e-03,\n",
      "          3.3316e-03,  3.4516e-03],\n",
      "        [ 2.4058e-05,  2.4054e-05,  2.4050e-05,  ...,  2.3934e-05,\n",
      "          2.3929e-05,  2.3925e-05]])\n",
      "tensor([-0.0017, -0.0018,  0.0095,  0.0017,  0.0046, -0.0064, -0.0030, -0.0081,\n",
      "         0.0018, -0.0042,  0.0047, -0.0006,  0.0036,  0.0058,  0.0036,  0.0020,\n",
      "         0.0004, -0.0040,  0.0008, -0.0047, -0.0015, -0.0033, -0.0004,  0.0083,\n",
      "        -0.0083, -0.0032, -0.0093,  0.0025,  0.0011, -0.0017, -0.0022,  0.0009,\n",
      "        -0.0085, -0.0046,  0.0029,  0.0024,  0.0026,  0.0076, -0.0068, -0.0027,\n",
      "         0.0036,  0.0083, -0.0002, -0.0034, -0.0016, -0.0068,  0.0003, -0.0018,\n",
      "         0.0045, -0.0032,  0.0032, -0.0027, -0.0125, -0.0002,  0.0096, -0.0042,\n",
      "         0.0029,  0.0015,  0.0053, -0.0030,  0.0003,  0.0060, -0.0085,  0.0013,\n",
      "        -0.0035,  0.0044,  0.0061, -0.0043, -0.0004, -0.0003,  0.0019, -0.0002,\n",
      "        -0.0105, -0.0054, -0.0015,  0.0072, -0.0014,  0.0051, -0.0084, -0.0091,\n",
      "         0.0082, -0.0022,  0.0064,  0.0006,  0.0023,  0.0010, -0.0037, -0.0065,\n",
      "        -0.0058, -0.0033, -0.0091,  0.0004,  0.0086, -0.0004,  0.0041, -0.0017,\n",
      "         0.0026, -0.0074, -0.0031, -0.0031,  0.0029, -0.0054,  0.0096,  0.0058,\n",
      "        -0.0114,  0.0056,  0.0034, -0.0033,  0.0124, -0.0112, -0.0076, -0.0089,\n",
      "        -0.0034,  0.0050, -0.0049, -0.0028, -0.0065,  0.0027, -0.0053, -0.0068,\n",
      "         0.0082, -0.0005, -0.0021, -0.0072, -0.0036,  0.0051,  0.0024, -0.0045])\n",
      "tensor([[-0.2573,  0.0255, -0.0464,  ...,  0.0363,  0.0250,  0.0359],\n",
      "        [ 0.0468,  0.0144,  0.0275,  ...,  0.0206,  0.0225,  0.0204],\n",
      "        [ 0.0457,  0.0146,  0.0275,  ...,  0.0211,  0.0230,  0.0209],\n",
      "        ...,\n",
      "        [ 0.0533,  0.0176,  0.0323,  ...,  0.0249,  0.0270,  0.0246],\n",
      "        [ 0.0980,  0.0265,  0.0541,  ...,  0.0382,  0.0422,  0.0377],\n",
      "        [-0.1101, -0.0265, -0.0979,  ..., -0.0959, -0.1061, -0.0943]])\n",
      "tensor([-0.2198,  0.0682,  0.0675, -0.2005,  0.0969,  0.0753,  0.1032,  0.0791,\n",
      "         0.1376, -0.2075])\n"
     ]
    }
   ],
   "source": [
    "loss.backward()\n",
    "\n",
    "# Check that the parameters now have gradients\n",
    "for param in net.parameters():\n",
    "    print(param.grad)"
   ]
  },
  {
   "cell_type": "code",
   "execution_count": 61,
   "metadata": {},
   "outputs": [
    {
     "name": "stdout",
     "output_type": "stream",
     "text": [
      "tensor(2.1070, grad_fn=<NllLossBackward0>)\n",
      "tensor(1.9956, grad_fn=<NllLossBackward0>)\n",
      "tensor(1.8986, grad_fn=<NllLossBackward0>)\n",
      "tensor(1.8122, grad_fn=<NllLossBackward0>)\n",
      "tensor(1.7342, grad_fn=<NllLossBackward0>)\n",
      "tensor(1.6636, grad_fn=<NllLossBackward0>)\n",
      "tensor(1.5996, grad_fn=<NllLossBackward0>)\n",
      "tensor(1.5414, grad_fn=<NllLossBackward0>)\n",
      "tensor(1.4880, grad_fn=<NllLossBackward0>)\n",
      "tensor(1.4387, grad_fn=<NllLossBackward0>)\n",
      "tensor(1.3927, grad_fn=<NllLossBackward0>)\n",
      "tensor(1.3497, grad_fn=<NllLossBackward0>)\n",
      "tensor(1.3092, grad_fn=<NllLossBackward0>)\n",
      "tensor(1.2710, grad_fn=<NllLossBackward0>)\n",
      "tensor(1.2353, grad_fn=<NllLossBackward0>)\n",
      "tensor(1.2021, grad_fn=<NllLossBackward0>)\n",
      "tensor(1.1714, grad_fn=<NllLossBackward0>)\n",
      "tensor(1.1432, grad_fn=<NllLossBackward0>)\n",
      "tensor(1.1171, grad_fn=<NllLossBackward0>)\n",
      "tensor(1.0929, grad_fn=<NllLossBackward0>)\n",
      "tensor(1.0704, grad_fn=<NllLossBackward0>)\n",
      "tensor(1.0494, grad_fn=<NllLossBackward0>)\n",
      "tensor(1.0298, grad_fn=<NllLossBackward0>)\n",
      "tensor(1.0113, grad_fn=<NllLossBackward0>)\n",
      "tensor(0.9939, grad_fn=<NllLossBackward0>)\n",
      "tensor(0.9774, grad_fn=<NllLossBackward0>)\n",
      "tensor(0.9618, grad_fn=<NllLossBackward0>)\n",
      "tensor(0.9469, grad_fn=<NllLossBackward0>)\n",
      "tensor(0.9328, grad_fn=<NllLossBackward0>)\n",
      "tensor(0.9193, grad_fn=<NllLossBackward0>)\n",
      "tensor(0.9064, grad_fn=<NllLossBackward0>)\n",
      "tensor(0.8941, grad_fn=<NllLossBackward0>)\n",
      "tensor(0.8822, grad_fn=<NllLossBackward0>)\n",
      "tensor(0.8709, grad_fn=<NllLossBackward0>)\n",
      "tensor(0.8600, grad_fn=<NllLossBackward0>)\n",
      "tensor(0.8495, grad_fn=<NllLossBackward0>)\n",
      "tensor(0.8394, grad_fn=<NllLossBackward0>)\n",
      "tensor(0.8296, grad_fn=<NllLossBackward0>)\n",
      "tensor(0.8202, grad_fn=<NllLossBackward0>)\n",
      "tensor(0.8112, grad_fn=<NllLossBackward0>)\n",
      "tensor(0.8024, grad_fn=<NllLossBackward0>)\n",
      "tensor(0.7939, grad_fn=<NllLossBackward0>)\n",
      "tensor(0.7858, grad_fn=<NllLossBackward0>)\n",
      "tensor(0.7778, grad_fn=<NllLossBackward0>)\n",
      "tensor(0.7702, grad_fn=<NllLossBackward0>)\n",
      "tensor(0.7627, grad_fn=<NllLossBackward0>)\n",
      "tensor(0.7555, grad_fn=<NllLossBackward0>)\n",
      "tensor(0.7486, grad_fn=<NllLossBackward0>)\n",
      "tensor(0.7418, grad_fn=<NllLossBackward0>)\n",
      "tensor(0.7352, grad_fn=<NllLossBackward0>)\n",
      "tensor(0.7288, grad_fn=<NllLossBackward0>)\n",
      "tensor(0.7226, grad_fn=<NllLossBackward0>)\n",
      "tensor(0.7166, grad_fn=<NllLossBackward0>)\n",
      "tensor(0.7108, grad_fn=<NllLossBackward0>)\n",
      "tensor(0.7051, grad_fn=<NllLossBackward0>)\n",
      "tensor(0.6995, grad_fn=<NllLossBackward0>)\n",
      "tensor(0.6941, grad_fn=<NllLossBackward0>)\n",
      "tensor(0.6888, grad_fn=<NllLossBackward0>)\n",
      "tensor(0.6837, grad_fn=<NllLossBackward0>)\n",
      "tensor(0.6787, grad_fn=<NllLossBackward0>)\n",
      "tensor(0.6738, grad_fn=<NllLossBackward0>)\n",
      "tensor(0.6690, grad_fn=<NllLossBackward0>)\n",
      "tensor(0.6643, grad_fn=<NllLossBackward0>)\n",
      "tensor(0.6597, grad_fn=<NllLossBackward0>)\n",
      "tensor(0.6552, grad_fn=<NllLossBackward0>)\n",
      "tensor(0.6509, grad_fn=<NllLossBackward0>)\n",
      "tensor(0.6466, grad_fn=<NllLossBackward0>)\n",
      "tensor(0.6424, grad_fn=<NllLossBackward0>)\n",
      "tensor(0.6383, grad_fn=<NllLossBackward0>)\n",
      "tensor(0.6343, grad_fn=<NllLossBackward0>)\n",
      "tensor(0.6303, grad_fn=<NllLossBackward0>)\n",
      "tensor(0.6265, grad_fn=<NllLossBackward0>)\n",
      "tensor(0.6227, grad_fn=<NllLossBackward0>)\n",
      "tensor(0.6190, grad_fn=<NllLossBackward0>)\n",
      "tensor(0.6153, grad_fn=<NllLossBackward0>)\n",
      "tensor(0.6117, grad_fn=<NllLossBackward0>)\n",
      "tensor(0.6082, grad_fn=<NllLossBackward0>)\n",
      "tensor(0.6048, grad_fn=<NllLossBackward0>)\n",
      "tensor(0.6014, grad_fn=<NllLossBackward0>)\n",
      "tensor(0.5980, grad_fn=<NllLossBackward0>)\n",
      "tensor(0.5948, grad_fn=<NllLossBackward0>)\n",
      "tensor(0.5915, grad_fn=<NllLossBackward0>)\n",
      "tensor(0.5884, grad_fn=<NllLossBackward0>)\n",
      "tensor(0.5853, grad_fn=<NllLossBackward0>)\n",
      "tensor(0.5822, grad_fn=<NllLossBackward0>)\n",
      "tensor(0.5792, grad_fn=<NllLossBackward0>)\n",
      "tensor(0.5762, grad_fn=<NllLossBackward0>)\n",
      "tensor(0.5733, grad_fn=<NllLossBackward0>)\n",
      "tensor(0.5704, grad_fn=<NllLossBackward0>)\n",
      "tensor(0.5676, grad_fn=<NllLossBackward0>)\n",
      "tensor(0.5648, grad_fn=<NllLossBackward0>)\n",
      "tensor(0.5620, grad_fn=<NllLossBackward0>)\n",
      "tensor(0.5593, grad_fn=<NllLossBackward0>)\n",
      "tensor(0.5567, grad_fn=<NllLossBackward0>)\n",
      "tensor(0.5540, grad_fn=<NllLossBackward0>)\n",
      "tensor(0.5514, grad_fn=<NllLossBackward0>)\n",
      "tensor(0.5489, grad_fn=<NllLossBackward0>)\n",
      "tensor(0.5463, grad_fn=<NllLossBackward0>)\n",
      "tensor(0.5438, grad_fn=<NllLossBackward0>)\n",
      "tensor(0.5414, grad_fn=<NllLossBackward0>)\n",
      "tensor(0.5389, grad_fn=<NllLossBackward0>)\n",
      "tensor(0.5365, grad_fn=<NllLossBackward0>)\n",
      "tensor(0.5342, grad_fn=<NllLossBackward0>)\n",
      "tensor(0.5318, grad_fn=<NllLossBackward0>)\n",
      "tensor(0.5295, grad_fn=<NllLossBackward0>)\n",
      "tensor(0.5272, grad_fn=<NllLossBackward0>)\n",
      "tensor(0.5250, grad_fn=<NllLossBackward0>)\n",
      "tensor(0.5228, grad_fn=<NllLossBackward0>)\n",
      "tensor(0.5206, grad_fn=<NllLossBackward0>)\n",
      "tensor(0.5184, grad_fn=<NllLossBackward0>)\n",
      "tensor(0.5162, grad_fn=<NllLossBackward0>)\n",
      "tensor(0.5141, grad_fn=<NllLossBackward0>)\n",
      "tensor(0.5120, grad_fn=<NllLossBackward0>)\n",
      "tensor(0.5099, grad_fn=<NllLossBackward0>)\n",
      "tensor(0.5079, grad_fn=<NllLossBackward0>)\n",
      "tensor(0.5058, grad_fn=<NllLossBackward0>)\n",
      "tensor(0.5038, grad_fn=<NllLossBackward0>)\n",
      "tensor(0.5018, grad_fn=<NllLossBackward0>)\n",
      "tensor(0.4999, grad_fn=<NllLossBackward0>)\n",
      "tensor(0.4979, grad_fn=<NllLossBackward0>)\n",
      "tensor(0.4960, grad_fn=<NllLossBackward0>)\n",
      "tensor(0.4941, grad_fn=<NllLossBackward0>)\n",
      "tensor(0.4922, grad_fn=<NllLossBackward0>)\n",
      "tensor(0.4903, grad_fn=<NllLossBackward0>)\n",
      "tensor(0.4884, grad_fn=<NllLossBackward0>)\n",
      "tensor(0.4866, grad_fn=<NllLossBackward0>)\n",
      "tensor(0.4848, grad_fn=<NllLossBackward0>)\n",
      "tensor(0.4830, grad_fn=<NllLossBackward0>)\n",
      "tensor(0.4812, grad_fn=<NllLossBackward0>)\n",
      "tensor(0.4794, grad_fn=<NllLossBackward0>)\n",
      "tensor(0.4776, grad_fn=<NllLossBackward0>)\n",
      "tensor(0.4759, grad_fn=<NllLossBackward0>)\n",
      "tensor(0.4742, grad_fn=<NllLossBackward0>)\n",
      "tensor(0.4725, grad_fn=<NllLossBackward0>)\n",
      "tensor(0.4708, grad_fn=<NllLossBackward0>)\n",
      "tensor(0.4691, grad_fn=<NllLossBackward0>)\n",
      "tensor(0.4674, grad_fn=<NllLossBackward0>)\n",
      "tensor(0.4658, grad_fn=<NllLossBackward0>)\n",
      "tensor(0.4641, grad_fn=<NllLossBackward0>)\n",
      "tensor(0.4625, grad_fn=<NllLossBackward0>)\n",
      "tensor(0.4609, grad_fn=<NllLossBackward0>)\n",
      "tensor(0.4593, grad_fn=<NllLossBackward0>)\n",
      "tensor(0.4577, grad_fn=<NllLossBackward0>)\n",
      "tensor(0.4561, grad_fn=<NllLossBackward0>)\n",
      "tensor(0.4546, grad_fn=<NllLossBackward0>)\n",
      "tensor(0.4530, grad_fn=<NllLossBackward0>)\n",
      "tensor(0.4515, grad_fn=<NllLossBackward0>)\n",
      "tensor(0.4499, grad_fn=<NllLossBackward0>)\n",
      "tensor(0.4484, grad_fn=<NllLossBackward0>)\n",
      "tensor(0.4469, grad_fn=<NllLossBackward0>)\n",
      "tensor(0.4454, grad_fn=<NllLossBackward0>)\n",
      "tensor(0.4439, grad_fn=<NllLossBackward0>)\n",
      "tensor(0.4424, grad_fn=<NllLossBackward0>)\n",
      "tensor(0.4410, grad_fn=<NllLossBackward0>)\n",
      "tensor(0.4395, grad_fn=<NllLossBackward0>)\n",
      "tensor(0.4381, grad_fn=<NllLossBackward0>)\n",
      "tensor(0.4366, grad_fn=<NllLossBackward0>)\n",
      "tensor(0.4352, grad_fn=<NllLossBackward0>)\n",
      "tensor(0.4338, grad_fn=<NllLossBackward0>)\n",
      "tensor(0.4324, grad_fn=<NllLossBackward0>)\n",
      "tensor(0.4310, grad_fn=<NllLossBackward0>)\n",
      "tensor(0.4296, grad_fn=<NllLossBackward0>)\n",
      "tensor(0.4282, grad_fn=<NllLossBackward0>)\n",
      "tensor(0.4269, grad_fn=<NllLossBackward0>)\n",
      "tensor(0.4255, grad_fn=<NllLossBackward0>)\n",
      "tensor(0.4241, grad_fn=<NllLossBackward0>)\n",
      "tensor(0.4228, grad_fn=<NllLossBackward0>)\n",
      "tensor(0.4215, grad_fn=<NllLossBackward0>)\n",
      "tensor(0.4201, grad_fn=<NllLossBackward0>)\n",
      "tensor(0.4188, grad_fn=<NllLossBackward0>)\n",
      "tensor(0.4175, grad_fn=<NllLossBackward0>)\n",
      "tensor(0.4162, grad_fn=<NllLossBackward0>)\n",
      "tensor(0.4149, grad_fn=<NllLossBackward0>)\n",
      "tensor(0.4136, grad_fn=<NllLossBackward0>)\n",
      "tensor(0.4123, grad_fn=<NllLossBackward0>)\n",
      "tensor(0.4110, grad_fn=<NllLossBackward0>)\n",
      "tensor(0.4098, grad_fn=<NllLossBackward0>)\n",
      "tensor(0.4085, grad_fn=<NllLossBackward0>)\n",
      "tensor(0.4073, grad_fn=<NllLossBackward0>)\n",
      "tensor(0.4060, grad_fn=<NllLossBackward0>)\n",
      "tensor(0.4048, grad_fn=<NllLossBackward0>)\n",
      "tensor(0.4035, grad_fn=<NllLossBackward0>)\n",
      "tensor(0.4023, grad_fn=<NllLossBackward0>)\n",
      "tensor(0.4011, grad_fn=<NllLossBackward0>)\n",
      "tensor(0.3999, grad_fn=<NllLossBackward0>)\n",
      "tensor(0.3987, grad_fn=<NllLossBackward0>)\n",
      "tensor(0.3975, grad_fn=<NllLossBackward0>)\n",
      "tensor(0.3963, grad_fn=<NllLossBackward0>)\n",
      "tensor(0.3951, grad_fn=<NllLossBackward0>)\n",
      "tensor(0.3939, grad_fn=<NllLossBackward0>)\n",
      "tensor(0.3927, grad_fn=<NllLossBackward0>)\n",
      "tensor(0.3915, grad_fn=<NllLossBackward0>)\n",
      "tensor(0.3904, grad_fn=<NllLossBackward0>)\n",
      "tensor(0.3892, grad_fn=<NllLossBackward0>)\n",
      "tensor(0.3881, grad_fn=<NllLossBackward0>)\n",
      "tensor(0.3869, grad_fn=<NllLossBackward0>)\n",
      "tensor(0.3858, grad_fn=<NllLossBackward0>)\n",
      "tensor(0.3846, grad_fn=<NllLossBackward0>)\n",
      "tensor(0.3835, grad_fn=<NllLossBackward0>)\n",
      "tensor(0.3824, grad_fn=<NllLossBackward0>)\n",
      "tensor(0.3812, grad_fn=<NllLossBackward0>)\n",
      "tensor(0.3801, grad_fn=<NllLossBackward0>)\n",
      "tensor(0.3790, grad_fn=<NllLossBackward0>)\n",
      "tensor(0.3779, grad_fn=<NllLossBackward0>)\n",
      "tensor(0.3768, grad_fn=<NllLossBackward0>)\n",
      "tensor(0.3757, grad_fn=<NllLossBackward0>)\n",
      "tensor(0.3746, grad_fn=<NllLossBackward0>)\n",
      "tensor(0.3735, grad_fn=<NllLossBackward0>)\n",
      "tensor(0.3724, grad_fn=<NllLossBackward0>)\n",
      "tensor(0.3714, grad_fn=<NllLossBackward0>)\n",
      "tensor(0.3703, grad_fn=<NllLossBackward0>)\n",
      "tensor(0.3692, grad_fn=<NllLossBackward0>)\n",
      "tensor(0.3682, grad_fn=<NllLossBackward0>)\n",
      "tensor(0.3671, grad_fn=<NllLossBackward0>)\n",
      "tensor(0.3660, grad_fn=<NllLossBackward0>)\n",
      "tensor(0.3650, grad_fn=<NllLossBackward0>)\n",
      "tensor(0.3639, grad_fn=<NllLossBackward0>)\n",
      "tensor(0.3629, grad_fn=<NllLossBackward0>)\n",
      "tensor(0.3619, grad_fn=<NllLossBackward0>)\n",
      "tensor(0.3608, grad_fn=<NllLossBackward0>)\n",
      "tensor(0.3598, grad_fn=<NllLossBackward0>)\n",
      "tensor(0.3588, grad_fn=<NllLossBackward0>)\n",
      "tensor(0.3578, grad_fn=<NllLossBackward0>)\n",
      "tensor(0.3567, grad_fn=<NllLossBackward0>)\n",
      "tensor(0.3557, grad_fn=<NllLossBackward0>)\n",
      "tensor(0.3547, grad_fn=<NllLossBackward0>)\n",
      "tensor(0.3537, grad_fn=<NllLossBackward0>)\n",
      "tensor(0.3527, grad_fn=<NllLossBackward0>)\n",
      "tensor(0.3517, grad_fn=<NllLossBackward0>)\n",
      "tensor(0.3507, grad_fn=<NllLossBackward0>)\n",
      "tensor(0.3497, grad_fn=<NllLossBackward0>)\n",
      "tensor(0.3488, grad_fn=<NllLossBackward0>)\n",
      "tensor(0.3478, grad_fn=<NllLossBackward0>)\n",
      "tensor(0.3468, grad_fn=<NllLossBackward0>)\n",
      "tensor(0.3458, grad_fn=<NllLossBackward0>)\n",
      "tensor(0.3448, grad_fn=<NllLossBackward0>)\n",
      "tensor(0.3439, grad_fn=<NllLossBackward0>)\n",
      "tensor(0.3429, grad_fn=<NllLossBackward0>)\n",
      "tensor(0.3420, grad_fn=<NllLossBackward0>)\n",
      "tensor(0.3410, grad_fn=<NllLossBackward0>)\n",
      "tensor(0.3401, grad_fn=<NllLossBackward0>)\n",
      "tensor(0.3391, grad_fn=<NllLossBackward0>)\n",
      "tensor(0.3382, grad_fn=<NllLossBackward0>)\n",
      "tensor(0.3372, grad_fn=<NllLossBackward0>)\n",
      "tensor(0.3363, grad_fn=<NllLossBackward0>)\n",
      "tensor(0.3353, grad_fn=<NllLossBackward0>)\n",
      "tensor(0.3344, grad_fn=<NllLossBackward0>)\n",
      "tensor(0.3335, grad_fn=<NllLossBackward0>)\n",
      "tensor(0.3326, grad_fn=<NllLossBackward0>)\n",
      "tensor(0.3316, grad_fn=<NllLossBackward0>)\n",
      "tensor(0.3307, grad_fn=<NllLossBackward0>)\n",
      "tensor(0.3298, grad_fn=<NllLossBackward0>)\n",
      "tensor(0.3289, grad_fn=<NllLossBackward0>)\n",
      "tensor(0.3280, grad_fn=<NllLossBackward0>)\n",
      "tensor(0.3271, grad_fn=<NllLossBackward0>)\n",
      "tensor(0.3262, grad_fn=<NllLossBackward0>)\n",
      "tensor(0.3253, grad_fn=<NllLossBackward0>)\n",
      "tensor(0.3244, grad_fn=<NllLossBackward0>)\n",
      "tensor(0.3235, grad_fn=<NllLossBackward0>)\n",
      "tensor(0.3226, grad_fn=<NllLossBackward0>)\n",
      "tensor(0.3217, grad_fn=<NllLossBackward0>)\n",
      "tensor(0.3208, grad_fn=<NllLossBackward0>)\n",
      "tensor(0.3200, grad_fn=<NllLossBackward0>)\n",
      "tensor(0.3191, grad_fn=<NllLossBackward0>)\n",
      "tensor(0.3182, grad_fn=<NllLossBackward0>)\n",
      "tensor(0.3173, grad_fn=<NllLossBackward0>)\n",
      "tensor(0.3165, grad_fn=<NllLossBackward0>)\n",
      "tensor(0.3156, grad_fn=<NllLossBackward0>)\n",
      "tensor(0.3147, grad_fn=<NllLossBackward0>)\n",
      "tensor(0.3139, grad_fn=<NllLossBackward0>)\n",
      "tensor(0.3130, grad_fn=<NllLossBackward0>)\n",
      "tensor(0.3122, grad_fn=<NllLossBackward0>)\n",
      "tensor(0.3113, grad_fn=<NllLossBackward0>)\n",
      "tensor(0.3105, grad_fn=<NllLossBackward0>)\n",
      "tensor(0.3096, grad_fn=<NllLossBackward0>)\n",
      "tensor(0.3088, grad_fn=<NllLossBackward0>)\n",
      "tensor(0.3079, grad_fn=<NllLossBackward0>)\n",
      "tensor(0.3071, grad_fn=<NllLossBackward0>)\n",
      "tensor(0.3063, grad_fn=<NllLossBackward0>)\n",
      "tensor(0.3054, grad_fn=<NllLossBackward0>)\n",
      "tensor(0.3046, grad_fn=<NllLossBackward0>)\n",
      "tensor(0.3038, grad_fn=<NllLossBackward0>)\n",
      "tensor(0.3030, grad_fn=<NllLossBackward0>)\n",
      "tensor(0.3021, grad_fn=<NllLossBackward0>)\n",
      "tensor(0.3013, grad_fn=<NllLossBackward0>)\n",
      "tensor(0.3005, grad_fn=<NllLossBackward0>)\n",
      "tensor(0.2997, grad_fn=<NllLossBackward0>)\n",
      "tensor(0.2989, grad_fn=<NllLossBackward0>)\n",
      "tensor(0.2981, grad_fn=<NllLossBackward0>)\n",
      "tensor(0.2973, grad_fn=<NllLossBackward0>)\n",
      "tensor(0.2965, grad_fn=<NllLossBackward0>)\n",
      "tensor(0.2957, grad_fn=<NllLossBackward0>)\n",
      "tensor(0.2949, grad_fn=<NllLossBackward0>)\n",
      "tensor(0.2941, grad_fn=<NllLossBackward0>)\n",
      "tensor(0.2933, grad_fn=<NllLossBackward0>)\n",
      "tensor(0.2925, grad_fn=<NllLossBackward0>)\n",
      "tensor(0.2917, grad_fn=<NllLossBackward0>)\n",
      "tensor(0.2909, grad_fn=<NllLossBackward0>)\n",
      "tensor(0.2901, grad_fn=<NllLossBackward0>)\n",
      "tensor(0.2894, grad_fn=<NllLossBackward0>)\n",
      "tensor(0.2886, grad_fn=<NllLossBackward0>)\n",
      "tensor(0.2878, grad_fn=<NllLossBackward0>)\n",
      "tensor(0.2870, grad_fn=<NllLossBackward0>)\n",
      "tensor(0.2863, grad_fn=<NllLossBackward0>)\n",
      "tensor(0.2855, grad_fn=<NllLossBackward0>)\n",
      "tensor(0.2847, grad_fn=<NllLossBackward0>)\n",
      "tensor(0.2840, grad_fn=<NllLossBackward0>)\n",
      "tensor(0.2832, grad_fn=<NllLossBackward0>)\n",
      "tensor(0.2825, grad_fn=<NllLossBackward0>)\n",
      "tensor(0.2817, grad_fn=<NllLossBackward0>)\n",
      "tensor(0.2810, grad_fn=<NllLossBackward0>)\n",
      "tensor(0.2802, grad_fn=<NllLossBackward0>)\n",
      "tensor(0.2795, grad_fn=<NllLossBackward0>)\n",
      "tensor(0.2787, grad_fn=<NllLossBackward0>)\n",
      "tensor(0.2780, grad_fn=<NllLossBackward0>)\n",
      "tensor(0.2772, grad_fn=<NllLossBackward0>)\n",
      "tensor(0.2765, grad_fn=<NllLossBackward0>)\n",
      "tensor(0.2757, grad_fn=<NllLossBackward0>)\n",
      "tensor(0.2750, grad_fn=<NllLossBackward0>)\n",
      "tensor(0.2743, grad_fn=<NllLossBackward0>)\n",
      "tensor(0.2736, grad_fn=<NllLossBackward0>)\n",
      "tensor(0.2728, grad_fn=<NllLossBackward0>)\n",
      "tensor(0.2721, grad_fn=<NllLossBackward0>)\n",
      "tensor(0.2714, grad_fn=<NllLossBackward0>)\n",
      "tensor(0.2707, grad_fn=<NllLossBackward0>)\n",
      "tensor(0.2699, grad_fn=<NllLossBackward0>)\n",
      "tensor(0.2692, grad_fn=<NllLossBackward0>)\n",
      "tensor(0.2685, grad_fn=<NllLossBackward0>)\n",
      "tensor(0.2678, grad_fn=<NllLossBackward0>)\n",
      "tensor(0.2671, grad_fn=<NllLossBackward0>)\n",
      "tensor(0.2664, grad_fn=<NllLossBackward0>)\n",
      "tensor(0.2657, grad_fn=<NllLossBackward0>)\n",
      "tensor(0.2650, grad_fn=<NllLossBackward0>)\n",
      "tensor(0.2643, grad_fn=<NllLossBackward0>)\n",
      "tensor(0.2636, grad_fn=<NllLossBackward0>)\n",
      "tensor(0.2629, grad_fn=<NllLossBackward0>)\n",
      "tensor(0.2622, grad_fn=<NllLossBackward0>)\n",
      "tensor(0.2615, grad_fn=<NllLossBackward0>)\n",
      "tensor(0.2608, grad_fn=<NllLossBackward0>)\n",
      "tensor(0.2601, grad_fn=<NllLossBackward0>)\n",
      "tensor(0.2594, grad_fn=<NllLossBackward0>)\n",
      "tensor(0.2587, grad_fn=<NllLossBackward0>)\n",
      "tensor(0.2581, grad_fn=<NllLossBackward0>)\n",
      "tensor(0.2574, grad_fn=<NllLossBackward0>)\n",
      "tensor(0.2567, grad_fn=<NllLossBackward0>)\n",
      "tensor(0.2560, grad_fn=<NllLossBackward0>)\n",
      "tensor(0.2554, grad_fn=<NllLossBackward0>)\n",
      "tensor(0.2547, grad_fn=<NllLossBackward0>)\n",
      "tensor(0.2540, grad_fn=<NllLossBackward0>)\n",
      "tensor(0.2534, grad_fn=<NllLossBackward0>)\n",
      "tensor(0.2527, grad_fn=<NllLossBackward0>)\n",
      "tensor(0.2520, grad_fn=<NllLossBackward0>)\n",
      "tensor(0.2514, grad_fn=<NllLossBackward0>)\n",
      "tensor(0.2507, grad_fn=<NllLossBackward0>)\n",
      "tensor(0.2501, grad_fn=<NllLossBackward0>)\n",
      "tensor(0.2494, grad_fn=<NllLossBackward0>)\n",
      "tensor(0.2488, grad_fn=<NllLossBackward0>)\n",
      "tensor(0.2481, grad_fn=<NllLossBackward0>)\n",
      "tensor(0.2475, grad_fn=<NllLossBackward0>)\n",
      "tensor(0.2468, grad_fn=<NllLossBackward0>)\n",
      "tensor(0.2462, grad_fn=<NllLossBackward0>)\n",
      "tensor(0.2455, grad_fn=<NllLossBackward0>)\n",
      "tensor(0.2449, grad_fn=<NllLossBackward0>)\n",
      "tensor(0.2442, grad_fn=<NllLossBackward0>)\n",
      "tensor(0.2436, grad_fn=<NllLossBackward0>)\n",
      "tensor(0.2430, grad_fn=<NllLossBackward0>)\n",
      "tensor(0.2423, grad_fn=<NllLossBackward0>)\n",
      "tensor(0.2417, grad_fn=<NllLossBackward0>)\n",
      "tensor(0.2411, grad_fn=<NllLossBackward0>)\n",
      "tensor(0.2405, grad_fn=<NllLossBackward0>)\n",
      "tensor(0.2398, grad_fn=<NllLossBackward0>)\n",
      "tensor(0.2392, grad_fn=<NllLossBackward0>)\n",
      "tensor(0.2386, grad_fn=<NllLossBackward0>)\n",
      "tensor(0.2380, grad_fn=<NllLossBackward0>)\n",
      "tensor(0.2374, grad_fn=<NllLossBackward0>)\n",
      "tensor(0.2367, grad_fn=<NllLossBackward0>)\n",
      "tensor(0.2361, grad_fn=<NllLossBackward0>)\n",
      "tensor(0.2355, grad_fn=<NllLossBackward0>)\n",
      "tensor(0.2349, grad_fn=<NllLossBackward0>)\n",
      "tensor(0.2343, grad_fn=<NllLossBackward0>)\n",
      "tensor(0.2337, grad_fn=<NllLossBackward0>)\n",
      "tensor(0.2331, grad_fn=<NllLossBackward0>)\n",
      "tensor(0.2325, grad_fn=<NllLossBackward0>)\n",
      "tensor(0.2319, grad_fn=<NllLossBackward0>)\n",
      "tensor(0.2313, grad_fn=<NllLossBackward0>)\n",
      "tensor(0.2307, grad_fn=<NllLossBackward0>)\n",
      "tensor(0.2301, grad_fn=<NllLossBackward0>)\n",
      "tensor(0.2295, grad_fn=<NllLossBackward0>)\n",
      "tensor(0.2289, grad_fn=<NllLossBackward0>)\n",
      "tensor(0.2283, grad_fn=<NllLossBackward0>)\n",
      "tensor(0.2277, grad_fn=<NllLossBackward0>)\n",
      "tensor(0.2272, grad_fn=<NllLossBackward0>)\n",
      "tensor(0.2266, grad_fn=<NllLossBackward0>)\n",
      "tensor(0.2260, grad_fn=<NllLossBackward0>)\n",
      "tensor(0.2254, grad_fn=<NllLossBackward0>)\n",
      "tensor(0.2248, grad_fn=<NllLossBackward0>)\n",
      "tensor(0.2243, grad_fn=<NllLossBackward0>)\n",
      "tensor(0.2237, grad_fn=<NllLossBackward0>)\n",
      "tensor(0.2231, grad_fn=<NllLossBackward0>)\n",
      "tensor(0.2225, grad_fn=<NllLossBackward0>)\n",
      "tensor(0.2220, grad_fn=<NllLossBackward0>)\n",
      "tensor(0.2214, grad_fn=<NllLossBackward0>)\n",
      "tensor(0.2208, grad_fn=<NllLossBackward0>)\n",
      "tensor(0.2203, grad_fn=<NllLossBackward0>)\n",
      "tensor(0.2197, grad_fn=<NllLossBackward0>)\n",
      "tensor(0.2192, grad_fn=<NllLossBackward0>)\n",
      "tensor(0.2186, grad_fn=<NllLossBackward0>)\n",
      "tensor(0.2180, grad_fn=<NllLossBackward0>)\n",
      "tensor(0.2175, grad_fn=<NllLossBackward0>)\n",
      "tensor(0.2169, grad_fn=<NllLossBackward0>)\n",
      "tensor(0.2164, grad_fn=<NllLossBackward0>)\n",
      "tensor(0.2158, grad_fn=<NllLossBackward0>)\n",
      "tensor(0.2153, grad_fn=<NllLossBackward0>)\n",
      "tensor(0.2147, grad_fn=<NllLossBackward0>)\n",
      "tensor(0.2142, grad_fn=<NllLossBackward0>)\n",
      "tensor(0.2137, grad_fn=<NllLossBackward0>)\n",
      "tensor(0.2131, grad_fn=<NllLossBackward0>)\n",
      "tensor(0.2126, grad_fn=<NllLossBackward0>)\n",
      "tensor(0.2120, grad_fn=<NllLossBackward0>)\n",
      "tensor(0.2115, grad_fn=<NllLossBackward0>)\n",
      "tensor(0.2110, grad_fn=<NllLossBackward0>)\n",
      "tensor(0.2104, grad_fn=<NllLossBackward0>)\n",
      "tensor(0.2099, grad_fn=<NllLossBackward0>)\n",
      "tensor(0.2094, grad_fn=<NllLossBackward0>)\n",
      "tensor(0.2088, grad_fn=<NllLossBackward0>)\n",
      "tensor(0.2083, grad_fn=<NllLossBackward0>)\n",
      "tensor(0.2078, grad_fn=<NllLossBackward0>)\n",
      "tensor(0.2073, grad_fn=<NllLossBackward0>)\n",
      "tensor(0.2068, grad_fn=<NllLossBackward0>)\n",
      "tensor(0.2062, grad_fn=<NllLossBackward0>)\n",
      "tensor(0.2057, grad_fn=<NllLossBackward0>)\n",
      "tensor(0.2052, grad_fn=<NllLossBackward0>)\n",
      "tensor(0.2047, grad_fn=<NllLossBackward0>)\n",
      "tensor(0.2042, grad_fn=<NllLossBackward0>)\n",
      "tensor(0.2037, grad_fn=<NllLossBackward0>)\n",
      "tensor(0.2032, grad_fn=<NllLossBackward0>)\n",
      "tensor(0.2027, grad_fn=<NllLossBackward0>)\n",
      "tensor(0.2021, grad_fn=<NllLossBackward0>)\n",
      "tensor(0.2016, grad_fn=<NllLossBackward0>)\n",
      "tensor(0.2011, grad_fn=<NllLossBackward0>)\n",
      "tensor(0.2006, grad_fn=<NllLossBackward0>)\n",
      "tensor(0.2001, grad_fn=<NllLossBackward0>)\n",
      "tensor(0.1996, grad_fn=<NllLossBackward0>)\n",
      "tensor(0.1991, grad_fn=<NllLossBackward0>)\n",
      "tensor(0.1986, grad_fn=<NllLossBackward0>)\n",
      "tensor(0.1982, grad_fn=<NllLossBackward0>)\n",
      "tensor(0.1977, grad_fn=<NllLossBackward0>)\n",
      "tensor(0.1972, grad_fn=<NllLossBackward0>)\n",
      "tensor(0.1967, grad_fn=<NllLossBackward0>)\n",
      "tensor(0.1962, grad_fn=<NllLossBackward0>)\n",
      "tensor(0.1957, grad_fn=<NllLossBackward0>)\n",
      "tensor(0.1952, grad_fn=<NllLossBackward0>)\n",
      "tensor(0.1947, grad_fn=<NllLossBackward0>)\n",
      "tensor(0.1943, grad_fn=<NllLossBackward0>)\n",
      "tensor(0.1938, grad_fn=<NllLossBackward0>)\n",
      "tensor(0.1933, grad_fn=<NllLossBackward0>)\n",
      "tensor(0.1928, grad_fn=<NllLossBackward0>)\n",
      "tensor(0.1924, grad_fn=<NllLossBackward0>)\n",
      "tensor(0.1919, grad_fn=<NllLossBackward0>)\n",
      "tensor(0.1914, grad_fn=<NllLossBackward0>)\n",
      "tensor(0.1909, grad_fn=<NllLossBackward0>)\n",
      "tensor(0.1905, grad_fn=<NllLossBackward0>)\n",
      "tensor(0.1900, grad_fn=<NllLossBackward0>)\n",
      "tensor(0.1895, grad_fn=<NllLossBackward0>)\n",
      "tensor(0.1891, grad_fn=<NllLossBackward0>)\n",
      "tensor(0.1886, grad_fn=<NllLossBackward0>)\n",
      "tensor(0.1882, grad_fn=<NllLossBackward0>)\n",
      "tensor(0.1877, grad_fn=<NllLossBackward0>)\n",
      "tensor(0.1872, grad_fn=<NllLossBackward0>)\n",
      "tensor(0.1868, grad_fn=<NllLossBackward0>)\n",
      "tensor(0.1863, grad_fn=<NllLossBackward0>)\n",
      "tensor(0.1859, grad_fn=<NllLossBackward0>)\n",
      "tensor(0.1854, grad_fn=<NllLossBackward0>)\n",
      "tensor(0.1850, grad_fn=<NllLossBackward0>)\n",
      "tensor(0.1845, grad_fn=<NllLossBackward0>)\n",
      "tensor(0.1841, grad_fn=<NllLossBackward0>)\n",
      "tensor(0.1836, grad_fn=<NllLossBackward0>)\n",
      "tensor(0.1832, grad_fn=<NllLossBackward0>)\n",
      "tensor(0.1827, grad_fn=<NllLossBackward0>)\n",
      "tensor(0.1823, grad_fn=<NllLossBackward0>)\n",
      "tensor(0.1819, grad_fn=<NllLossBackward0>)\n",
      "tensor(0.1814, grad_fn=<NllLossBackward0>)\n",
      "tensor(0.1810, grad_fn=<NllLossBackward0>)\n",
      "tensor(0.1805, grad_fn=<NllLossBackward0>)\n",
      "tensor(0.1801, grad_fn=<NllLossBackward0>)\n",
      "tensor(0.1797, grad_fn=<NllLossBackward0>)\n",
      "tensor(0.1792, grad_fn=<NllLossBackward0>)\n",
      "tensor(0.1788, grad_fn=<NllLossBackward0>)\n",
      "tensor(0.1784, grad_fn=<NllLossBackward0>)\n",
      "tensor(0.1779, grad_fn=<NllLossBackward0>)\n",
      "tensor(0.1775, grad_fn=<NllLossBackward0>)\n",
      "tensor(0.1771, grad_fn=<NllLossBackward0>)\n",
      "tensor(0.1767, grad_fn=<NllLossBackward0>)\n",
      "tensor(0.1762, grad_fn=<NllLossBackward0>)\n",
      "tensor(0.1758, grad_fn=<NllLossBackward0>)\n",
      "tensor(0.1754, grad_fn=<NllLossBackward0>)\n",
      "tensor(0.1750, grad_fn=<NllLossBackward0>)\n",
      "tensor(0.1746, grad_fn=<NllLossBackward0>)\n",
      "tensor(0.1742, grad_fn=<NllLossBackward0>)\n",
      "tensor(0.1737, grad_fn=<NllLossBackward0>)\n",
      "tensor(0.1733, grad_fn=<NllLossBackward0>)\n",
      "tensor(0.1729, grad_fn=<NllLossBackward0>)\n",
      "tensor(0.1725, grad_fn=<NllLossBackward0>)\n",
      "tensor(0.1721, grad_fn=<NllLossBackward0>)\n",
      "tensor(0.1717, grad_fn=<NllLossBackward0>)\n",
      "tensor(0.1713, grad_fn=<NllLossBackward0>)\n",
      "tensor(0.1709, grad_fn=<NllLossBackward0>)\n",
      "tensor(0.1705, grad_fn=<NllLossBackward0>)\n",
      "tensor(0.1701, grad_fn=<NllLossBackward0>)\n",
      "tensor(0.1697, grad_fn=<NllLossBackward0>)\n",
      "tensor(0.1693, grad_fn=<NllLossBackward0>)\n",
      "tensor(0.1689, grad_fn=<NllLossBackward0>)\n",
      "tensor(0.1685, grad_fn=<NllLossBackward0>)\n",
      "tensor(0.1681, grad_fn=<NllLossBackward0>)\n",
      "tensor(0.1677, grad_fn=<NllLossBackward0>)\n",
      "tensor(0.1673, grad_fn=<NllLossBackward0>)\n",
      "tensor(0.1669, grad_fn=<NllLossBackward0>)\n",
      "tensor(0.1665, grad_fn=<NllLossBackward0>)\n",
      "tensor(0.1661, grad_fn=<NllLossBackward0>)\n",
      "tensor(0.1657, grad_fn=<NllLossBackward0>)\n",
      "tensor(0.1653, grad_fn=<NllLossBackward0>)\n",
      "tensor(0.1649, grad_fn=<NllLossBackward0>)\n",
      "tensor(0.1646, grad_fn=<NllLossBackward0>)\n",
      "tensor(0.1642, grad_fn=<NllLossBackward0>)\n",
      "tensor(0.1638, grad_fn=<NllLossBackward0>)\n",
      "tensor(0.1634, grad_fn=<NllLossBackward0>)\n",
      "tensor(0.1630, grad_fn=<NllLossBackward0>)\n",
      "tensor(0.1627, grad_fn=<NllLossBackward0>)\n",
      "tensor(0.1623, grad_fn=<NllLossBackward0>)\n",
      "tensor(0.1619, grad_fn=<NllLossBackward0>)\n",
      "tensor(0.1615, grad_fn=<NllLossBackward0>)\n",
      "tensor(0.1611, grad_fn=<NllLossBackward0>)\n",
      "tensor(0.1608, grad_fn=<NllLossBackward0>)\n",
      "tensor(0.1604, grad_fn=<NllLossBackward0>)\n",
      "tensor(0.1600, grad_fn=<NllLossBackward0>)\n",
      "tensor(0.1597, grad_fn=<NllLossBackward0>)\n",
      "tensor(0.1593, grad_fn=<NllLossBackward0>)\n",
      "tensor(0.1589, grad_fn=<NllLossBackward0>)\n",
      "tensor(0.1586, grad_fn=<NllLossBackward0>)\n",
      "tensor(0.1582, grad_fn=<NllLossBackward0>)\n",
      "tensor(0.1578, grad_fn=<NllLossBackward0>)\n",
      "tensor(0.1575, grad_fn=<NllLossBackward0>)\n",
      "tensor(0.1571, grad_fn=<NllLossBackward0>)\n",
      "tensor(0.1568, grad_fn=<NllLossBackward0>)\n",
      "tensor(0.1564, grad_fn=<NllLossBackward0>)\n",
      "tensor(0.1560, grad_fn=<NllLossBackward0>)\n",
      "tensor(0.1557, grad_fn=<NllLossBackward0>)\n",
      "tensor(0.1553, grad_fn=<NllLossBackward0>)\n",
      "tensor(0.1550, grad_fn=<NllLossBackward0>)\n",
      "tensor(0.1546, grad_fn=<NllLossBackward0>)\n",
      "tensor(0.1543, grad_fn=<NllLossBackward0>)\n",
      "tensor(0.1539, grad_fn=<NllLossBackward0>)\n",
      "tensor(0.1536, grad_fn=<NllLossBackward0>)\n",
      "tensor(0.1532, grad_fn=<NllLossBackward0>)\n",
      "tensor(0.1529, grad_fn=<NllLossBackward0>)\n",
      "tensor(0.1525, grad_fn=<NllLossBackward0>)\n",
      "tensor(0.1522, grad_fn=<NllLossBackward0>)\n",
      "tensor(0.1518, grad_fn=<NllLossBackward0>)\n",
      "tensor(0.1515, grad_fn=<NllLossBackward0>)\n",
      "tensor(0.1511, grad_fn=<NllLossBackward0>)\n",
      "tensor(0.1508, grad_fn=<NllLossBackward0>)\n",
      "tensor(0.1505, grad_fn=<NllLossBackward0>)\n",
      "tensor(0.1501, grad_fn=<NllLossBackward0>)\n",
      "tensor(0.1498, grad_fn=<NllLossBackward0>)\n",
      "tensor(0.1495, grad_fn=<NllLossBackward0>)\n",
      "tensor(0.1491, grad_fn=<NllLossBackward0>)\n",
      "tensor(0.1488, grad_fn=<NllLossBackward0>)\n",
      "tensor(0.1484, grad_fn=<NllLossBackward0>)\n",
      "tensor(0.1481, grad_fn=<NllLossBackward0>)\n",
      "tensor(0.1478, grad_fn=<NllLossBackward0>)\n",
      "tensor(0.1475, grad_fn=<NllLossBackward0>)\n",
      "tensor(0.1471, grad_fn=<NllLossBackward0>)\n",
      "tensor(0.1468, grad_fn=<NllLossBackward0>)\n",
      "tensor(0.1465, grad_fn=<NllLossBackward0>)\n",
      "tensor(0.1461, grad_fn=<NllLossBackward0>)\n",
      "tensor(0.1458, grad_fn=<NllLossBackward0>)\n",
      "tensor(0.1455, grad_fn=<NllLossBackward0>)\n",
      "tensor(0.1452, grad_fn=<NllLossBackward0>)\n",
      "tensor(0.1449, grad_fn=<NllLossBackward0>)\n",
      "tensor(0.1445, grad_fn=<NllLossBackward0>)\n",
      "tensor(0.1442, grad_fn=<NllLossBackward0>)\n",
      "tensor(0.1439, grad_fn=<NllLossBackward0>)\n",
      "tensor(0.1436, grad_fn=<NllLossBackward0>)\n",
      "tensor(0.1433, grad_fn=<NllLossBackward0>)\n",
      "tensor(0.1429, grad_fn=<NllLossBackward0>)\n",
      "tensor(0.1426, grad_fn=<NllLossBackward0>)\n",
      "tensor(0.1423, grad_fn=<NllLossBackward0>)\n",
      "tensor(0.1420, grad_fn=<NllLossBackward0>)\n",
      "tensor(0.1417, grad_fn=<NllLossBackward0>)\n",
      "tensor(0.1414, grad_fn=<NllLossBackward0>)\n",
      "tensor(0.1411, grad_fn=<NllLossBackward0>)\n",
      "tensor(0.1408, grad_fn=<NllLossBackward0>)\n",
      "tensor(0.1404, grad_fn=<NllLossBackward0>)\n",
      "tensor(0.1401, grad_fn=<NllLossBackward0>)\n",
      "tensor(0.1398, grad_fn=<NllLossBackward0>)\n",
      "tensor(0.1395, grad_fn=<NllLossBackward0>)\n",
      "tensor(0.1392, grad_fn=<NllLossBackward0>)\n",
      "tensor(0.1389, grad_fn=<NllLossBackward0>)\n",
      "tensor(0.1386, grad_fn=<NllLossBackward0>)\n",
      "tensor(0.1383, grad_fn=<NllLossBackward0>)\n",
      "tensor(0.1380, grad_fn=<NllLossBackward0>)\n",
      "tensor(0.1377, grad_fn=<NllLossBackward0>)\n",
      "tensor(0.1374, grad_fn=<NllLossBackward0>)\n",
      "tensor(0.1371, grad_fn=<NllLossBackward0>)\n",
      "tensor(0.1368, grad_fn=<NllLossBackward0>)\n",
      "tensor(0.1365, grad_fn=<NllLossBackward0>)\n",
      "tensor(0.1362, grad_fn=<NllLossBackward0>)\n",
      "tensor(0.1359, grad_fn=<NllLossBackward0>)\n",
      "tensor(0.1357, grad_fn=<NllLossBackward0>)\n",
      "tensor(0.1354, grad_fn=<NllLossBackward0>)\n",
      "tensor(0.1351, grad_fn=<NllLossBackward0>)\n",
      "tensor(0.1348, grad_fn=<NllLossBackward0>)\n",
      "tensor(0.1345, grad_fn=<NllLossBackward0>)\n",
      "tensor(0.1342, grad_fn=<NllLossBackward0>)\n",
      "tensor(0.1339, grad_fn=<NllLossBackward0>)\n",
      "tensor(0.1336, grad_fn=<NllLossBackward0>)\n",
      "tensor(0.1333, grad_fn=<NllLossBackward0>)\n",
      "tensor(0.1331, grad_fn=<NllLossBackward0>)\n",
      "tensor(0.1328, grad_fn=<NllLossBackward0>)\n",
      "tensor(0.1325, grad_fn=<NllLossBackward0>)\n",
      "tensor(0.1322, grad_fn=<NllLossBackward0>)\n",
      "tensor(0.1319, grad_fn=<NllLossBackward0>)\n",
      "tensor(0.1316, grad_fn=<NllLossBackward0>)\n",
      "tensor(0.1314, grad_fn=<NllLossBackward0>)\n",
      "tensor(0.1311, grad_fn=<NllLossBackward0>)\n",
      "tensor(0.1308, grad_fn=<NllLossBackward0>)\n",
      "tensor(0.1305, grad_fn=<NllLossBackward0>)\n",
      "tensor(0.1303, grad_fn=<NllLossBackward0>)\n",
      "tensor(0.1300, grad_fn=<NllLossBackward0>)\n",
      "tensor(0.1297, grad_fn=<NllLossBackward0>)\n",
      "tensor(0.1294, grad_fn=<NllLossBackward0>)\n",
      "tensor(0.1292, grad_fn=<NllLossBackward0>)\n",
      "tensor(0.1289, grad_fn=<NllLossBackward0>)\n",
      "tensor(0.1286, grad_fn=<NllLossBackward0>)\n",
      "tensor(0.1284, grad_fn=<NllLossBackward0>)\n",
      "tensor(0.1281, grad_fn=<NllLossBackward0>)\n",
      "tensor(0.1278, grad_fn=<NllLossBackward0>)\n",
      "tensor(0.1275, grad_fn=<NllLossBackward0>)\n",
      "tensor(0.1273, grad_fn=<NllLossBackward0>)\n",
      "tensor(0.1270, grad_fn=<NllLossBackward0>)\n",
      "tensor(0.1267, grad_fn=<NllLossBackward0>)\n",
      "tensor(0.1265, grad_fn=<NllLossBackward0>)\n",
      "tensor(0.1262, grad_fn=<NllLossBackward0>)\n",
      "tensor(0.1260, grad_fn=<NllLossBackward0>)\n",
      "tensor(0.1257, grad_fn=<NllLossBackward0>)\n",
      "tensor(0.1254, grad_fn=<NllLossBackward0>)\n",
      "tensor(0.1252, grad_fn=<NllLossBackward0>)\n",
      "tensor(0.1249, grad_fn=<NllLossBackward0>)\n",
      "tensor(0.1247, grad_fn=<NllLossBackward0>)\n",
      "tensor(0.1244, grad_fn=<NllLossBackward0>)\n",
      "tensor(0.1241, grad_fn=<NllLossBackward0>)\n",
      "tensor(0.1239, grad_fn=<NllLossBackward0>)\n",
      "tensor(0.1236, grad_fn=<NllLossBackward0>)\n",
      "tensor(0.1234, grad_fn=<NllLossBackward0>)\n",
      "tensor(0.1231, grad_fn=<NllLossBackward0>)\n",
      "tensor(0.1229, grad_fn=<NllLossBackward0>)\n",
      "tensor(0.1226, grad_fn=<NllLossBackward0>)\n",
      "tensor(0.1224, grad_fn=<NllLossBackward0>)\n",
      "tensor(0.1221, grad_fn=<NllLossBackward0>)\n",
      "tensor(0.1219, grad_fn=<NllLossBackward0>)\n",
      "tensor(0.1216, grad_fn=<NllLossBackward0>)\n",
      "tensor(0.1214, grad_fn=<NllLossBackward0>)\n",
      "tensor(0.1211, grad_fn=<NllLossBackward0>)\n",
      "tensor(0.1209, grad_fn=<NllLossBackward0>)\n",
      "tensor(0.1206, grad_fn=<NllLossBackward0>)\n",
      "tensor(0.1204, grad_fn=<NllLossBackward0>)\n",
      "tensor(0.1201, grad_fn=<NllLossBackward0>)\n",
      "tensor(0.1199, grad_fn=<NllLossBackward0>)\n",
      "tensor(0.1197, grad_fn=<NllLossBackward0>)\n",
      "tensor(0.1194, grad_fn=<NllLossBackward0>)\n",
      "tensor(0.1192, grad_fn=<NllLossBackward0>)\n",
      "tensor(0.1189, grad_fn=<NllLossBackward0>)\n",
      "tensor(0.1187, grad_fn=<NllLossBackward0>)\n",
      "tensor(0.1184, grad_fn=<NllLossBackward0>)\n",
      "tensor(0.1182, grad_fn=<NllLossBackward0>)\n",
      "tensor(0.1180, grad_fn=<NllLossBackward0>)\n",
      "tensor(0.1177, grad_fn=<NllLossBackward0>)\n",
      "tensor(0.1175, grad_fn=<NllLossBackward0>)\n",
      "tensor(0.1173, grad_fn=<NllLossBackward0>)\n",
      "tensor(0.1170, grad_fn=<NllLossBackward0>)\n",
      "tensor(0.1168, grad_fn=<NllLossBackward0>)\n",
      "tensor(0.1166, grad_fn=<NllLossBackward0>)\n",
      "tensor(0.1163, grad_fn=<NllLossBackward0>)\n",
      "tensor(0.1161, grad_fn=<NllLossBackward0>)\n",
      "tensor(0.1159, grad_fn=<NllLossBackward0>)\n",
      "tensor(0.1156, grad_fn=<NllLossBackward0>)\n",
      "tensor(0.1154, grad_fn=<NllLossBackward0>)\n",
      "tensor(0.1152, grad_fn=<NllLossBackward0>)\n",
      "tensor(0.1149, grad_fn=<NllLossBackward0>)\n",
      "tensor(0.1147, grad_fn=<NllLossBackward0>)\n",
      "tensor(0.1145, grad_fn=<NllLossBackward0>)\n",
      "tensor(0.1143, grad_fn=<NllLossBackward0>)\n",
      "tensor(0.1140, grad_fn=<NllLossBackward0>)\n",
      "tensor(0.1138, grad_fn=<NllLossBackward0>)\n",
      "tensor(0.1136, grad_fn=<NllLossBackward0>)\n",
      "tensor(0.1134, grad_fn=<NllLossBackward0>)\n",
      "tensor(0.1131, grad_fn=<NllLossBackward0>)\n",
      "tensor(0.1129, grad_fn=<NllLossBackward0>)\n",
      "tensor(0.1127, grad_fn=<NllLossBackward0>)\n",
      "tensor(0.1125, grad_fn=<NllLossBackward0>)\n",
      "tensor(0.1123, grad_fn=<NllLossBackward0>)\n",
      "tensor(0.1120, grad_fn=<NllLossBackward0>)\n",
      "tensor(0.1118, grad_fn=<NllLossBackward0>)\n",
      "tensor(0.1116, grad_fn=<NllLossBackward0>)\n",
      "tensor(0.1114, grad_fn=<NllLossBackward0>)\n",
      "tensor(0.1112, grad_fn=<NllLossBackward0>)\n",
      "tensor(0.1109, grad_fn=<NllLossBackward0>)\n",
      "tensor(0.1107, grad_fn=<NllLossBackward0>)\n",
      "tensor(0.1105, grad_fn=<NllLossBackward0>)\n",
      "tensor(0.1103, grad_fn=<NllLossBackward0>)\n",
      "tensor(0.1101, grad_fn=<NllLossBackward0>)\n",
      "tensor(0.1099, grad_fn=<NllLossBackward0>)\n",
      "tensor(0.1097, grad_fn=<NllLossBackward0>)\n",
      "tensor(0.1094, grad_fn=<NllLossBackward0>)\n",
      "tensor(0.1092, grad_fn=<NllLossBackward0>)\n",
      "tensor(0.1090, grad_fn=<NllLossBackward0>)\n",
      "tensor(0.1088, grad_fn=<NllLossBackward0>)\n",
      "tensor(0.1086, grad_fn=<NllLossBackward0>)\n",
      "tensor(0.1084, grad_fn=<NllLossBackward0>)\n",
      "tensor(0.1082, grad_fn=<NllLossBackward0>)\n",
      "tensor(0.1080, grad_fn=<NllLossBackward0>)\n",
      "tensor(0.1078, grad_fn=<NllLossBackward0>)\n",
      "tensor(0.1076, grad_fn=<NllLossBackward0>)\n",
      "tensor(0.1074, grad_fn=<NllLossBackward0>)\n",
      "tensor(0.1071, grad_fn=<NllLossBackward0>)\n",
      "tensor(0.1069, grad_fn=<NllLossBackward0>)\n",
      "tensor(0.1067, grad_fn=<NllLossBackward0>)\n",
      "tensor(0.1065, grad_fn=<NllLossBackward0>)\n",
      "tensor(0.1063, grad_fn=<NllLossBackward0>)\n",
      "tensor(0.1061, grad_fn=<NllLossBackward0>)\n",
      "tensor(0.1059, grad_fn=<NllLossBackward0>)\n",
      "tensor(0.1057, grad_fn=<NllLossBackward0>)\n",
      "tensor(0.1055, grad_fn=<NllLossBackward0>)\n",
      "tensor(0.1053, grad_fn=<NllLossBackward0>)\n",
      "tensor(0.1051, grad_fn=<NllLossBackward0>)\n",
      "tensor(0.1049, grad_fn=<NllLossBackward0>)\n",
      "tensor(0.1047, grad_fn=<NllLossBackward0>)\n",
      "tensor(0.1045, grad_fn=<NllLossBackward0>)\n",
      "tensor(0.1043, grad_fn=<NllLossBackward0>)\n",
      "tensor(0.1041, grad_fn=<NllLossBackward0>)\n",
      "tensor(0.1039, grad_fn=<NllLossBackward0>)\n",
      "tensor(0.1037, grad_fn=<NllLossBackward0>)\n",
      "tensor(0.1036, grad_fn=<NllLossBackward0>)\n",
      "tensor(0.1034, grad_fn=<NllLossBackward0>)\n",
      "tensor(0.1032, grad_fn=<NllLossBackward0>)\n",
      "tensor(0.1030, grad_fn=<NllLossBackward0>)\n",
      "tensor(0.1028, grad_fn=<NllLossBackward0>)\n",
      "tensor(0.1026, grad_fn=<NllLossBackward0>)\n",
      "tensor(0.1024, grad_fn=<NllLossBackward0>)\n",
      "tensor(0.1022, grad_fn=<NllLossBackward0>)\n",
      "tensor(0.1020, grad_fn=<NllLossBackward0>)\n",
      "tensor(0.1018, grad_fn=<NllLossBackward0>)\n",
      "tensor(0.1016, grad_fn=<NllLossBackward0>)\n",
      "tensor(0.1014, grad_fn=<NllLossBackward0>)\n",
      "tensor(0.1013, grad_fn=<NllLossBackward0>)\n",
      "tensor(0.1011, grad_fn=<NllLossBackward0>)\n",
      "tensor(0.1009, grad_fn=<NllLossBackward0>)\n",
      "tensor(0.1007, grad_fn=<NllLossBackward0>)\n",
      "tensor(0.1005, grad_fn=<NllLossBackward0>)\n",
      "tensor(0.1003, grad_fn=<NllLossBackward0>)\n",
      "tensor(0.1001, grad_fn=<NllLossBackward0>)\n",
      "tensor(0.1000, grad_fn=<NllLossBackward0>)\n",
      "tensor(0.0998, grad_fn=<NllLossBackward0>)\n",
      "tensor(0.0996, grad_fn=<NllLossBackward0>)\n",
      "tensor(0.0994, grad_fn=<NllLossBackward0>)\n",
      "tensor(0.0992, grad_fn=<NllLossBackward0>)\n",
      "tensor(0.0990, grad_fn=<NllLossBackward0>)\n",
      "tensor(0.0989, grad_fn=<NllLossBackward0>)\n",
      "tensor(0.0987, grad_fn=<NllLossBackward0>)\n",
      "tensor(0.0985, grad_fn=<NllLossBackward0>)\n",
      "tensor(0.0983, grad_fn=<NllLossBackward0>)\n",
      "tensor(0.0981, grad_fn=<NllLossBackward0>)\n",
      "tensor(0.0980, grad_fn=<NllLossBackward0>)\n",
      "tensor(0.0978, grad_fn=<NllLossBackward0>)\n",
      "tensor(0.0976, grad_fn=<NllLossBackward0>)\n",
      "tensor(0.0974, grad_fn=<NllLossBackward0>)\n",
      "tensor(0.0973, grad_fn=<NllLossBackward0>)\n",
      "tensor(0.0971, grad_fn=<NllLossBackward0>)\n",
      "tensor(0.0969, grad_fn=<NllLossBackward0>)\n",
      "tensor(0.0967, grad_fn=<NllLossBackward0>)\n",
      "tensor(0.0966, grad_fn=<NllLossBackward0>)\n",
      "tensor(0.0964, grad_fn=<NllLossBackward0>)\n",
      "tensor(0.0962, grad_fn=<NllLossBackward0>)\n",
      "tensor(0.0960, grad_fn=<NllLossBackward0>)\n",
      "tensor(0.0959, grad_fn=<NllLossBackward0>)\n",
      "tensor(0.0957, grad_fn=<NllLossBackward0>)\n",
      "tensor(0.0955, grad_fn=<NllLossBackward0>)\n",
      "tensor(0.0953, grad_fn=<NllLossBackward0>)\n",
      "tensor(0.0952, grad_fn=<NllLossBackward0>)\n",
      "tensor(0.0950, grad_fn=<NllLossBackward0>)\n",
      "tensor(0.0948, grad_fn=<NllLossBackward0>)\n",
      "tensor(0.0947, grad_fn=<NllLossBackward0>)\n",
      "tensor(0.0945, grad_fn=<NllLossBackward0>)\n",
      "tensor(0.0943, grad_fn=<NllLossBackward0>)\n",
      "tensor(0.0942, grad_fn=<NllLossBackward0>)\n",
      "tensor(0.0940, grad_fn=<NllLossBackward0>)\n",
      "tensor(0.0938, grad_fn=<NllLossBackward0>)\n",
      "tensor(0.0937, grad_fn=<NllLossBackward0>)\n",
      "tensor(0.0935, grad_fn=<NllLossBackward0>)\n",
      "tensor(0.0933, grad_fn=<NllLossBackward0>)\n",
      "tensor(0.0932, grad_fn=<NllLossBackward0>)\n",
      "tensor(0.0930, grad_fn=<NllLossBackward0>)\n",
      "tensor(0.0928, grad_fn=<NllLossBackward0>)\n",
      "tensor(0.0927, grad_fn=<NllLossBackward0>)\n",
      "tensor(0.0925, grad_fn=<NllLossBackward0>)\n",
      "tensor(0.0923, grad_fn=<NllLossBackward0>)\n",
      "tensor(0.0922, grad_fn=<NllLossBackward0>)\n",
      "tensor(0.0920, grad_fn=<NllLossBackward0>)\n",
      "tensor(0.0919, grad_fn=<NllLossBackward0>)\n",
      "tensor(0.0917, grad_fn=<NllLossBackward0>)\n",
      "tensor(0.0915, grad_fn=<NllLossBackward0>)\n",
      "tensor(0.0914, grad_fn=<NllLossBackward0>)\n",
      "tensor(0.0912, grad_fn=<NllLossBackward0>)\n",
      "tensor(0.0911, grad_fn=<NllLossBackward0>)\n",
      "tensor(0.0909, grad_fn=<NllLossBackward0>)\n",
      "tensor(0.0907, grad_fn=<NllLossBackward0>)\n",
      "tensor(0.0906, grad_fn=<NllLossBackward0>)\n",
      "tensor(0.0904, grad_fn=<NllLossBackward0>)\n",
      "tensor(0.0903, grad_fn=<NllLossBackward0>)\n",
      "tensor(0.0901, grad_fn=<NllLossBackward0>)\n",
      "tensor(0.0900, grad_fn=<NllLossBackward0>)\n",
      "tensor(0.0898, grad_fn=<NllLossBackward0>)\n",
      "tensor(0.0896, grad_fn=<NllLossBackward0>)\n",
      "tensor(0.0895, grad_fn=<NllLossBackward0>)\n",
      "tensor(0.0893, grad_fn=<NllLossBackward0>)\n",
      "tensor(0.0892, grad_fn=<NllLossBackward0>)\n",
      "tensor(0.0890, grad_fn=<NllLossBackward0>)\n",
      "tensor(0.0889, grad_fn=<NllLossBackward0>)\n",
      "tensor(0.0887, grad_fn=<NllLossBackward0>)\n",
      "tensor(0.0886, grad_fn=<NllLossBackward0>)\n",
      "tensor(0.0884, grad_fn=<NllLossBackward0>)\n",
      "tensor(0.0883, grad_fn=<NllLossBackward0>)\n",
      "tensor(0.0881, grad_fn=<NllLossBackward0>)\n",
      "tensor(0.0880, grad_fn=<NllLossBackward0>)\n",
      "tensor(0.0878, grad_fn=<NllLossBackward0>)\n",
      "tensor(0.0877, grad_fn=<NllLossBackward0>)\n",
      "tensor(0.0875, grad_fn=<NllLossBackward0>)\n",
      "tensor(0.0874, grad_fn=<NllLossBackward0>)\n",
      "tensor(0.0872, grad_fn=<NllLossBackward0>)\n",
      "tensor(0.0871, grad_fn=<NllLossBackward0>)\n",
      "tensor(0.0869, grad_fn=<NllLossBackward0>)\n",
      "tensor(0.0868, grad_fn=<NllLossBackward0>)\n",
      "tensor(0.0866, grad_fn=<NllLossBackward0>)\n",
      "tensor(0.0865, grad_fn=<NllLossBackward0>)\n",
      "tensor(0.0863, grad_fn=<NllLossBackward0>)\n",
      "tensor(0.0862, grad_fn=<NllLossBackward0>)\n",
      "tensor(0.0860, grad_fn=<NllLossBackward0>)\n",
      "tensor(0.0859, grad_fn=<NllLossBackward0>)\n",
      "tensor(0.0858, grad_fn=<NllLossBackward0>)\n",
      "tensor(0.0856, grad_fn=<NllLossBackward0>)\n",
      "tensor(0.0855, grad_fn=<NllLossBackward0>)\n",
      "tensor(0.0853, grad_fn=<NllLossBackward0>)\n",
      "tensor(0.0852, grad_fn=<NllLossBackward0>)\n",
      "tensor(0.0850, grad_fn=<NllLossBackward0>)\n",
      "tensor(0.0849, grad_fn=<NllLossBackward0>)\n",
      "tensor(0.0848, grad_fn=<NllLossBackward0>)\n",
      "tensor(0.0846, grad_fn=<NllLossBackward0>)\n",
      "tensor(0.0845, grad_fn=<NllLossBackward0>)\n",
      "tensor(0.0843, grad_fn=<NllLossBackward0>)\n",
      "tensor(0.0842, grad_fn=<NllLossBackward0>)\n",
      "tensor(0.0841, grad_fn=<NllLossBackward0>)\n",
      "tensor(0.0839, grad_fn=<NllLossBackward0>)\n",
      "tensor(0.0838, grad_fn=<NllLossBackward0>)\n",
      "tensor(0.0836, grad_fn=<NllLossBackward0>)\n",
      "tensor(0.0835, grad_fn=<NllLossBackward0>)\n",
      "tensor(0.0834, grad_fn=<NllLossBackward0>)\n",
      "tensor(0.0832, grad_fn=<NllLossBackward0>)\n",
      "tensor(0.0831, grad_fn=<NllLossBackward0>)\n",
      "tensor(0.0829, grad_fn=<NllLossBackward0>)\n",
      "tensor(0.0828, grad_fn=<NllLossBackward0>)\n",
      "tensor(0.0827, grad_fn=<NllLossBackward0>)\n",
      "tensor(0.0825, grad_fn=<NllLossBackward0>)\n",
      "tensor(0.0824, grad_fn=<NllLossBackward0>)\n",
      "tensor(0.0823, grad_fn=<NllLossBackward0>)\n",
      "tensor(0.0821, grad_fn=<NllLossBackward0>)\n",
      "tensor(0.0820, grad_fn=<NllLossBackward0>)\n",
      "tensor(0.0819, grad_fn=<NllLossBackward0>)\n",
      "tensor(0.0817, grad_fn=<NllLossBackward0>)\n",
      "tensor(0.0816, grad_fn=<NllLossBackward0>)\n",
      "tensor(0.0815, grad_fn=<NllLossBackward0>)\n",
      "tensor(0.0813, grad_fn=<NllLossBackward0>)\n",
      "tensor(0.0812, grad_fn=<NllLossBackward0>)\n",
      "tensor(0.0811, grad_fn=<NllLossBackward0>)\n",
      "tensor(0.0809, grad_fn=<NllLossBackward0>)\n",
      "tensor(0.0808, grad_fn=<NllLossBackward0>)\n",
      "tensor(0.0807, grad_fn=<NllLossBackward0>)\n",
      "tensor(0.0805, grad_fn=<NllLossBackward0>)\n",
      "tensor(0.0804, grad_fn=<NllLossBackward0>)\n",
      "tensor(0.0803, grad_fn=<NllLossBackward0>)\n",
      "tensor(0.0801, grad_fn=<NllLossBackward0>)\n",
      "tensor(0.0800, grad_fn=<NllLossBackward0>)\n",
      "tensor(0.0799, grad_fn=<NllLossBackward0>)\n",
      "tensor(0.0798, grad_fn=<NllLossBackward0>)\n",
      "tensor(0.0796, grad_fn=<NllLossBackward0>)\n",
      "tensor(0.0795, grad_fn=<NllLossBackward0>)\n",
      "tensor(0.0794, grad_fn=<NllLossBackward0>)\n",
      "tensor(0.0793, grad_fn=<NllLossBackward0>)\n",
      "tensor(0.0791, grad_fn=<NllLossBackward0>)\n",
      "tensor(0.0790, grad_fn=<NllLossBackward0>)\n",
      "tensor(0.0789, grad_fn=<NllLossBackward0>)\n",
      "tensor(0.0787, grad_fn=<NllLossBackward0>)\n",
      "tensor(0.0786, grad_fn=<NllLossBackward0>)\n",
      "tensor(0.0785, grad_fn=<NllLossBackward0>)\n",
      "tensor(0.0784, grad_fn=<NllLossBackward0>)\n",
      "tensor(0.0782, grad_fn=<NllLossBackward0>)\n",
      "tensor(0.0781, grad_fn=<NllLossBackward0>)\n",
      "tensor(0.0780, grad_fn=<NllLossBackward0>)\n",
      "tensor(0.0779, grad_fn=<NllLossBackward0>)\n",
      "tensor(0.0777, grad_fn=<NllLossBackward0>)\n",
      "tensor(0.0776, grad_fn=<NllLossBackward0>)\n",
      "tensor(0.0775, grad_fn=<NllLossBackward0>)\n",
      "tensor(0.0774, grad_fn=<NllLossBackward0>)\n",
      "tensor(0.0773, grad_fn=<NllLossBackward0>)\n",
      "tensor(0.0771, grad_fn=<NllLossBackward0>)\n",
      "tensor(0.0770, grad_fn=<NllLossBackward0>)\n",
      "tensor(0.0769, grad_fn=<NllLossBackward0>)\n",
      "tensor(0.0768, grad_fn=<NllLossBackward0>)\n",
      "tensor(0.0767, grad_fn=<NllLossBackward0>)\n",
      "tensor(0.0765, grad_fn=<NllLossBackward0>)\n",
      "tensor(0.0764, grad_fn=<NllLossBackward0>)\n",
      "tensor(0.0763, grad_fn=<NllLossBackward0>)\n",
      "tensor(0.0762, grad_fn=<NllLossBackward0>)\n",
      "tensor(0.0761, grad_fn=<NllLossBackward0>)\n",
      "tensor(0.0759, grad_fn=<NllLossBackward0>)\n",
      "tensor(0.0758, grad_fn=<NllLossBackward0>)\n",
      "tensor(0.0757, grad_fn=<NllLossBackward0>)\n",
      "tensor(0.0756, grad_fn=<NllLossBackward0>)\n",
      "tensor(0.0755, grad_fn=<NllLossBackward0>)\n",
      "tensor(0.0753, grad_fn=<NllLossBackward0>)\n",
      "tensor(0.0752, grad_fn=<NllLossBackward0>)\n",
      "tensor(0.0751, grad_fn=<NllLossBackward0>)\n",
      "tensor(0.0750, grad_fn=<NllLossBackward0>)\n",
      "tensor(0.0749, grad_fn=<NllLossBackward0>)\n",
      "tensor(0.0748, grad_fn=<NllLossBackward0>)\n",
      "tensor(0.0747, grad_fn=<NllLossBackward0>)\n",
      "tensor(0.0745, grad_fn=<NllLossBackward0>)\n",
      "tensor(0.0744, grad_fn=<NllLossBackward0>)\n",
      "tensor(0.0743, grad_fn=<NllLossBackward0>)\n",
      "tensor(0.0742, grad_fn=<NllLossBackward0>)\n",
      "tensor(0.0741, grad_fn=<NllLossBackward0>)\n",
      "tensor(0.0740, grad_fn=<NllLossBackward0>)\n",
      "tensor(0.0739, grad_fn=<NllLossBackward0>)\n",
      "tensor(0.0737, grad_fn=<NllLossBackward0>)\n",
      "tensor(0.0736, grad_fn=<NllLossBackward0>)\n",
      "tensor(0.0735, grad_fn=<NllLossBackward0>)\n",
      "tensor(0.0734, grad_fn=<NllLossBackward0>)\n",
      "tensor(0.0733, grad_fn=<NllLossBackward0>)\n",
      "tensor(0.0732, grad_fn=<NllLossBackward0>)\n",
      "tensor(0.0731, grad_fn=<NllLossBackward0>)\n",
      "tensor(0.0730, grad_fn=<NllLossBackward0>)\n",
      "tensor(0.0728, grad_fn=<NllLossBackward0>)\n",
      "tensor(0.0727, grad_fn=<NllLossBackward0>)\n",
      "tensor(0.0726, grad_fn=<NllLossBackward0>)\n",
      "tensor(0.0725, grad_fn=<NllLossBackward0>)\n",
      "tensor(0.0724, grad_fn=<NllLossBackward0>)\n",
      "tensor(0.0723, grad_fn=<NllLossBackward0>)\n",
      "tensor(0.0722, grad_fn=<NllLossBackward0>)\n",
      "tensor(0.0721, grad_fn=<NllLossBackward0>)\n",
      "tensor(0.0720, grad_fn=<NllLossBackward0>)\n",
      "tensor(0.0719, grad_fn=<NllLossBackward0>)\n",
      "tensor(0.0718, grad_fn=<NllLossBackward0>)\n",
      "tensor(0.0716, grad_fn=<NllLossBackward0>)\n",
      "tensor(0.0715, grad_fn=<NllLossBackward0>)\n",
      "tensor(0.0714, grad_fn=<NllLossBackward0>)\n",
      "tensor(0.0713, grad_fn=<NllLossBackward0>)\n",
      "tensor(0.0712, grad_fn=<NllLossBackward0>)\n",
      "tensor(0.0711, grad_fn=<NllLossBackward0>)\n",
      "tensor(0.0710, grad_fn=<NllLossBackward0>)\n",
      "tensor(0.0709, grad_fn=<NllLossBackward0>)\n",
      "tensor(0.0708, grad_fn=<NllLossBackward0>)\n",
      "tensor(0.0707, grad_fn=<NllLossBackward0>)\n",
      "tensor(0.0706, grad_fn=<NllLossBackward0>)\n",
      "tensor(0.0705, grad_fn=<NllLossBackward0>)\n",
      "tensor(0.0704, grad_fn=<NllLossBackward0>)\n",
      "tensor(0.0703, grad_fn=<NllLossBackward0>)\n",
      "tensor(0.0702, grad_fn=<NllLossBackward0>)\n",
      "tensor(0.0701, grad_fn=<NllLossBackward0>)\n",
      "tensor(0.0700, grad_fn=<NllLossBackward0>)\n",
      "tensor(0.0699, grad_fn=<NllLossBackward0>)\n",
      "tensor(0.0697, grad_fn=<NllLossBackward0>)\n",
      "tensor(0.0696, grad_fn=<NllLossBackward0>)\n",
      "tensor(0.0695, grad_fn=<NllLossBackward0>)\n",
      "tensor(0.0694, grad_fn=<NllLossBackward0>)\n",
      "tensor(0.0693, grad_fn=<NllLossBackward0>)\n",
      "tensor(0.0692, grad_fn=<NllLossBackward0>)\n",
      "tensor(0.0691, grad_fn=<NllLossBackward0>)\n",
      "tensor(0.0690, grad_fn=<NllLossBackward0>)\n",
      "tensor(0.0689, grad_fn=<NllLossBackward0>)\n",
      "tensor(0.0688, grad_fn=<NllLossBackward0>)\n",
      "tensor(0.0687, grad_fn=<NllLossBackward0>)\n",
      "tensor(0.0686, grad_fn=<NllLossBackward0>)\n",
      "tensor(0.0685, grad_fn=<NllLossBackward0>)\n",
      "tensor(0.0684, grad_fn=<NllLossBackward0>)\n",
      "tensor(0.0683, grad_fn=<NllLossBackward0>)\n",
      "tensor(0.0682, grad_fn=<NllLossBackward0>)\n",
      "tensor(0.0681, grad_fn=<NllLossBackward0>)\n",
      "tensor(0.0680, grad_fn=<NllLossBackward0>)\n",
      "tensor(0.0679, grad_fn=<NllLossBackward0>)\n",
      "tensor(0.0678, grad_fn=<NllLossBackward0>)\n",
      "tensor(0.0677, grad_fn=<NllLossBackward0>)\n"
     ]
    }
   ],
   "source": [
    "optimizer = torch.optim.SGD(net.parameters(), lr=0.01)\n",
    "# In a training loop, we should perform many GD iterations.\n",
    "n_iter = 1000\n",
    "for i in range(n_iter):\n",
    "    optimizer.zero_grad() # equivalent to net.zero_grad()\n",
    "    output = net(x)\n",
    "    loss = criterion(output,y)\n",
    "    loss.backward()\n",
    "    optimizer.step()\n",
    "    print(loss)"
   ]
  },
  {
   "cell_type": "code",
   "execution_count": 62,
   "metadata": {},
   "outputs": [
    {
     "name": "stdout",
     "output_type": "stream",
     "text": [
      "tensor([[ 7.9481, -1.4883, -1.7687,  0.3211, -1.7742, -1.6009, -1.3723, -1.5065,\n",
      "         -1.3583,  4.0613],\n",
      "        [ 0.4477, -1.4396, -1.4378,  6.1054, -1.2568, -1.3690, -1.3046, -1.3322,\n",
      "         -1.2807,  3.5762],\n",
      "        [ 1.9429, -1.4073, -1.3275,  3.1912, -1.2864, -1.4613, -1.4186, -1.4819,\n",
      "         -1.3147,  5.7723]], grad_fn=<AddmmBackward0>)\n",
      "tensor([0, 3, 9])\n"
     ]
    }
   ],
   "source": [
    "output = net(x)\n",
    "print(output)\n",
    "print(y)"
   ]
  },
  {
   "cell_type": "code",
   "execution_count": 63,
   "metadata": {},
   "outputs": [
    {
     "name": "stdout",
     "output_type": "stream",
     "text": [
      "odict_keys(['layer1.weight', 'layer1.bias', 'layer3.weight', 'layer3.bias'])\n"
     ]
    }
   ],
   "source": [
    "# get dictionary of keys to weights using `state_dict`\n",
    "print(net.state_dict().keys())"
   ]
  },
  {
   "cell_type": "code",
   "execution_count": 64,
   "metadata": {},
   "outputs": [
    {
     "data": {
      "text/plain": [
       "<All keys matched successfully>"
      ]
     },
     "execution_count": 64,
     "metadata": {},
     "output_type": "execute_result"
    }
   ],
   "source": [
    "# save a dictionary\n",
    "torch.save(net.state_dict(),'test.t7')\n",
    "# load a dictionary\n",
    "net.load_state_dict(torch.load('test.t7'))"
   ]
  },
  {
   "cell_type": "markdown",
   "metadata": {},
   "source": [
    "# MNIST with PyTorch"
   ]
  },
  {
   "cell_type": "code",
   "execution_count": 70,
   "metadata": {},
   "outputs": [],
   "source": [
    "# download using tensorflow's keras\n",
    "import tensorflow as tf\n",
    "(x_train, y_train), (x_test, y_test) = tf.keras.datasets.mnist.load_data()"
   ]
  },
  {
   "cell_type": "code",
   "execution_count": 73,
   "metadata": {},
   "outputs": [],
   "source": [
    "x_train = torch.from_numpy(x_train)\n",
    "x_test = torch.from_numpy(x_test)\n",
    "y_train = torch.from_numpy(y_train)\n",
    "y_test = torch.from_numpy(y_test)"
   ]
  },
  {
   "cell_type": "code",
   "execution_count": 74,
   "metadata": {},
   "outputs": [
    {
     "data": {
      "text/plain": [
       "(torch.Size([60000, 28, 28]), torch.Size([60000]))"
      ]
     },
     "execution_count": 74,
     "metadata": {},
     "output_type": "execute_result"
    }
   ],
   "source": [
    "x_train.shape, y_train.shape"
   ]
  },
  {
   "cell_type": "code",
   "execution_count": 75,
   "metadata": {},
   "outputs": [
    {
     "data": {
      "text/plain": [
       "(torch.Size([10000, 28, 28]), torch.Size([10000]))"
      ]
     },
     "execution_count": 75,
     "metadata": {},
     "output_type": "execute_result"
    }
   ],
   "source": [
    "x_test.shape, y_test.shape"
   ]
  },
  {
   "cell_type": "code",
   "execution_count": 76,
   "metadata": {},
   "outputs": [],
   "source": [
    "import matplotlib.pyplot as plt"
   ]
  },
  {
   "cell_type": "code",
   "execution_count": 77,
   "metadata": {},
   "outputs": [
    {
     "data": {
      "text/plain": [
       "<matplotlib.image.AxesImage at 0x2ddc8beb0>"
      ]
     },
     "execution_count": 77,
     "metadata": {},
     "output_type": "execute_result"
    },
    {
     "data": {
      "image/png": "[encoded data removed]",
      "text/plain": [
       "<Figure size 432x288 with 1 Axes>"
      ]
     },
     "metadata": {
      "needs_background": "light"
     },
     "output_type": "display_data"
    }
   ],
   "source": [
    "plt.imshow(x_train.cpu().numpy()[0], cmap='gray')"
   ]
  },
  {
   "cell_type": "markdown",
   "metadata": {},
   "source": [
    "## Dataloader"
   ]
  },
  {
   "cell_type": "code",
   "execution_count": 78,
   "metadata": {},
   "outputs": [],
   "source": [
    "class MyDataset(torch.utils.data.Dataset):\n",
    "    def __init__(self, X, Y):\n",
    "        self.X = X\n",
    "        self.Y = Y\n",
    "\n",
    "    def __len__(self):\n",
    "        return len(self.Y)\n",
    "\n",
    "    def __getitem__(self,index):\n",
    "        X = self.X[index].float().reshape(-1)  # flatten input to 1D\n",
    "        Y = self.Y[index].long()\n",
    "        return X,Y"
   ]
  },
  {
   "cell_type": "code",
   "execution_count": 79,
   "metadata": {},
   "outputs": [],
   "source": [
    "num_workers = 8 if torch.cuda.is_available() else 0 \n",
    "\n",
    "if torch.cuda.is_available():\n",
    "    loader_args = dict(shuffle=True, batch_size=256, num_workers=num_workers, pin_memory=True)\n",
    "else:\n",
    "    loader_args = dict(shuffle=True, batch_size=64)\n",
    "\n",
    "train_dataset = MyDataset(x_train, y_train)\n",
    "train_loader = torch.utils.data.DataLoader(train_dataset, **loader_args)\n",
    "\n",
    "test_dataset = MyDataset(x_test, y_test)\n",
    "test_loader = torch.utils.data.DataLoader(test_dataset, **loader_args)"
   ]
  },
  {
   "cell_type": "markdown",
   "metadata": {},
   "source": [
    "## Neural network model"
   ]
  },
  {
   "cell_type": "code",
   "execution_count": 82,
   "metadata": {},
   "outputs": [],
   "source": [
    "class SimpleMLP(torch.nn.Module):\n",
    "    def __init__(self, size_list):\n",
    "        super(SimpleMLP, self).__init__()\n",
    "        self.size_list = size_list\n",
    "        layers = []\n",
    "        for i in range(len(size_list) - 2):\n",
    "            layers.append(torch.nn.Linear(size_list[i], size_list[i+1]))\n",
    "            layers.append(torch.nn.ReLU())\n",
    "        layers.append(torch.nn.Linear(size_list[-2], size_list[-1]))\n",
    "        self.net = torch.nn.Sequential(*layers)\n",
    "\n",
    "    def forward(self, x):\n",
    "        return self.net(x)"
   ]
  },
  {
   "cell_type": "code",
   "execution_count": 83,
   "metadata": {},
   "outputs": [
    {
     "name": "stdout",
     "output_type": "stream",
     "text": [
      "SimpleMLP(\n",
      "  (net): Sequential(\n",
      "    (0): Linear(in_features=784, out_features=256, bias=True)\n",
      "    (1): ReLU()\n",
      "    (2): Linear(in_features=256, out_features=10, bias=True)\n",
      "  )\n",
      ")\n"
     ]
    }
   ],
   "source": [
    "model = SimpleMLP([784, 256, 10])\n",
    "device = torch.device(\"cuda\" if torch.cuda.is_available() else \"cpu\")\n",
    "model.to(device)\n",
    "print(model)"
   ]
  },
  {
   "cell_type": "markdown",
   "metadata": {},
   "source": [
    "## Optimizer"
   ]
  },
  {
   "cell_type": "code",
   "execution_count": 84,
   "metadata": {},
   "outputs": [],
   "source": [
    "criterion = torch.nn.CrossEntropyLoss()\n",
    "optimizer = torch.optim.Adam(model.parameters())"
   ]
  },
  {
   "cell_type": "markdown",
   "metadata": {},
   "source": [
    "## Training and testing"
   ]
  },
  {
   "cell_type": "code",
   "execution_count": 85,
   "metadata": {},
   "outputs": [],
   "source": [
    "import time \n",
    "\n",
    "def train_epoch(model, train_loader, criterion, optimizer):\n",
    "    model.train()\n",
    "\n",
    "    running_loss = 0.0\n",
    "    \n",
    "    start_time = time.time()\n",
    "    for batch_idx, (data, target) in enumerate(train_loader):   \n",
    "        optimizer.zero_grad()   # .backward() accumulates gradients\n",
    "        data = data.to(device)\n",
    "        target = target.to(device) # all data & model on same device\n",
    "\n",
    "        outputs = model(data)\n",
    "        loss = criterion(outputs, target)\n",
    "        running_loss += loss.item()\n",
    "\n",
    "        loss.backward()\n",
    "        optimizer.step()\n",
    "    \n",
    "    end_time = time.time()\n",
    "    \n",
    "    running_loss /= len(train_loader)\n",
    "    print('Training Loss: ', running_loss, 'Time: ',end_time - start_time, 's')\n",
    "    return running_loss"
   ]
  },
  {
   "cell_type": "code",
   "execution_count": 86,
   "metadata": {},
   "outputs": [],
   "source": [
    "def test_model(model, test_loader, criterion):\n",
    "    with torch.no_grad():\n",
    "        model.eval()\n",
    "\n",
    "        running_loss = 0.0\n",
    "        total_predictions = 0.0\n",
    "        correct_predictions = 0.0\n",
    "\n",
    "        for batch_idx, (data, target) in enumerate(test_loader):   \n",
    "            data = data.to(device)\n",
    "            target = target.to(device)\n",
    "\n",
    "            outputs = model(data)\n",
    "\n",
    "            _, predicted = torch.max(outputs.data, 1)\n",
    "            total_predictions += target.size(0)\n",
    "            correct_predictions += (predicted == target).sum().item()\n",
    "\n",
    "            loss = criterion(outputs, target).detach()\n",
    "            running_loss += loss.item()\n",
    "\n",
    "        running_loss /= len(test_loader)\n",
    "        acc = (correct_predictions/total_predictions)*100.0\n",
    "        print('Testing Loss: ', running_loss)\n",
    "        print('Testing Accuracy: ', acc, '%')\n",
    "        return running_loss, acc"
   ]
  },
  {
   "cell_type": "markdown",
   "metadata": {},
   "source": [
    "## Training loop"
   ]
  },
  {
   "cell_type": "code",
   "execution_count": 87,
   "metadata": {},
   "outputs": [
    {
     "name": "stdout",
     "output_type": "stream",
     "text": [
      "Training Loss:  0.6010991137113366 Time:  1.5142881870269775 s\n",
      "Testing Loss:  0.23001872079601143\n",
      "Testing Accuracy:  93.86 %\n",
      "====================\n",
      "Training Loss:  0.17382219839078594 Time:  1.4538118839263916 s\n",
      "Testing Loss:  0.20230218895954216\n",
      "Testing Accuracy:  94.33 %\n",
      "====================\n",
      "Training Loss:  0.16147767579970337 Time:  1.4976067543029785 s\n",
      "Testing Loss:  0.19275677901215163\n",
      "Testing Accuracy:  95.57 %\n",
      "====================\n",
      "Training Loss:  0.15502203193960834 Time:  1.4669489860534668 s\n",
      "Testing Loss:  0.18249313689317484\n",
      "Testing Accuracy:  95.47 %\n",
      "====================\n",
      "Training Loss:  0.15835566082064545 Time:  1.4363429546356201 s\n",
      "Testing Loss:  0.24243782043373982\n",
      "Testing Accuracy:  95.24000000000001 %\n",
      "====================\n",
      "Training Loss:  0.14927374951338876 Time:  1.4931590557098389 s\n",
      "Testing Loss:  0.2550597030352089\n",
      "Testing Accuracy:  95.17 %\n",
      "====================\n",
      "Training Loss:  0.15360962421659863 Time:  1.5303921699523926 s\n",
      "Testing Loss:  0.2034646226893992\n",
      "Testing Accuracy:  95.92 %\n",
      "====================\n",
      "Training Loss:  0.14168071359766946 Time:  1.4728069305419922 s\n",
      "Testing Loss:  0.24940808023515923\n",
      "Testing Accuracy:  95.28 %\n",
      "====================\n",
      "Training Loss:  0.12822953812950788 Time:  1.4509892463684082 s\n",
      "Testing Loss:  0.2606611732403884\n",
      "Testing Accuracy:  95.91 %\n",
      "====================\n",
      "Training Loss:  0.1299670436808244 Time:  1.4265961647033691 s\n",
      "Testing Loss:  0.28591875543029666\n",
      "Testing Accuracy:  95.67 %\n",
      "====================\n"
     ]
    }
   ],
   "source": [
    "n_epochs = 10\n",
    "Train_loss = []\n",
    "Test_loss = []\n",
    "Test_acc = []\n",
    "\n",
    "for i in range(n_epochs):\n",
    "    train_loss = train_epoch(model, train_loader, criterion, optimizer)\n",
    "    test_loss, test_acc = test_model(model, test_loader, criterion)\n",
    "    Train_loss.append(train_loss)\n",
    "    Test_loss.append(test_loss)\n",
    "    Test_acc.append(test_acc)\n",
    "    print('='*20)"
   ]
  },
  {
   "cell_type": "code",
   "execution_count": 90,
   "metadata": {},
   "outputs": [
    {
     "data": {
      "image/png": "[encoded data removed]",
      "text/plain": [
       "<Figure size 432x288 with 1 Axes>"
      ]
     },
     "metadata": {
      "needs_background": "light"
     },
     "output_type": "display_data"
    }
   ],
   "source": [
    "# plt.title('Training Loss')\n",
    "plt.xlabel('Epoch Number')\n",
    "plt.ylabel('Loss')\n",
    "plt.plot(Train_loss, label='train')\n",
    "plt.plot(Test_loss, label='test')\n",
    "plt.legend();"
   ]
  },
  {
   "cell_type": "code",
   "execution_count": 92,
   "metadata": {},
   "outputs": [
    {
     "data": {
      "image/png": "[encoded data removed]",
      "text/plain": [
       "<Figure size 432x288 with 1 Axes>"
      ]
     },
     "metadata": {
      "needs_background": "light"
     },
     "output_type": "display_data"
    }
   ],
   "source": [
    "plt.title('Test Accuracy')\n",
    "plt.xlabel('Epoch Number')\n",
    "plt.ylabel('Accuracy (%)')\n",
    "plt.plot(Test_acc);"
   ]
  },
  {
   "cell_type": "code",
   "execution_count": null,
   "metadata": {},
   "outputs": [],
   "source": []
  }
 ],
 "metadata": {
  "interpreter": {
   "hash": "d9d41da3d759eab0d4ebf46483aa2525ee9e8e52c6441d9f13cc168fd5745a39"
  },
  "kernelspec": {
   "display_name": "Python 3.8.10 ('teaching-kL1iKbCK')",
   "language": "python",
   "name": "python3"
  },
  "language_info": {
   "codemirror_mode": {
    "name": "ipython",
    "version": 3
   },
   "file_extension": ".py",
   "mimetype": "text/x-python",
   "name": "python",
   "nbconvert_exporter": "python",
   "pygments_lexer": "ipython3",
   "version": "3.8.10"
  },
  "orig_nbformat": 4
 },
 "nbformat": 4,
 "nbformat_minor": 2
}

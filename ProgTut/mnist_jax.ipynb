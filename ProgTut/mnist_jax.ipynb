{
 "cells": [
  {
   "attachments": {},
   "cell_type": "markdown",
   "metadata": {},
   "source": [
    "# MNIST with MLP in JAX"
   ]
  },
  {
   "cell_type": "code",
   "execution_count": null,
   "metadata": {},
   "outputs": [],
   "source": [
    "import flax"
   ]
  },
  {
   "cell_type": "code",
   "execution_count": 30,
   "metadata": {},
   "outputs": [],
   "source": [
    "import jax\n",
    "import jax.numpy as np\n",
    "import math\n",
    "import numpy as onp\n",
    "import tensorflow as tf\n",
    "import time\n",
    "import matplotlib.pyplot as plt"
   ]
  },
  {
   "attachments": {},
   "cell_type": "markdown",
   "metadata": {},
   "source": [
    "In JAX, we need to create a key for all random operations. This is necessary to make random number generation reproducible, parallelizable, and vertorizable (see [here](https://jax.readthedocs.io/en/latest/jax-101/05-random-numbers.html)). \n",
    "\n",
    "We will use the `jax.random.split` function to create new keys from this single starting key (see later)."
   ]
  },
  {
   "cell_type": "code",
   "execution_count": 31,
   "metadata": {},
   "outputs": [],
   "source": [
    "key = jax.random.PRNGKey(1)"
   ]
  },
  {
   "attachments": {},
   "cell_type": "markdown",
   "metadata": {},
   "source": [
    "We begin by loading the MNIST data as numpy arrays, using keras. "
   ]
  },
  {
   "cell_type": "code",
   "execution_count": 3,
   "metadata": {},
   "outputs": [],
   "source": [
    "(x_train, y_train), (x_test, y_test) = tf.keras.datasets.mnist.load_data()"
   ]
  },
  {
   "cell_type": "code",
   "execution_count": 4,
   "metadata": {},
   "outputs": [
    {
     "data": {
      "image/png": "[encoded data removed]",
      "text/plain": [
       "<Figure size 432x288 with 1 Axes>"
      ]
     },
     "metadata": {
      "needs_background": "light"
     },
     "output_type": "display_data"
    }
   ],
   "source": [
    "plt.imshow(x_train[0], cmap='gray');"
   ]
  },
  {
   "cell_type": "code",
   "execution_count": 5,
   "metadata": {},
   "outputs": [
    {
     "data": {
      "text/plain": [
       "((60000, 28, 28), (60000,))"
      ]
     },
     "execution_count": 5,
     "metadata": {},
     "output_type": "execute_result"
    }
   ],
   "source": [
    "x_train.shape, y_train.shape"
   ]
  },
  {
   "attachments": {},
   "cell_type": "markdown",
   "metadata": {},
   "source": [
    "As we are using an MLP, we need to flatten the images to 1D vectors. We simultaneously also normalize the pixel values to lie in $[0,1]$."
   ]
  },
  {
   "cell_type": "code",
   "execution_count": 6,
   "metadata": {},
   "outputs": [],
   "source": [
    "x_train = x_train.reshape(-1, 28*28) / 255.\n",
    "x_test = x_test.reshape(-1, 28*28) / 255."
   ]
  },
  {
   "attachments": {},
   "cell_type": "markdown",
   "metadata": {},
   "source": [
    "We also need to one-hot-encode our labels"
   ]
  },
  {
   "cell_type": "code",
   "execution_count": 7,
   "metadata": {},
   "outputs": [],
   "source": [
    "def one_hot(x, k, dtype=np.float32):\n",
    "  return np.array(x[:, None] == np.arange(k), dtype)"
   ]
  },
  {
   "cell_type": "code",
   "execution_count": 8,
   "metadata": {},
   "outputs": [],
   "source": [
    "y_train = one_hot(y_train, 10)\n",
    "y_test = one_hot(y_test, 10)"
   ]
  },
  {
   "cell_type": "code",
   "execution_count": 9,
   "metadata": {},
   "outputs": [
    {
     "data": {
      "text/plain": [
       "(60000, 10)"
      ]
     },
     "execution_count": 9,
     "metadata": {},
     "output_type": "execute_result"
    }
   ],
   "source": [
    "y_train.shape"
   ]
  },
  {
   "cell_type": "code",
   "execution_count": 10,
   "metadata": {},
   "outputs": [
    {
     "data": {
      "text/plain": [
       "DeviceArray([[0., 0., 0., 0., 0., 1., 0., 0., 0., 0.],\n",
       "             [1., 0., 0., 0., 0., 0., 0., 0., 0., 0.],\n",
       "             [0., 0., 0., 0., 1., 0., 0., 0., 0., 0.],\n",
       "             [0., 1., 0., 0., 0., 0., 0., 0., 0., 0.],\n",
       "             [0., 0., 0., 0., 0., 0., 0., 0., 0., 1.]], dtype=float32)"
      ]
     },
     "execution_count": 10,
     "metadata": {},
     "output_type": "execute_result"
    }
   ],
   "source": [
    "y_train[:5]"
   ]
  },
  {
   "attachments": {},
   "cell_type": "markdown",
   "metadata": {},
   "source": [
    "## Initializing the MLP\n",
    "\n",
    "Let's begin by defining out nonlinear activation function, the relu function."
   ]
  },
  {
   "cell_type": "code",
   "execution_count": 11,
   "metadata": {},
   "outputs": [],
   "source": [
    "def relu(x):\n",
    "    return np.maximum(x, 0)"
   ]
  },
  {
   "attachments": {},
   "cell_type": "markdown",
   "metadata": {},
   "source": [
    "For an MLP layer with input $x \\in \\mathbb{R}^{n}$ and output $y \\in \\mathbb{R}^m$, we have the following equation for the forward pass (or prediction):\n",
    "$$\n",
    "y = f(Wx+b)\n",
    "$$\n",
    "where $f$ is the nonlinear activation function which is typically applied element-wise (we are using `relu`, defined above), $W$ is the weight matrix with $W \\in \\mathbb{R}^{m \\times n}$, and $b$ is the bias vector $\\mathbb{R}^m$. "
   ]
  },
  {
   "attachments": {},
   "cell_type": "markdown",
   "metadata": {},
   "source": [
    "We define a function that randomly initializes the parameters (weight matrix and bias vector) of a given connection layer:"
   ]
  },
  {
   "cell_type": "code",
   "execution_count": 12,
   "metadata": {},
   "outputs": [],
   "source": [
    "def init_layer(in_dim, out_dim, key, scale=1e-2):\n",
    "    w_key, b_key = jax.random.split(key)  # split the key for weight and bias\n",
    "    w = jax.random.normal(w_key, (out_dim, in_dim))\n",
    "    b = jax.random.normal(b_key, (out_dim,))\n",
    "    return scale * w, scale * b"
   ]
  },
  {
   "attachments": {},
   "cell_type": "markdown",
   "metadata": {},
   "source": [
    "Now, we can define a simple function that initializes all parameters for a MLP from a list of layer sizes. For example, to generate the parameters of a MLP with input layer size 10, hidden layer size 100, and output layer size 1, we could run `init_network_params([10, 100, 1], key)` (where `key` is our random key)."
   ]
  },
  {
   "cell_type": "code",
   "execution_count": 13,
   "metadata": {},
   "outputs": [],
   "source": [
    "def init_network_params(sizes, key):\n",
    "  keys = jax.random.split(key, len(sizes)-1)\n",
    "  layers = []\n",
    "  for idx in range(len(sizes) - 1):\n",
    "    layers.append(\n",
    "      init_layer(in_dim=sizes[idx], out_dim=sizes[idx+1], key=keys[idx])\n",
    "    )\n",
    "  return layers"
   ]
  },
  {
   "attachments": {},
   "cell_type": "markdown",
   "metadata": {},
   "source": [
    "We can make this code more concise:"
   ]
  },
  {
   "cell_type": "code",
   "execution_count": 14,
   "metadata": {},
   "outputs": [],
   "source": [
    "def init_network_params(sizes, key):\n",
    "  keys = jax.random.split(key, len(sizes)-1)\n",
    "  return [init_layer(in_dim=a, out_dim=b, key=k) for a, b, k in zip(sizes[:-1], sizes[1:], keys)]"
   ]
  },
  {
   "attachments": {},
   "cell_type": "markdown",
   "metadata": {},
   "source": [
    "Let's make sure the dimensions are as expected:"
   ]
  },
  {
   "cell_type": "code",
   "execution_count": 15,
   "metadata": {},
   "outputs": [],
   "source": [
    "layer_sizes = [784, 512, 512, 10]\n",
    "params = init_network_params(layer_sizes, key)"
   ]
  },
  {
   "cell_type": "code",
   "execution_count": 16,
   "metadata": {},
   "outputs": [
    {
     "name": "stdout",
     "output_type": "stream",
     "text": [
      "layer 0: w (512, 784)\tb (512,)\n",
      "layer 1: w (512, 512)\tb (512,)\n",
      "layer 2: w (10, 512)\tb (10,)\n"
     ]
    }
   ],
   "source": [
    "for i, (w, b) in enumerate(params):\n",
    "    print(f'layer {i}: w {w.shape}\\tb {b.shape}')"
   ]
  },
  {
   "attachments": {},
   "cell_type": "markdown",
   "metadata": {},
   "source": [
    "Now we can write the forward pass equations for the network. Note that the output layer will not have the standard activation function, but instead we will apply the [softmax function](https://en.wikipedia.org/wiki/Softmax_function)."
   ]
  },
  {
   "cell_type": "code",
   "execution_count": 17,
   "metadata": {},
   "outputs": [],
   "source": [
    "def softmax(x):\n",
    "    # normalized softmax\n",
    "    x_norm = x - np.max(x)\n",
    "    x_exp = np.exp(x_norm)\n",
    "    return x_exp / np.sum(x_exp)"
   ]
  },
  {
   "cell_type": "code",
   "execution_count": 18,
   "metadata": {},
   "outputs": [],
   "source": [
    "def forward(params, u):  # (512, 784) @ (B, 784)\n",
    "    # u is the input, x is the activation\n",
    "    x = u\n",
    "    # forward pass for all hidden connection layers\n",
    "    for w, b in params[:-1]:\n",
    "        out = np.dot(w, x) + b\n",
    "        x = relu(out)\n",
    "    # forward pass for the output layer\n",
    "    w, b = params[-1]\n",
    "    # compute logits (non-normalized output)\n",
    "    logits = np.dot(w, x) + b\n",
    "    # apply softmax\n",
    "    return softmax(logits)\n",
    "\n",
    "# vectorize this function to operate on batch\n",
    "batch_forward = jax.vmap(forward, in_axes=(None, 0))"
   ]
  },
  {
   "attachments": {},
   "cell_type": "markdown",
   "metadata": {},
   "source": [
    "`in_axes=(None, 0)` specifies that for the `params` argument, we will not vectorize anything (`None`) whereas for the `u` (input data) argument, we will vectorize the argument by adding a new axis at index `0`. This means that if before, we would pass a single MNIST data sample `u` with shape `(784,)` into the `forward` function, we will now pass a batch of `N` MNIST data samples as `u_batch` with shape `(N,784)`."
   ]
  },
  {
   "attachments": {},
   "cell_type": "markdown",
   "metadata": {},
   "source": [
    "## Evaluation functions: accuracy and loss"
   ]
  },
  {
   "cell_type": "code",
   "execution_count": 19,
   "metadata": {},
   "outputs": [],
   "source": [
    "def accuracy(params, x, y_true):\n",
    "    true = np.argmax(y_true, axis=1)\n",
    "    pred = np.argmax(batch_forward(params, x), axis=1)\n",
    "    return np.mean(pred == true)"
   ]
  },
  {
   "attachments": {},
   "cell_type": "markdown",
   "metadata": {},
   "source": [
    "We use the cross entropy loss function, as defined e.g. in Bishop's \"[Pattern Recognition and Machine Learning](https://www.microsoft.com/en-us/research/publication/pattern-recognition-machine-learning/)\" book (page 209). Assuming that the prediction of the output distribution $\\hat y$ is already normalized with a softmax function (as we did above), the cross entropy loss $L_{CE}$ is computed as:\n",
    "\n",
    "$$\n",
    "L_{CE} = - \\prod_{n=1}^N \\prod_{k=1}^K \\hat{y}_{nk}^{y_{nk}}\n",
    "$$\n",
    "\n",
    "which, after taking the logarithm, yields:\n",
    "\n",
    "$$\n",
    "L_{CE} = - \\sum_{n=1}^N \\sum_{k=1}^K y_{nk} \\log{\\hat{y}_{nk}}\n",
    "$$\n",
    "\n",
    "where $N$ is the number of data points for which the loss is computed (i.e. the batch size), $K$ is the number of classes ($K=10$ here), and $y$ is the (one-hot encoded) true label of each data point, and where the subscript $nk$ refers to the $k$th output value of the $n$th data point."
   ]
  },
  {
   "cell_type": "code",
   "execution_count": 20,
   "metadata": {},
   "outputs": [],
   "source": [
    "def loss(params, x, y_true):\n",
    "    # cross entropy loss (see Bishop's Pattern Recognition book, page 209).\n",
    "    y_pred = batch_forward(params, x)\n",
    "    return -np.sum(np.sum(y_true * np.log(y_pred), axis=1)) / x.shape[0]"
   ]
  },
  {
   "attachments": {},
   "cell_type": "markdown",
   "metadata": {},
   "source": [
    "We now write the SGD update step:"
   ]
  },
  {
   "cell_type": "code",
   "execution_count": 21,
   "metadata": {},
   "outputs": [],
   "source": [
    "@jax.jit\n",
    "def update(params, x, y_true, step_size=1e-2):\n",
    "    grads = jax.grad(loss)(params, x, y_true)\n",
    "    new_params = []\n",
    "    for idx in range(len(params)):\n",
    "        w, b = params[idx]\n",
    "        dw, db = grads[idx]\n",
    "        w_new = w - step_size * dw\n",
    "        b_new = b - step_size * db\n",
    "        new_params.append((w_new, b_new))\n",
    "    return new_params"
   ]
  },
  {
   "attachments": {},
   "cell_type": "markdown",
   "metadata": {},
   "source": [
    "Which can be written more concisely:"
   ]
  },
  {
   "cell_type": "code",
   "execution_count": 22,
   "metadata": {},
   "outputs": [],
   "source": [
    "@jax.jit\n",
    "def update(params, x, y_true, step_size=1e-2):\n",
    "    grads = jax.grad(loss)(params, x, y_true)\n",
    "    return [\n",
    "        (w - step_size * dw, b - step_size * db)\n",
    "        for (w, b), (dw, db) in zip(params, grads)\n",
    "    ]"
   ]
  },
  {
   "attachments": {},
   "cell_type": "markdown",
   "metadata": {},
   "source": [
    "## Training loop"
   ]
  },
  {
   "cell_type": "code",
   "execution_count": 23,
   "metadata": {},
   "outputs": [
    {
     "data": {
      "text/plain": [
       "DeviceArray(2.3028953, dtype=float32)"
      ]
     },
     "execution_count": 23,
     "metadata": {},
     "output_type": "execute_result"
    }
   ],
   "source": [
    "loss(params, x_train, y_train)"
   ]
  },
  {
   "cell_type": "code",
   "execution_count": 24,
   "metadata": {},
   "outputs": [],
   "source": [
    "n_epochs = 50\n",
    "batch_size = 128"
   ]
  },
  {
   "cell_type": "code",
   "execution_count": 25,
   "metadata": {},
   "outputs": [
    {
     "name": "stdout",
     "output_type": "stream",
     "text": [
      "Epoch  1 (1.82s): train loss 2.29  test loss 2.29 | train acc 18.84%  test acc 19.10% \n",
      "Epoch  2 (1.49s): train loss 2.25  test loss 2.25 | train acc 36.49%  test acc 36.57% \n",
      "Epoch  3 (1.53s): train loss 1.88  test loss 1.87 | train acc 47.65%  test acc 47.19% \n",
      "Epoch  4 (1.55s): train loss 0.99  test loss 0.97 | train acc 71.71%  test acc 72.09% \n",
      "Epoch  5 (1.55s): train loss 0.68  test loss 0.66 | train acc 80.24%  test acc 80.59% \n",
      "Epoch  6 (1.56s): train loss 0.55  test loss 0.54 | train acc 83.94%  test acc 84.03% \n",
      "Epoch  7 (1.52s): train loss 0.48  test loss 0.47 | train acc 85.90%  test acc 86.26% \n",
      "Epoch  8 (1.53s): train loss 0.44  test loss 0.43 | train acc 87.19%  test acc 87.48% \n",
      "Epoch  9 (1.69s): train loss 0.41  test loss 0.40 | train acc 88.20%  test acc 88.19% \n",
      "Epoch 10 (1.71s): train loss 0.39  test loss 0.38 | train acc 88.84%  test acc 88.84% \n",
      "Epoch 11 (1.63s): train loss 0.37  test loss 0.36 | train acc 89.32%  test acc 89.47% \n",
      "Epoch 12 (1.66s): train loss 0.36  test loss 0.35 | train acc 89.72%  test acc 89.73% \n",
      "Epoch 13 (1.57s): train loss 0.34  test loss 0.34 | train acc 90.13%  test acc 90.06% \n",
      "Epoch 14 (1.60s): train loss 0.33  test loss 0.33 | train acc 90.47%  test acc 90.38% \n",
      "Epoch 15 (1.54s): train loss 0.32  test loss 0.32 | train acc 90.79%  test acc 90.65% \n",
      "Epoch 16 (1.61s): train loss 0.31  test loss 0.31 | train acc 91.08%  test acc 90.99% \n",
      "Epoch 17 (1.66s): train loss 0.30  test loss 0.30 | train acc 91.35%  test acc 91.35% \n",
      "Epoch 18 (1.67s): train loss 0.29  test loss 0.29 | train acc 91.62%  test acc 91.61% \n",
      "Epoch 19 (1.57s): train loss 0.28  test loss 0.28 | train acc 91.87%  test acc 91.87% \n",
      "Epoch 20 (1.71s): train loss 0.28  test loss 0.27 | train acc 92.12%  test acc 92.14% \n",
      "Epoch 21 (1.63s): train loss 0.27  test loss 0.26 | train acc 92.35%  test acc 92.47% \n",
      "Epoch 22 (1.60s): train loss 0.26  test loss 0.26 | train acc 92.58%  test acc 92.84% \n",
      "Epoch 23 (1.81s): train loss 0.25  test loss 0.25 | train acc 92.83%  test acc 92.99% \n",
      "Epoch 24 (1.55s): train loss 0.24  test loss 0.24 | train acc 93.11%  test acc 93.23% \n",
      "Epoch 25 (1.58s): train loss 0.24  test loss 0.23 | train acc 93.34%  test acc 93.45% \n",
      "Epoch 26 (1.59s): train loss 0.23  test loss 0.23 | train acc 93.58%  test acc 93.56% \n",
      "Epoch 27 (1.59s): train loss 0.22  test loss 0.22 | train acc 93.77%  test acc 93.83% \n",
      "Epoch 28 (1.67s): train loss 0.21  test loss 0.21 | train acc 93.95%  test acc 94.01% \n",
      "Epoch 29 (1.70s): train loss 0.21  test loss 0.21 | train acc 94.13%  test acc 94.26% \n",
      "Epoch 30 (1.74s): train loss 0.20  test loss 0.20 | train acc 94.29%  test acc 94.38% \n",
      "Epoch 31 (1.78s): train loss 0.20  test loss 0.20 | train acc 94.47%  test acc 94.44% \n",
      "Epoch 32 (1.65s): train loss 0.19  test loss 0.19 | train acc 94.63%  test acc 94.58% \n",
      "Epoch 33 (1.61s): train loss 0.19  test loss 0.19 | train acc 94.78%  test acc 94.69% \n",
      "Epoch 34 (1.62s): train loss 0.18  test loss 0.18 | train acc 94.91%  test acc 94.84% \n",
      "Epoch 35 (1.58s): train loss 0.18  test loss 0.18 | train acc 95.05%  test acc 94.90% \n",
      "Epoch 36 (1.59s): train loss 0.17  test loss 0.17 | train acc 95.18%  test acc 95.04% \n",
      "Epoch 37 (1.61s): train loss 0.17  test loss 0.17 | train acc 95.28%  test acc 95.15% \n",
      "Epoch 38 (1.57s): train loss 0.16  test loss 0.16 | train acc 95.39%  test acc 95.21% \n",
      "Epoch 39 (1.65s): train loss 0.16  test loss 0.16 | train acc 95.52%  test acc 95.30% \n",
      "Epoch 40 (1.68s): train loss 0.15  test loss 0.16 | train acc 95.62%  test acc 95.41% \n",
      "Epoch 41 (1.66s): train loss 0.15  test loss 0.15 | train acc 95.71%  test acc 95.51% \n",
      "Epoch 42 (1.61s): train loss 0.15  test loss 0.15 | train acc 95.81%  test acc 95.63% \n",
      "Epoch 43 (1.78s): train loss 0.14  test loss 0.15 | train acc 95.90%  test acc 95.70% \n",
      "Epoch 44 (1.67s): train loss 0.14  test loss 0.15 | train acc 96.01%  test acc 95.74% \n",
      "Epoch 45 (1.67s): train loss 0.14  test loss 0.14 | train acc 96.10%  test acc 95.88% \n",
      "Epoch 46 (1.85s): train loss 0.13  test loss 0.14 | train acc 96.18%  test acc 95.96% \n",
      "Epoch 47 (1.61s): train loss 0.13  test loss 0.14 | train acc 96.24%  test acc 96.01% \n",
      "Epoch 48 (1.64s): train loss 0.13  test loss 0.14 | train acc 96.35%  test acc 96.05% \n",
      "Epoch 49 (1.81s): train loss 0.13  test loss 0.13 | train acc 96.44%  test acc 96.15% \n",
      "Epoch 50 (1.70s): train loss 0.12  test loss 0.13 | train acc 96.52%  test acc 96.18% \n"
     ]
    }
   ],
   "source": [
    "train_acc = []\n",
    "test_acc = []\n",
    "train_loss = []\n",
    "test_loss = []\n",
    "for epoch in range(n_epochs):\n",
    "    start_time = time.time()\n",
    "    n_batches = math.ceil(x_train.shape[0] / batch_size)\n",
    "    for batch_idx in range(n_batches):\n",
    "        start = batch_idx * batch_size\n",
    "        end = -1 if batch_idx == (n_batches - 1) else start + batch_size\n",
    "        x_batch = x_train[start:end, :]\n",
    "        y_batch = y_train[start:end, :]\n",
    "        params = update(params, x_batch, y_batch, step_size=1e-2)\n",
    "    epoch_time = time.time() - start_time\n",
    "    train_acc.append(accuracy(params, x_train, y_train))\n",
    "    test_acc.append(accuracy(params, x_test, y_test))\n",
    "    train_loss.append(loss(params, x_train, y_train))\n",
    "    test_loss.append(loss(params, x_test, y_test))\n",
    "    print(f'Epoch {epoch+1:>2} ({epoch_time:<.2f}s): ', end='')\n",
    "    print(f'train loss {train_loss[-1]:<5.2f} test loss {test_loss[-1]:<5.2f}', end='| ')\n",
    "    print(f'train acc {train_acc[-1]:<7.2%} test acc {test_acc[-1]:<7.2%}')"
   ]
  },
  {
   "cell_type": "code",
   "execution_count": 27,
   "metadata": {},
   "outputs": [
    {
     "name": "stdout",
     "output_type": "stream",
     "text": [
      "Epoch 51 (3.32s): train loss 0.12  test loss 0.13 | train acc 96.60%  test acc 96.21% \n",
      "Epoch 52 (3.45s): train loss 0.12  test loss 0.13 | train acc 96.66%  test acc 96.26% \n",
      "Epoch 53 (3.69s): train loss 0.12  test loss 0.13 | train acc 96.74%  test acc 96.33% \n",
      "Epoch 54 (3.39s): train loss 0.11  test loss 0.12 | train acc 96.79%  test acc 96.44% \n",
      "Epoch 55 (3.48s): train loss 0.11  test loss 0.12 | train acc 96.85%  test acc 96.51% \n",
      "Epoch 56 (3.34s): train loss 0.11  test loss 0.12 | train acc 96.91%  test acc 96.56% \n",
      "Epoch 57 (3.52s): train loss 0.11  test loss 0.12 | train acc 96.98%  test acc 96.60% \n",
      "Epoch 58 (3.36s): train loss 0.10  test loss 0.12 | train acc 97.05%  test acc 96.59% \n",
      "Epoch 59 (3.51s): train loss 0.10  test loss 0.12 | train acc 97.11%  test acc 96.62% \n",
      "Epoch 60 (3.53s): train loss 0.10  test loss 0.11 | train acc 97.16%  test acc 96.67% \n",
      "Epoch 61 (3.32s): train loss 0.10  test loss 0.11 | train acc 97.22%  test acc 96.70% \n",
      "Epoch 62 (3.28s): train loss 0.10  test loss 0.11 | train acc 97.28%  test acc 96.76% \n",
      "Epoch 63 (3.32s): train loss 0.10  test loss 0.11 | train acc 97.32%  test acc 96.77% \n",
      "Epoch 64 (3.39s): train loss 0.09  test loss 0.11 | train acc 97.38%  test acc 96.82% \n",
      "Epoch 65 (3.25s): train loss 0.09  test loss 0.11 | train acc 97.42%  test acc 96.85% \n",
      "Epoch 66 (3.25s): train loss 0.09  test loss 0.11 | train acc 97.47%  test acc 96.89% \n",
      "Epoch 67 (3.34s): train loss 0.09  test loss 0.11 | train acc 97.51%  test acc 96.93% \n",
      "Epoch 68 (2.52s): train loss 0.09  test loss 0.10 | train acc 97.55%  test acc 96.95% \n",
      "Epoch 69 (1.58s): train loss 0.09  test loss 0.10 | train acc 97.60%  test acc 96.96% \n",
      "Epoch 70 (1.69s): train loss 0.08  test loss 0.10 | train acc 97.63%  test acc 96.96% \n"
     ]
    }
   ],
   "source": [
    "n_extra_epochs = 20\n",
    "for epoch in range(n_extra_epochs):\n",
    "    start_time = time.time()\n",
    "    n_batches = math.ceil(x_train.shape[0] / batch_size)\n",
    "    for batch_idx in range(n_batches):\n",
    "        start = batch_idx * batch_size\n",
    "        end = -1 if batch_idx == (n_batches - 1) else start + batch_size\n",
    "        x_batch = x_train[start:end, :]\n",
    "        y_batch = y_train[start:end, :]\n",
    "        params = update(params, x_batch, y_batch, step_size=1e-2)\n",
    "    epoch_time = time.time() - start_time\n",
    "    train_acc.append(accuracy(params, x_train, y_train))\n",
    "    test_acc.append(accuracy(params, x_test, y_test))\n",
    "    train_loss.append(loss(params, x_train, y_train))\n",
    "    test_loss.append(loss(params, x_test, y_test))\n",
    "    print(f'Epoch {epoch+n_epochs+1:>2} ({epoch_time:<.2f}s): ', end='')\n",
    "    print(f'train loss {train_loss[-1]:<5.2f} test loss {test_loss[-1]:<5.2f}', end='| ')\n",
    "    print(f'train acc {train_acc[-1]:<7.2%} test acc {test_acc[-1]:<7.2%}')"
   ]
  },
  {
   "cell_type": "code",
   "execution_count": 29,
   "metadata": {},
   "outputs": [
    {
     "data": {
      "text/plain": [
       "[]"
      ]
     },
     "execution_count": 29,
     "metadata": {},
     "output_type": "execute_result"
    },
    {
     "data": {
      "image/png": "[encoded data removed]",
      "text/plain": [
       "<Figure size 1500x500 with 2 Axes>"
      ]
     },
     "metadata": {
      "needs_background": "light"
     },
     "output_type": "display_data"
    }
   ],
   "source": [
    "fig, axs = plt.subplots(ncols=2, nrows=1, dpi=100, figsize=(15, 5), sharex=True)\n",
    "fig.suptitle('Performance of 2x512 MLP on MNIST using JAX')\n",
    "axs[0].set_title('Accuracy')\n",
    "axs[0].plot(train_acc, label='train')\n",
    "axs[0].plot(test_acc, label='test')\n",
    "axs[0].set_ylabel('Accuracy')\n",
    "axs[0].set_xlabel('Training epochs')\n",
    "axs[0].legend()\n",
    "axs[1].set_title('Loss')\n",
    "axs[1].plot(train_loss, label='train')\n",
    "axs[1].plot(test_loss, label='test')\n",
    "axs[1].set_ylabel('Cross-entropy loss')\n",
    "axs[1].set_xlabel('Training epochs')\n",
    "plt.plot()"
   ]
  },
  {
   "attachments": {},
   "cell_type": "markdown",
   "metadata": {},
   "source": [
    "## Further work\n",
    "\n",
    "Next up:\n",
    "- use Adam from `optax` library\n",
    "\n",
    "In order to really understand and work with the code, I would suggest the following tasks:\n",
    "- run the code for different architectures and hyperparameters (the `step_size`, or learning rate, is a good starting point, so is the architecture defined in `layer_sizes`, or the nonlinear activation function used)\n",
    "- implement the network in an `MLP` class rather than passing around the `params` list\n",
    "- create and use a validation set in the training loop\n",
    "- using the validation dataset, implement early stopping such that training is stopped when the loss on the validation dataset stops decreasing\n",
    "- using the validation dataset, run a cross-validation experiment to compare different network architectures and hyperparameters\n",
    "- implement shuffling for the batches\n",
    "- use a DataLoader (from PyTorch or Tensorflow)\n",
    "- improve the optimizer - for example by adding momentum, a learning rate decay, or a learning rate schedule"
   ]
  },
  {
   "attachments": {},
   "cell_type": "markdown",
   "metadata": {},
   "source": []
  }
 ],
 "metadata": {
  "interpreter": {
   "hash": "d9d41da3d759eab0d4ebf46483aa2525ee9e8e52c6441d9f13cc168fd5745a39"
  },
  "kernelspec": {
   "display_name": "Python 3.8.10 ('teaching-kL1iKbCK')",
   "language": "python",
   "name": "python3"
  },
  "language_info": {
   "codemirror_mode": {
    "name": "ipython",
    "version": 3
   },
   "file_extension": ".py",
   "mimetype": "text/x-python",
   "name": "python",
   "nbconvert_exporter": "python",
   "pygments_lexer": "ipython3",
   "version": "3.8.10"
  },
  "orig_nbformat": 4
 },
 "nbformat": 4,
 "nbformat_minor": 2
}
